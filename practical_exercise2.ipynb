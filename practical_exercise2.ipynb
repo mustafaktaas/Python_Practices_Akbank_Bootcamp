{
 "cells": [
  {
   "cell_type": "markdown",
   "metadata": {
    "id": "tBDsFMQwBs6Z"
   },
   "source": [
    "# Practical exercise 2:  You are a game developer :)\n",
    "\n",
    "In this practical exercise you are a game developer. You will program your first game – Rock, Paper, Scissors.\n",
    "\n",
    "If you are not familiar with the game, you can read about it here: https://en.wikipedia.org/wiki/Rock_paper_scissors.\n",
    "\n",
    "You will program the game step by step. Please read the instructions carefully. There are hints and important explanations that will help you with this exercise."
   ]
  },
  {
   "cell_type": "markdown",
   "metadata": {
    "id": "ymULFKyosM3d"
   },
   "source": [
    "##Warm up\n",
    "\n",
    "Each player can choose between the three actions \"rock\", \"paper\" and \"scissors\". First, you need to create a list that contains all possible actions. "
   ]
  },
  {
   "cell_type": "code",
   "execution_count": 3,
   "metadata": {
    "id": "0w6HGZBvsvru"
   },
   "outputs": [],
   "source": [
    "#Please create a list containing the three actions of the game.\n",
    "possible_actions = [\"rock\", \"paper\", \"scissors\"]"
   ]
  },
  {
   "cell_type": "markdown",
   "metadata": {
    "id": "cnWVzlo1vBy8"
   },
   "source": [
    "# Choose an action\n",
    "\n",
    "Now you have the list with the actions ready. The next step is to let Python randomly choose an action from this list. Each player has to make a choice, so Python has to make a choice for player 1 and another one for player 2.\n",
    "\n",
    "📌The built-in module \"random\" can help you with this. As you might remember from previous lessons you can use the .randint() method to generate random numbers.\n",
    "\n",
    "📌📌There is another method in the random module called .choice(). It takes a list as input and selects an item randomly from that list.\n",
    "\n"
   ]
  },
  {
   "cell_type": "code",
   "execution_count": 4,
   "metadata": {
    "id": "bdlEyJC2xPOw"
   },
   "outputs": [
    {
     "name": "stdout",
     "output_type": "stream",
     "text": [
      "Player1: paper\n",
      "Player2: paper\n"
     ]
    }
   ],
   "source": [
    "#Import the random library\n",
    "import random\n",
    "\n",
    "#Select a random action for each player\n",
    "player1_choice = random.choice(possible_actions)\n",
    "player2_choice = possible_actions[random.randint(0,2)]\n",
    "\n",
    "#Use the print function to print the players choices\n",
    "print(\"Player1:\", player1_choice)\n",
    "print(\"Player2:\", player2_choice)"
   ]
  },
  {
   "cell_type": "markdown",
   "metadata": {
    "id": "Yr7uQq1J2k6p"
   },
   "source": [
    "# Determine the winner\n",
    "\n",
    "So, who won? To determine the winner, you first have to specify all possible outcomes of the game. Then you can use conditional statements to specify which outcome will lead to a win for player 1 or player 2, or a tie.\n",
    "\n",
    "First, let's start with the outcome that both users chose the same action: a tie!\n",
    "In case of a tie, the game should print the message \"Tie! Both players chose the same action.\" to the screen.\n",
    "\n",
    "📌Use conditional statements to check whether the players actions are equal to each other and *if* this condition is true the message should be printed."
   ]
  },
  {
   "cell_type": "code",
   "execution_count": 6,
   "metadata": {
    "id": "8S1F2r8NtEoN"
   },
   "outputs": [
    {
     "name": "stdin",
     "output_type": "stream",
     "text": [
      "Enter a choice (rock, paper, scissors):  rock\n"
     ]
    },
    {
     "name": "stdout",
     "output_type": "stream",
     "text": [
      "Tie! Both players chose the same action.\n"
     ]
    }
   ],
   "source": [
    "#1 - Tie Condition\n",
    "#Please write an if statement to check if the players chose the same action\n",
    "\n",
    "if player1_choice == player2_choice:\n",
    "    print(\"Tie! Both players chose the same action.\")\n"
   ]
  },
  {
   "cell_type": "markdown",
   "metadata": {
    "id": "6aKSif7rItma"
   },
   "source": [
    "Now, let's focus on the remaining outcomes. We have three different actions: rock, paper and scissors.\n",
    "\n",
    "This is a list of all the possible combinations (without those that result in a tie):\n",
    "\n",
    "1.   (paper, rock)\n",
    "2.   (paper, scissors)\n",
    "3.   (scissors, rock)\n",
    "4.   (scissors, paper)\n",
    "5.   (rock, paper)\n",
    "6.   (rock, scissors)\n",
    "\n",
    "You need to check all these conditions in order to determine the winner.\n",
    "\n",
    "📌You can use the \"and\" operator to combine two actions in one conditional statement.\n",
    "\n",
    "📌📌Another approach is using nested if statements to check whether the action of player 2 beats the action of player 1.\n",
    "\n",
    "🧨💣In the cell, first copy the code you wrote for \"Tie\" conditions. Then continue to add the other outcomes using \"elif\".\n",
    "\n",
    "\n"
   ]
  },
  {
   "cell_type": "code",
   "execution_count": null,
   "metadata": {
    "id": "Ix9sskr5z6Td"
   },
   "outputs": [],
   "source": [
    "#Copy your code of the tie-conditions here\n",
    "#1 - Tie Condition\n",
    "if player1_choice == player2_choice:\n",
    "    print(\"Tie! Both players chose the same action.\")\n",
    "\n",
    "\n",
    "\n",
    "#2-Winning Conditions\n",
    "#Please add the conditional statements for the remaining combinations \n",
    "\n",
    "elif player1_choice == paper and player2_choice == rock:\n",
    "    print(\"Player1 Win!!!\")\n",
    "elif player1_choice == paper and player2_choice == scissors:\n",
    "    print(\"Player2 Win!!!\")\n",
    "elif player1_choice == scissors and player2_choice == rock:\n",
    "    print(\"Player2 Win!!!\")\n",
    "elif player1_choice == scissors and player2_choice == paper:\n",
    "    print(\"Player1 Win!!!\")\n",
    "elif player1_choice == rock and player2_choice == paper:\n",
    "    print(\"Player2 Win!!!\")\n",
    "elif player1_choice == rock and player2_choice == scissors:\n",
    "    print(\"Player1 Win!!!\")\n"
   ]
  },
  {
   "cell_type": "markdown",
   "metadata": {
    "id": "7Ixf-AHqIhcV"
   },
   "source": [
    "# Best of 3 or 5 or single round ? :)\n",
    "\n",
    "Now that you have your game set, let's also ask the users how many rounds they want to play.\n",
    "\n",
    "📌 You can use the input function for this.\n",
    "\n",
    "And because there are multiple rounds, you need to keep track of the score. For this, you need to create a variable for each player that is 0 in the beginning.\n"
   ]
  },
  {
   "cell_type": "code",
   "execution_count": 7,
   "metadata": {
    "id": "_kbrpXXkBU_d"
   },
   "outputs": [
    {
     "name": "stdin",
     "output_type": "stream",
     "text": [
      "How many rounds they want to play :  2\n"
     ]
    }
   ],
   "source": [
    "#Please ask the user how many rounds they want to play\n",
    "total_round = input('How many rounds they want to play : ')\n",
    "\n",
    "#Scores of players\n",
    "player1_score = 0\n",
    "player2_score = 0\n"
   ]
  },
  {
   "cell_type": "markdown",
   "metadata": {
    "id": "nzIGT6s_CWvP"
   },
   "source": [
    "# Use a for loop to specify the number of rounds \n",
    "The user specified how many rounds he or she wants to play. \n",
    "\n",
    "One way to use this information is to put the game inside of a for loop.\n",
    "\n",
    "📌 You can use a for loop and the range() function to repeat the loop for a specified number of times.\n",
    "\n",
    "📌📌 Don't forget to convert the user input to the data type integer. You can use the int() function for this.\n",
    "\n",
    "📌📌📌 Don't forget to increment or add 1 to the score of the players that win, and print the current score after each round. You can use the assignment operator +=1 for this. "
   ]
  },
  {
   "cell_type": "code",
   "execution_count": 11,
   "metadata": {
    "id": "Wy7CLLRNCV3X"
   },
   "outputs": [
    {
     "name": "stdin",
     "output_type": "stream",
     "text": [
      "How many rounds do you want to play?  2\n"
     ]
    },
    {
     "name": "stdout",
     "output_type": "stream",
     "text": [
      "Player1: scissors\n",
      "Player2: scissors\n",
      "Tie! Both player chose same action.\n",
      "Score: Player1 = 0 Player2 = 0\n",
      "Player1: paper\n",
      "Player2: scissors\n",
      "Player2 Win!!!\n",
      "Score: Player1 = 0 Player2 = 1\n"
     ]
    }
   ],
   "source": [
    "#Collect all the components of your program to run it in a for loop\n",
    "#Import the random library\n",
    "import random\n",
    "\n",
    "#Add the code to create a list containing the three actions of the game.\n",
    "possible_actions = ['rock', 'paper', 'scissors']\n",
    "\n",
    "#Add the code to set the scores of players to 0\n",
    "player1_score = 0\n",
    "player2_score = 0\n",
    "\n",
    "#Add the code to ask the user how many rounds they want to play\n",
    "total_round = input(\"How many rounds do you want to play? \")\n",
    "\n",
    "#Write a for loop and put the game inside\n",
    "for i in range(int(total_round)):\n",
    "\n",
    "  #Add the code to select a random action for each player\n",
    "  player1_choice = random.choice(possible_actions)\n",
    "  player2_choice = possible_actions[random.randint(0,2)]\n",
    "\n",
    "  #Add the code to print the players choices\n",
    "  print(\"Player1:\", player1_choice)\n",
    "  print(\"Player2:\", player2_choice)\n",
    "\n",
    "  #Add the tie condition\n",
    "  if player1_choice == player2_choice:\n",
    "    print(\"Tie! Both player chose same action.\")\n",
    "  elif player1_choice == \"paper\" and player2_choice == \"rock\":\n",
    "    print(\"Player1 Win!!!\")\n",
    "    player1_score += 1\n",
    "  elif player1_choice == \"paper\" and player2_choice == \"scissors\":\n",
    "    print(\"Player2 Win!!!\")\n",
    "    player2_score += 1\n",
    "  elif player1_choice == \"scissors\" and player2_choice == \"rock\":\n",
    "    print(\"Player2 Win!!!\")\n",
    "    player2_score += 1\n",
    "  elif player1_choice == \"scissors\" and player2_choice == \"paper\":\n",
    "    print(\"Player1 Win!!!\")\n",
    "    player1_score += 1\n",
    "  elif player1_choice == \"rock\" and player2_choice == \"paper\":\n",
    "    print(\"Player2 Win!!!\")\n",
    "    player2_score += 1\n",
    "  elif player1_choice == \"rock\" and player2_choice == \"scissors\":\n",
    "    print(\"Player1 Win!!!\")\n",
    "    player1_score += 1\n",
    "\n",
    "  #print the score\n",
    "  print(\"Score:\", \"Player1 =\",player1_score, \"Player2 =\",player2_score)\n",
    "\n",
    " "
   ]
  },
  {
   "cell_type": "markdown",
   "metadata": {
    "id": "QQIXQsmRwGqB"
   },
   "source": [
    "# Use a while loop to specify the number of rounds - Part 1\n",
    "\n",
    "In this module we also learned about while loops. Another way to play the game over and over again is using a while loop. \n",
    "\n",
    "This time, let's put the game inside a while loop.\n",
    "\n",
    "📌 You can directly use the value *True* to specify that the while loop should be executed. \n",
    "\n",
    "💣 By the way: Another very common name for True/False values is \"**Boolean values**\" or \"**Bools**\" in short.\n",
    "\n",
    "🧨🧨 Caution! Since we run the game in an while loop, you have to stop the game manually. Otherwise it will run infinitely.\n"
   ]
  },
  {
   "cell_type": "code",
   "execution_count": 13,
   "metadata": {
    "id": "dvTr4HR4wF4n"
   },
   "outputs": [
    {
     "name": "stdout",
     "output_type": "stream",
     "text": [
      "Player1: rock\n",
      "Player2: rock\n",
      "Tie! Both player chose same action.\n",
      "Score: Player1 = 0 Player2 = 0\n",
      "Player1: paper\n",
      "Player2: paper\n",
      "Tie! Both player chose same action.\n",
      "Score: Player1 = 0 Player2 = 0\n",
      "Player1: rock\n",
      "Player2: paper\n",
      "Player2 Win!!!\n",
      "Score: Player1 = 0 Player2 = 1\n",
      "Player1: paper\n",
      "Player2: paper\n",
      "Tie! Both player chose same action.\n",
      "Score: Player1 = 0 Player2 = 1\n",
      "Player1: rock\n",
      "Player2: scissors\n",
      "Player1 Win!!!\n"
     ]
    }
   ],
   "source": [
    "#Collect all the components of your program to run it in a for loop\n",
    "#Import the random library\n",
    "import random\n",
    "\n",
    "#Add the code to create a list containing the three actions of the game.\n",
    "possible_actions = ['rock', 'paper', 'scissors']\n",
    "\n",
    "#Add the code to set the scores of players to 0\n",
    "player1_score = 0\n",
    "player2_score = 0\n",
    "\n",
    "\n",
    "#Write a while loop\n",
    "while True:\n",
    "\n",
    "  #Add the code to select a random action for each player\n",
    "  player1_choice = random.choice(possible_actions)\n",
    "  player2_choice = possible_actions[random.randint(0,2)]\n",
    "\n",
    "  #Add the code to print the players choices\n",
    "  print(\"Player1:\", player1_choice)\n",
    "  print(\"Player2:\", player2_choice)\n",
    "\n",
    "  #Add the tie condition\n",
    "  if player1_choice == player2_choice:\n",
    "    print(\"Tie! Both player chose same action.\")\n",
    "  elif player1_choice == \"paper\" and player2_choice == \"rock\":\n",
    "    print(\"Player1 Win!!!\")\n",
    "    player1_score += 1\n",
    "  elif player1_choice == \"paper\" and player2_choice == \"scissors\":\n",
    "    print(\"Player2 Win!!!\")\n",
    "    player2_score += 1\n",
    "  elif player1_choice == \"scissors\" and player2_choice == \"rock\":\n",
    "    print(\"Player2 Win!!!\")\n",
    "    player2_score += 1\n",
    "  elif player1_choice == \"scissors\" and player2_choice == \"paper\":\n",
    "    print(\"Player1 Win!!!\")\n",
    "    player1_score += 1\n",
    "  elif player1_choice == \"rock\" and player2_choice == \"paper\":\n",
    "    print(\"Player2 Win!!!\")\n",
    "    player2_score += 1\n",
    "  elif player1_choice == \"rock\" and player2_choice == \"scissors\":\n",
    "    print(\"Player1 Win!!!\")\n",
    "    player1_score += 1\n",
    "    break\n",
    "\n",
    "  #print the score\n",
    "  print(\"Score:\", \"Player1 =\",player1_score, \"Player2 =\",player2_score)\n",
    "\n"
   ]
  },
  {
   "cell_type": "markdown",
   "metadata": {
    "id": "YKVAuxIsjaE6"
   },
   "source": [
    "# Use a while loop to specify the number of rounds - Part 2\n",
    "\n",
    "Now the game runs infinitely and the user can end it manually. But there is a more efficient way to do this: Let's ask the user again how many rounds they want to play, just as you did for the game inside the for loop.\n",
    "\n",
    "To prevent an infinite loop, you need to add a round_counter that is 0 at the beginning. In each round, this counter needs to increase by 1. \n",
    "\n",
    "At the end of your while loop, you need to add an \"if\" condition to check whether the round_counter is equal to the number of rounds that we got from user as an input. If this is the case, we need to use \"**break**\" to end the game.\n",
    "\n",
    "Once we end the game, it would be nice to see a message that prints the winner to the screen. In case of a tie, it should print a message that the game ended in a tie.\n",
    "\n",
    "📌 You can use \"if\" and \"elif\" statements to determine the winner at the end."
   ]
  },
  {
   "cell_type": "code",
   "execution_count": null,
   "metadata": {
    "id": "emrjgYoXjYCR"
   },
   "outputs": [
    {
     "name": "stdin",
     "output_type": "stream",
     "text": [
      "Enter a choice (rock, paper, scissors):  rock\n"
     ]
    },
    {
     "name": "stdout",
     "output_type": "stream",
     "text": [
      "\n",
      "You chose rock, computer chose paper.\n",
      "\n",
      "Paper covers rock! You lose.\n"
     ]
    },
    {
     "name": "stdin",
     "output_type": "stream",
     "text": [
      "Play again? (y/n):  y\n",
      "Enter a choice (rock, paper, scissors):  paper\n"
     ]
    },
    {
     "name": "stdout",
     "output_type": "stream",
     "text": [
      "\n",
      "You chose paper, computer chose rock.\n",
      "\n",
      "Paper covers rock! You win!\n"
     ]
    }
   ],
   "source": [
    "#Collect all the components of your program to run it in a while loop\n",
    "#Import the random library\n",
    "import random\n",
    "\n",
    "while True:\n",
    "    user_action = input(\"Enter a choice (rock, paper, scissors): \")\n",
    "    possible_actions = [\"rock\", \"paper\", \"scissors\"]\n",
    "    computer_action = random.choice(possible_actions)\n",
    "    print(f\"\\nYou chose {user_action}, computer chose {computer_action}.\\n\")\n",
    "\n",
    "    if user_action == computer_action:\n",
    "        print(f\"Both players selected {user_action}. It's a tie!\")\n",
    "    elif user_action == \"rock\":\n",
    "        if computer_action == \"scissors\":\n",
    "            print(\"Rock smashes scissors! You win!\")\n",
    "        else:\n",
    "            print(\"Paper covers rock! You lose.\")\n",
    "    elif user_action == \"paper\":\n",
    "        if computer_action == \"rock\":\n",
    "            print(\"Paper covers rock! You win!\")\n",
    "        else:\n",
    "            print(\"Scissors cuts paper! You lose.\")\n",
    "    elif user_action == \"scissors\":\n",
    "        if computer_action == \"paper\":\n",
    "            print(\"Scissors cuts paper! You win!\")\n",
    "        else:\n",
    "            print(\"Rock smashes scissors! You lose.\")\n",
    "\n",
    "    play_again = input(\"Play again? (y/n): \")\n",
    "    if play_again.lower() != \"y\":\n",
    "        break "
   ]
  },
  {
   "cell_type": "code",
   "execution_count": 14,
   "metadata": {},
   "outputs": [
    {
     "name": "stdin",
     "output_type": "stream",
     "text": [
      "How many rounds do you want to play?  3\n"
     ]
    },
    {
     "name": "stdout",
     "output_type": "stream",
     "text": [
      "Round number: 1\n",
      "Player1: scissors\n",
      "Player2: scissors\n",
      "Tie! Both player chose same action.\n",
      "Score: Player1 = 0 Player2 = 0\n",
      "Round number: 2\n",
      "Player1: rock\n",
      "Player2: scissors\n",
      "Winner is: Player 1\n",
      "Score: Player1 = 1 Player2 = 0\n",
      "Round number: 3\n",
      "Player1: paper\n",
      "Player2: scissors\n",
      "Winner is: Player 2\n",
      "Score: Player1 = 1 Player2 = 1\n",
      "There is no winner, tie.\n"
     ]
    }
   ],
   "source": [
    "#Collect all the components of your program to run it in a while loop\n",
    "#Import the random library\n",
    "import random\n",
    "\n",
    "#Add the code to create a list containing the three actions of the game.\n",
    "action_list = ['rock', 'paper', 'scissors']\n",
    "\n",
    "#Add the code to set the scores of players to 0\n",
    "player1_score = 0\n",
    "player2_score = 0\n",
    "#Add a round_counter that is 0 at the beginning\n",
    "round_counter = 0\n",
    "\n",
    "#Add the code to ask the user how many rounds they want to play\n",
    "total_round = input(\"How many rounds do you want to play? \")\n",
    "\n",
    "#Write a while loop and put the game inside\n",
    "while True:\n",
    "\n",
    "  #increase round_counter by 1 and print it\n",
    "  round_counter +=1\n",
    "  print(\"Round number:\", round_counter)\n",
    "\n",
    "  #Add the code to select a random action for each player\n",
    "  player1_choice = random.choice(action_list)\n",
    "  player2_choice = action_list[random.randint(0,2)]\n",
    "\n",
    "  #Add the code to print the players choices\n",
    "  print(\"Player1:\", player1_choice)\n",
    "  print(\"Player2:\", player2_choice)\n",
    "\n",
    "  #Add the tie condition\n",
    "  if player1_choice == player2_choice:\n",
    "    print(\"Tie! Both player chose same action.\")\n",
    "\n",
    "  #Add the remaining condition\n",
    "  elif player1_choice == 'paper':\n",
    "    if player2_choice == 'rock':\n",
    "      print(\"Winner is: Player 1\")\n",
    "      player1_score +=1\n",
    "    else:\n",
    "      print(\"Winner is: Player 2\")\n",
    "      player2_score +=1\n",
    "\n",
    "  elif player1_choice == 'rock':\n",
    "    if player2_choice == 'paper':\n",
    "      print(\"Winner is: Player 2\")\n",
    "      player2_score +=1\n",
    "    else:\n",
    "      print(\"Winner is: Player 1\")\n",
    "      player1_score +=1\n",
    "\n",
    "  elif player1_choice == 'scissors':\n",
    "    if player2_choice == 'paper':\n",
    "      print(\"Winner is: Player 1\")\n",
    "      player1_score +=1\n",
    "    else:\n",
    "      print(\"Winner is: Player 2\")\n",
    "      player2_score +=1\n",
    "\n",
    "  #print the score\n",
    "  print(\"Score:\", \"Player1 =\",player1_score, \"Player2 =\",player2_score)\n",
    "\n",
    "  #stop the while loop if the round_counter equals the number of total rounds\n",
    "  if round_counter == int(total_round):\n",
    "    break\n",
    "#Print the outcome of the game by using conditional statements\n",
    "if player1_score == player2_score:\n",
    "  print(\"There is no winner, tie.\")\n",
    "elif player1_score > player2_score:\n",
    "  print(\"Player 1 won with score\", player1_score, \":\", player2_score)\n",
    "elif player1_score < player2_score:\n",
    "  print(\"Player 2 won with score\", player1_score, \":\", player2_score)   "
   ]
  },
  {
   "cell_type": "code",
   "execution_count": null,
   "metadata": {},
   "outputs": [],
   "source": []
  }
 ],
 "metadata": {
  "colab": {
   "collapsed_sections": [],
   "name": "practical_exercise2.ipynb",
   "provenance": []
  },
  "kernelspec": {
   "display_name": "Python 3 (ipykernel)",
   "language": "python",
   "name": "python3"
  },
  "language_info": {
   "codemirror_mode": {
    "name": "ipython",
    "version": 3
   },
   "file_extension": ".py",
   "mimetype": "text/x-python",
   "name": "python",
   "nbconvert_exporter": "python",
   "pygments_lexer": "ipython3",
   "version": "3.9.12"
  }
 },
 "nbformat": 4,
 "nbformat_minor": 4
}
