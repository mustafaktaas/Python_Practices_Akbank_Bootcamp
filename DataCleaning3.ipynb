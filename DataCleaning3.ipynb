{
  "cells": [
    {
      "cell_type": "markdown",
      "metadata": {
        "id": "view-in-github",
        "colab_type": "text"
      },
      "source": [
        "<a href=\"https://colab.research.google.com/github/mustafaktaas/Python_Practices_Akbank_Bootcamp/blob/main/DataCleaning3.ipynb\" target=\"_parent\"><img src=\"https://colab.research.google.com/assets/colab-badge.svg\" alt=\"Open In Colab\"/></a>"
      ]
    },
    {
      "cell_type": "markdown",
      "metadata": {
        "id": "15177c1c"
      },
      "source": [
        "#Chapter 3: Data cleaning exercise\n",
        "\n",
        "### Sales department performance analysis\n",
        "\n",
        "The HR department wants to analyze the performance of the employees in the sales department.\n",
        "\n",
        "### Data Reading\n",
        "Rachel wrote a text file employee_revenue.txt including all necessary information, but she needs help to extract the necessary information.\n",
        "\n",
        "Start by uploading the employee_revenue file to the working directory.\n",
        "\n",
        "📌 Use the .read() method to open the text file in read mode and assign it to the variable \"data\".\n"
      ],
      "id": "15177c1c"
    },
    {
      "cell_type": "code",
      "execution_count": null,
      "metadata": {
        "id": "da79a8da",
        "colab": {
          "base_uri": "https://localhost:8080/",
          "height": 17
        },
        "outputId": "de60b8cb-3977-4a43-df3a-4529cc28dfae"
      },
      "outputs": [
        {
          "output_type": "display_data",
          "data": {
            "text/plain": [
              "<IPython.core.display.Javascript object>"
            ],
            "application/javascript": [
              "\n",
              "  for (rule of document.styleSheets[0].cssRules){\n",
              "    if (rule.selectorText=='body') {\n",
              "      rule.style.fontSize = '25px'\n",
              "      break\n",
              "    }\n",
              "  }\n",
              "  "
            ]
          },
          "metadata": {}
        },
        {
          "output_type": "display_data",
          "data": {
            "text/plain": [
              "<IPython.core.display.Javascript object>"
            ],
            "application/javascript": [
              "\n",
              "  for (rule of document.styleSheets[0].cssRules){\n",
              "    if (rule.selectorText=='body') {\n",
              "      rule.style.fontSize = '25px'\n",
              "      break\n",
              "    }\n",
              "  }\n",
              "  "
            ]
          },
          "metadata": {}
        },
        {
          "output_type": "display_data",
          "data": {
            "text/plain": [
              "<IPython.core.display.Javascript object>"
            ],
            "application/javascript": [
              "\n",
              "  for (rule of document.styleSheets[0].cssRules){\n",
              "    if (rule.selectorText=='body') {\n",
              "      rule.style.fontSize = '25px'\n",
              "      break\n",
              "    }\n",
              "  }\n",
              "  "
            ]
          },
          "metadata": {}
        }
      ],
      "source": [
        "#Open the file in read mode\n"
      ],
      "id": "da79a8da"
    },
    {
      "cell_type": "code",
      "execution_count": null,
      "metadata": {
        "id": "75a5de52"
      },
      "outputs": [],
      "source": [
        "#Print the data\n"
      ],
      "id": "75a5de52"
    },
    {
      "cell_type": "markdown",
      "metadata": {
        "id": "33d4f7ef"
      },
      "source": [
        "### Data Cleaning\n",
        "\n",
        "You can see that the data needs to be cleaned and information has to be extracted from these lines. \n",
        "\n",
        "To be able to clean the data, you need to separate the text into lines.\n",
        "\n",
        "📌 Use the .splitlines() method."
      ],
      "id": "33d4f7ef"
    },
    {
      "cell_type": "code",
      "execution_count": null,
      "metadata": {
        "id": "9a1a651d"
      },
      "outputs": [],
      "source": [
        "#Seperate the data into lines\n"
      ],
      "id": "9a1a651d"
    },
    {
      "cell_type": "markdown",
      "metadata": {
        "id": "CKkeig2poz7w"
      },
      "source": [
        "### Clean the data line by line\n",
        "\n",
        "Start to clean the data for the first line.\n",
        "\n",
        "📌 Use the .strip() method to remove the whitespaces from the edges of the string."
      ],
      "id": "CKkeig2poz7w"
    },
    {
      "cell_type": "code",
      "execution_count": null,
      "metadata": {
        "id": "2332622c"
      },
      "outputs": [],
      "source": [
        "#Take the first line\n"
      ],
      "id": "2332622c"
    },
    {
      "cell_type": "code",
      "execution_count": null,
      "metadata": {
        "id": "26219c0d"
      },
      "outputs": [],
      "source": [
        "#Remove the whitespaces from the edges\n"
      ],
      "id": "26219c0d"
    },
    {
      "cell_type": "markdown",
      "metadata": {
        "id": "ed90bfc6"
      },
      "source": [
        "Next, you need to fix the capitalization issues.\n",
        "\n",
        "📌 Use the .lower() method to convert the text to lowercase.\n",
        "\n",
        "📌 Then use the .capitalize() method to capitalize the first letter."
      ],
      "id": "ed90bfc6"
    },
    {
      "cell_type": "code",
      "execution_count": null,
      "metadata": {
        "id": "ef8bca74"
      },
      "outputs": [],
      "source": [
        "#Convert the string to lowercase\n"
      ],
      "id": "ef8bca74"
    },
    {
      "cell_type": "code",
      "execution_count": null,
      "metadata": {
        "id": "d4be9443"
      },
      "outputs": [],
      "source": [
        "#Capitalize the first character\n"
      ],
      "id": "d4be9443"
    },
    {
      "cell_type": "markdown",
      "metadata": {
        "id": "f89b01c4"
      },
      "source": [
        "### Information Extraction\n",
        "\n",
        "To extract the information, you need to split the sentence into words. \n",
        "\n",
        "📌 Use the .split() method.\n"
      ],
      "id": "f89b01c4"
    },
    {
      "cell_type": "code",
      "execution_count": null,
      "metadata": {
        "id": "04ede2fd"
      },
      "outputs": [],
      "source": [
        "#Split the sentece into words\n"
      ],
      "id": "04ede2fd"
    },
    {
      "cell_type": "markdown",
      "metadata": {
        "id": "9138eb5b"
      },
      "source": [
        "You might noticed that the first element in the list is the name and the third element is the number of calls.\n",
        "\n",
        "📌 Use the indeces to extract the name and number of calls."
      ],
      "id": "9138eb5b"
    },
    {
      "cell_type": "code",
      "execution_count": null,
      "metadata": {
        "id": "897c59e5"
      },
      "outputs": [],
      "source": [
        "#Use the index 0 to access the name element\n"
      ],
      "id": "897c59e5"
    },
    {
      "cell_type": "code",
      "execution_count": null,
      "metadata": {
        "id": "98103332"
      },
      "outputs": [],
      "source": [
        "#Use the index 2 to access the number of calls element\n"
      ],
      "id": "98103332"
    },
    {
      "cell_type": "markdown",
      "metadata": {
        "id": "etif7Kb3tEUC"
      },
      "source": [
        "So far so good!\n",
        "\n",
        "But as you can see the sentence order is not the same after the 7th element.\n",
        "\n",
        "To extract the average deal size you need to come up with a different approach. You can use the \"$\" sign to find the corresponding element.\n",
        "\n",
        "📌 Loop over the list to find the element that includes the \"$\" sign.\n",
        "\n",
        "📌 Then, use the .split() method to divide the string into the number and the $ sign."
      ],
      "id": "etif7Kb3tEUC"
    },
    {
      "cell_type": "code",
      "execution_count": null,
      "metadata": {
        "id": "443a9ddf"
      },
      "outputs": [],
      "source": [
        "#Find the element with the \"$\" sign\n",
        "\n",
        "  #Divide the number from it\n",
        "\n",
        "#Print the average deal size\n"
      ],
      "id": "443a9ddf"
    },
    {
      "cell_type": "markdown",
      "metadata": {
        "id": "1332df7e"
      },
      "source": [
        "Similarly, we can use the string \"dollars\" to extract the revenue, which is the element right before \"dollars\".\n",
        "\n",
        "📌 Use the .index() method to identify the index for the \"dollars\" element.\n",
        "\n",
        "📌 Then, use this index to specify and extract the revenue."
      ],
      "id": "1332df7e"
    },
    {
      "cell_type": "code",
      "execution_count": null,
      "metadata": {
        "id": "a00945b0"
      },
      "outputs": [],
      "source": [
        "#Find the index of element \"dollars\"\n",
        "\n"
      ],
      "id": "a00945b0"
    },
    {
      "cell_type": "code",
      "execution_count": null,
      "metadata": {
        "id": "c663bd03"
      },
      "outputs": [],
      "source": [
        "#Subtract one from the index to identify the index of the revenue element\n"
      ],
      "id": "c663bd03"
    },
    {
      "cell_type": "code",
      "execution_count": null,
      "metadata": {
        "id": "2831e072"
      },
      "outputs": [],
      "source": [
        "#Extract the revenue\n"
      ],
      "id": "2831e072"
    },
    {
      "cell_type": "markdown",
      "metadata": {
        "id": "537ed4c2"
      },
      "source": [
        "Great! You extracted all necessary information.\n",
        "\n",
        "📌 Print the information and check the types of the data."
      ],
      "id": "537ed4c2"
    },
    {
      "cell_type": "code",
      "execution_count": null,
      "metadata": {
        "id": "ace2c99f"
      },
      "outputs": [],
      "source": [
        "#Print out the extracted information\n"
      ],
      "id": "ace2c99f"
    },
    {
      "cell_type": "code",
      "execution_count": null,
      "metadata": {
        "id": "SwAyLOAInasY"
      },
      "outputs": [],
      "source": [
        "#Check the types\n"
      ],
      "id": "SwAyLOAInasY"
    },
    {
      "cell_type": "markdown",
      "metadata": {
        "id": "08f5b5fd"
      },
      "source": [
        "As you can see, we have the type string for all the data, but the average deal size, number of calls, and the revenue need to be integers. \n",
        "\n",
        "📌 Convert the data using the int() function and check again."
      ],
      "id": "08f5b5fd"
    },
    {
      "cell_type": "code",
      "execution_count": null,
      "metadata": {
        "id": "5f42e3f0",
        "colab": {
          "base_uri": "https://localhost:8080/",
          "height": 17
        },
        "outputId": "acab915b-2771-4de7-aad1-093b39f4b058"
      },
      "outputs": [
        {
          "output_type": "display_data",
          "data": {
            "text/plain": [
              "<IPython.core.display.Javascript object>"
            ],
            "application/javascript": [
              "\n",
              "  for (rule of document.styleSheets[0].cssRules){\n",
              "    if (rule.selectorText=='body') {\n",
              "      rule.style.fontSize = '25px'\n",
              "      break\n",
              "    }\n",
              "  }\n",
              "  "
            ]
          },
          "metadata": {}
        },
        {
          "output_type": "display_data",
          "data": {
            "text/plain": [
              "<IPython.core.display.Javascript object>"
            ],
            "application/javascript": [
              "\n",
              "  for (rule of document.styleSheets[0].cssRules){\n",
              "    if (rule.selectorText=='body') {\n",
              "      rule.style.fontSize = '25px'\n",
              "      break\n",
              "    }\n",
              "  }\n",
              "  "
            ]
          },
          "metadata": {}
        }
      ],
      "source": [
        "#Convert the datatypes of average deal size, number of calls, and revenue\n"
      ],
      "id": "5f42e3f0"
    },
    {
      "cell_type": "code",
      "execution_count": null,
      "metadata": {
        "id": "89dc6fa1"
      },
      "outputs": [],
      "source": [
        "#Print out the information again\n"
      ],
      "id": "89dc6fa1"
    },
    {
      "cell_type": "markdown",
      "metadata": {
        "id": "0b194713"
      },
      "source": [
        "Now, you need to apply all the methods and functions to the list that contains the different strings of all employees.\n",
        "\n",
        "📌 Create an empty lists for storing names, number of calls, average deal sizes, and revenues.\n",
        "\n",
        "📌 Use a for loop to iterate through the list with the whole data.\n",
        "\n",
        "📌 Print out the necessary information."
      ],
      "id": "0b194713"
    },
    {
      "cell_type": "code",
      "execution_count": null,
      "metadata": {
        "id": "5a4aab7e"
      },
      "outputs": [],
      "source": [
        "#Create empty lists for the names, number of calls, average deal sizes, revenues\n"
      ],
      "id": "5a4aab7e"
    },
    {
      "cell_type": "code",
      "execution_count": null,
      "metadata": {
        "id": "2366069b"
      },
      "outputs": [],
      "source": [
        "#Loop over the whole data\n",
        "\n",
        "    #Clean the string\n",
        "   \n",
        "\n",
        "    #Split the clean string\n",
        "    \n",
        "    \n",
        "    #Extract the name\n",
        "    \n",
        "\n",
        "    #Extract the average deal size\n",
        " \n",
        "\n",
        "    #Extract the revenue\n",
        "\n",
        "\n",
        "    #Convert to the correct data types\n",
        "\n",
        "\n",
        "    #Append the information to the lists\n",
        "\n",
        "\n",
        "#Print out the information\n"
      ],
      "id": "2366069b"
    },
    {
      "cell_type": "markdown",
      "metadata": {
        "id": "4d848787"
      },
      "source": [
        "Finally, you can make the process even easier and reusable by defining functions.\n",
        "\n",
        "📌 Define the function \"clean_extract\".\n",
        "\n",
        "📌 Use the retured values by assigning them to variables."
      ],
      "id": "4d848787"
    },
    {
      "cell_type": "code",
      "execution_count": null,
      "metadata": {
        "colab": {
          "base_uri": "https://localhost:8080/",
          "height": 17
        },
        "id": "_ipfpGrirCs7",
        "outputId": "5c4f5ebd-b114-4b61-e332-49cc94d13f25"
      },
      "outputs": [
        {
          "output_type": "display_data",
          "data": {
            "text/plain": [
              "<IPython.core.display.Javascript object>"
            ],
            "application/javascript": [
              "\n",
              "  for (rule of document.styleSheets[0].cssRules){\n",
              "    if (rule.selectorText=='body') {\n",
              "      rule.style.fontSize = '25px'\n",
              "      break\n",
              "    }\n",
              "  }\n",
              "  "
            ]
          },
          "metadata": {}
        },
        {
          "output_type": "display_data",
          "data": {
            "text/plain": [
              "<IPython.core.display.Javascript object>"
            ],
            "application/javascript": [
              "\n",
              "  for (rule of document.styleSheets[0].cssRules){\n",
              "    if (rule.selectorText=='body') {\n",
              "      rule.style.fontSize = '25px'\n",
              "      break\n",
              "    }\n",
              "  }\n",
              "  "
            ]
          },
          "metadata": {}
        }
      ],
      "source": [
        "#Create empty lists again\n"
      ],
      "id": "_ipfpGrirCs7"
    },
    {
      "cell_type": "code",
      "execution_count": null,
      "metadata": {
        "id": "tnFT5Fk2qu_x"
      },
      "outputs": [],
      "source": [
        "#Define a function to clean and extract the data\n"
      ],
      "id": "tnFT5Fk2qu_x"
    },
    {
      "cell_type": "code",
      "execution_count": null,
      "metadata": {
        "id": "13b0fe6b"
      },
      "outputs": [],
      "source": [
        "#Assign returned values to variables\n"
      ],
      "id": "13b0fe6b"
    },
    {
      "cell_type": "code",
      "execution_count": null,
      "metadata": {
        "id": "44e38957"
      },
      "outputs": [],
      "source": [
        "#Print out the information\n"
      ],
      "id": "44e38957"
    },
    {
      "cell_type": "markdown",
      "metadata": {
        "id": "26efe652"
      },
      "source": [
        "### Performance Analysis Report\n",
        "\n",
        "Now that you cleaned the string and extracted all the information using the function, you can create performance analysis report for the last month.\n",
        "\n",
        "📌 Assign IDs to each employee.\n",
        "\n",
        "📌 Create dictionaries.\n",
        "\n",
        "📌 Sort the dictionaries.\n",
        "\n",
        "\n"
      ],
      "id": "26efe652"
    },
    {
      "cell_type": "markdown",
      "metadata": {
        "id": "ZT7mAK3M5k3W"
      },
      "source": [
        "First, check how many employees there are and assign the IDs.\n",
        "\n",
        "📌 Use the len() and range() function.\n"
      ],
      "id": "ZT7mAK3M5k3W"
    },
    {
      "cell_type": "code",
      "execution_count": null,
      "metadata": {
        "id": "f20ff52f"
      },
      "outputs": [],
      "source": [
        "#Check the number of employees\n"
      ],
      "id": "f20ff52f"
    },
    {
      "cell_type": "code",
      "execution_count": null,
      "metadata": {
        "id": "5c62caf8"
      },
      "outputs": [],
      "source": [
        "#Generate IDs\n"
      ],
      "id": "5c62caf8"
    },
    {
      "cell_type": "code",
      "execution_count": null,
      "metadata": {
        "id": "28cd8ce6"
      },
      "outputs": [],
      "source": [
        "#Check the number of IDs\n"
      ],
      "id": "28cd8ce6"
    },
    {
      "cell_type": "markdown",
      "metadata": {
        "id": "NKP6Yoto6eqP"
      },
      "source": [
        "With the IDs ready, you need to assign the IDs to the employees.\n",
        "\n",
        "📌 Use the zip() function to pair the employee with the ID.\n",
        "\n",
        "📌 Convert the zip object into a dictionary."
      ],
      "id": "NKP6Yoto6eqP"
    },
    {
      "cell_type": "code",
      "execution_count": null,
      "metadata": {
        "id": "7e56a43f"
      },
      "outputs": [],
      "source": [
        "#Pair the names with the IDs in a dictionary\n"
      ],
      "id": "7e56a43f"
    },
    {
      "cell_type": "markdown",
      "metadata": {
        "id": "429d7b7f"
      },
      "source": [
        "Similarly, create a dictionary for the  employees and their revenues."
      ],
      "id": "429d7b7f"
    },
    {
      "cell_type": "code",
      "execution_count": null,
      "metadata": {
        "id": "aa2c6560"
      },
      "outputs": [],
      "source": [
        "#Pair the names with the revenues\n",
        "\n"
      ],
      "id": "aa2c6560"
    },
    {
      "cell_type": "markdown",
      "metadata": {
        "id": "Ou3ne5Vn76N_"
      },
      "source": [
        "Finally, you need to find the employees with the best and lowest performance.\n",
        "\n",
        "📌 Sort the dictionary using the sorted() function in ascending and descending order.\n"
      ],
      "id": "Ou3ne5Vn76N_"
    },
    {
      "cell_type": "code",
      "execution_count": null,
      "metadata": {
        "id": "d348a929"
      },
      "outputs": [],
      "source": [
        "#Find the lowest performing employees (ascending order)\n"
      ],
      "id": "d348a929"
    },
    {
      "cell_type": "code",
      "execution_count": null,
      "metadata": {
        "id": "3210f1ad"
      },
      "outputs": [],
      "source": [
        "#Find the best performing employees (descending order)\n"
      ],
      "id": "3210f1ad"
    }
  ],
  "metadata": {
    "colab": {
      "provenance": [],
      "include_colab_link": true
    },
    "kernelspec": {
      "display_name": "Python 3",
      "language": "python",
      "name": "python3"
    },
    "language_info": {
      "codemirror_mode": {
        "name": "ipython",
        "version": 3
      },
      "file_extension": ".py",
      "mimetype": "text/x-python",
      "name": "python",
      "nbconvert_exporter": "python",
      "pygments_lexer": "ipython3",
      "version": "3.8.8"
    }
  },
  "nbformat": 4,
  "nbformat_minor": 5
}