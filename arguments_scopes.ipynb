{
 "cells": [
  {
   "cell_type": "code",
   "execution_count": 1,
   "metadata": {
    "id": "P7yJ7Ylt-1LH"
   },
   "outputs": [],
   "source": [
    "def argument_printer(arg_position1, arg_position2):\n",
    "   print('Argument at position 1:', arg_position1)\n",
    "   print('Argument at position 2:', arg_position2)"
   ]
  },
  {
   "cell_type": "code",
   "execution_count": 3,
   "metadata": {
    "colab": {
     "base_uri": "https://localhost:8080/"
    },
    "id": "NrjcK-Nn-69n",
    "outputId": "b4986ba7-c418-4b22-b865-76f4eafc50b4"
   },
   "outputs": [
    {
     "name": "stdout",
     "output_type": "stream",
     "text": [
      "Argument at position 1: value 1\n",
      "Argument at position 2: value 2\n"
     ]
    }
   ],
   "source": [
    "argument_printer('value 1', 'value 2')"
   ]
  },
  {
   "cell_type": "code",
   "execution_count": 4,
   "metadata": {
    "colab": {
     "base_uri": "https://localhost:8080/",
     "height": 189
    },
    "id": "m-tWHR8v--dQ",
    "outputId": "7d08cc51-4318-473f-e88b-1e3df01174f8"
   },
   "outputs": [
    {
     "ename": "TypeError",
     "evalue": "ignored",
     "output_type": "error",
     "traceback": [
      "\u001b[0;31m---------------------------------------------------------------------------\u001b[0m",
      "\u001b[0;31mTypeError\u001b[0m                                 Traceback (most recent call last)",
      "\u001b[0;32m<ipython-input-4-7f6bf81e85b0>\u001b[0m in \u001b[0;36m<module>\u001b[0;34m()\u001b[0m\n\u001b[0;32m----> 1\u001b[0;31m \u001b[0margument_printer\u001b[0m\u001b[0;34m(\u001b[0m\u001b[0;34m)\u001b[0m\u001b[0;34m\u001b[0m\u001b[0;34m\u001b[0m\u001b[0m\n\u001b[0m",
      "\u001b[0;31mTypeError\u001b[0m: argument_printer() missing 2 required positional arguments: 'arg_position1' and 'arg_position2'"
     ]
    }
   ],
   "source": [
    "argument_printer()"
   ]
  },
  {
   "cell_type": "code",
   "execution_count": 8,
   "metadata": {
    "id": "RJKQJPke_EI2"
   },
   "outputs": [],
   "source": [
    "def greetings(first_name, last_name, auto_correction):\n",
    "  if auto_correction == True:\n",
    "    capitalized_first_name = first_name.capitalize()\n",
    "    capitalized_last_name = last_name.capitalize() \n",
    "    print(\"Hello,\", capitalized_first_name, capitalized_last_name) \n",
    "  else: \n",
    "    print(\"Hello,\", first_name, last_name)"
   ]
  },
  {
   "cell_type": "code",
   "execution_count": 11,
   "metadata": {
    "colab": {
     "base_uri": "https://localhost:8080/"
    },
    "id": "CSoeBVAY_H3j",
    "outputId": "abac892b-0e4b-40a4-eb73-47d82b0a347c"
   },
   "outputs": [
    {
     "name": "stdout",
     "output_type": "stream",
     "text": [
      "Hello, Deniz Kaya\n"
     ]
    }
   ],
   "source": [
    "greetings('deNiZ', 'kaYa', True)"
   ]
  },
  {
   "cell_type": "code",
   "execution_count": 12,
   "metadata": {
    "colab": {
     "base_uri": "https://localhost:8080/"
    },
    "id": "vsyb5JTn_RUM",
    "outputId": "715c7f35-31c0-4078-ed46-0135d475ff9e"
   },
   "outputs": [
    {
     "name": "stdout",
     "output_type": "stream",
     "text": [
      "Hello, deNiZ kaYa\n"
     ]
    }
   ],
   "source": [
    "greetings('deNiZ', 'kaYa', False)"
   ]
  },
  {
   "cell_type": "code",
   "execution_count": 14,
   "metadata": {
    "id": "q4K16Fqt_Zz6"
   },
   "outputs": [],
   "source": [
    "def greetings(first_name, last_name, auto_correction = True):\n",
    "  if auto_correction == True: \n",
    "    capitalized_first_name = first_name.capitalize()\n",
    "    capitalized_last_name = last_name.capitalize() \n",
    "    print(\"Hello,\", capitalized_first_name, capitalized_last_name) \n",
    "  else: \n",
    "    print(\"Hello,\", first_name, last_name)"
   ]
  },
  {
   "cell_type": "code",
   "execution_count": 15,
   "metadata": {
    "colab": {
     "base_uri": "https://localhost:8080/"
    },
    "id": "80wsTVOU_rEc",
    "outputId": "80cf03d6-cf88-4a5e-f97c-d422370d3649"
   },
   "outputs": [
    {
     "name": "stdout",
     "output_type": "stream",
     "text": [
      "Hello, Deniz Kaya\n"
     ]
    }
   ],
   "source": [
    "greetings('deNiz', 'kAYa')"
   ]
  },
  {
   "cell_type": "code",
   "execution_count": 16,
   "metadata": {
    "id": "JgeAtvMl_xCu"
   },
   "outputs": [],
   "source": [
    "def car(brand, model, colour):\n",
    "    print('My favourite car is the', brand, model, 'in the colour', colour)"
   ]
  },
  {
   "cell_type": "code",
   "execution_count": 17,
   "metadata": {
    "colab": {
     "base_uri": "https://localhost:8080/"
    },
    "id": "D-7td4Ee_zRD",
    "outputId": "dcd072eb-332a-419d-e420-f846635cf9f1"
   },
   "outputs": [
    {
     "name": "stdout",
     "output_type": "stream",
     "text": [
      "My favourite car is the Audi R8 in the colour black\n"
     ]
    }
   ],
   "source": [
    "car('Audi', 'R8', 'black')"
   ]
  },
  {
   "cell_type": "code",
   "execution_count": 18,
   "metadata": {
    "colab": {
     "base_uri": "https://localhost:8080/"
    },
    "id": "Ko3b8AYP_2Eu",
    "outputId": "d0ca5bd4-5c88-4389-e927-63a9436b7969"
   },
   "outputs": [
    {
     "name": "stdout",
     "output_type": "stream",
     "text": [
      "My favourite car is the Audi R8 in the colour black\n"
     ]
    }
   ],
   "source": [
    "car(colour = 'black', model = 'R8', brand = 'Audi')"
   ]
  },
  {
   "cell_type": "code",
   "execution_count": 19,
   "metadata": {
    "colab": {
     "base_uri": "https://localhost:8080/",
     "height": 134
    },
    "id": "wJuupy38_38x",
    "outputId": "75873234-05e2-4ab4-9b74-a301dc692bab"
   },
   "outputs": [
    {
     "ename": "SyntaxError",
     "evalue": "ignored",
     "output_type": "error",
     "traceback": [
      "\u001b[0;36m  File \u001b[0;32m\"<ipython-input-19-4b6aad4bffeb>\"\u001b[0;36m, line \u001b[0;32m1\u001b[0m\n\u001b[0;31m    car(colour = 'Audi', model = 'R8', 'black')\u001b[0m\n\u001b[0m                                      ^\u001b[0m\n\u001b[0;31mSyntaxError\u001b[0m\u001b[0;31m:\u001b[0m positional argument follows keyword argument\n"
     ]
    }
   ],
   "source": [
    "car(colour = 'Audi', model = 'R8', 'black')"
   ]
  },
  {
   "cell_type": "code",
   "execution_count": 20,
   "metadata": {
    "colab": {
     "base_uri": "https://localhost:8080/"
    },
    "id": "1vBOOa4k_55Z",
    "outputId": "9eca6020-d651-45b4-c29e-70830d651d88"
   },
   "outputs": [
    {
     "name": "stdout",
     "output_type": "stream",
     "text": [
      "13\n"
     ]
    }
   ],
   "source": [
    "number = 13 #Global Variable\n",
    " \n",
    "def change_number():\n",
    " number = 4 #Local Variable\n",
    " \n",
    "change_number()\n",
    "print(number)"
   ]
  },
  {
   "cell_type": "code",
   "execution_count": 23,
   "metadata": {
    "colab": {
     "base_uri": "https://localhost:8080/",
     "height": 207
    },
    "id": "uyBNCtCzABFr",
    "outputId": "fec2ec6b-b8d0-4c2d-88ba-b099e75f0794"
   },
   "outputs": [
    {
     "ename": "NameError",
     "evalue": "ignored",
     "output_type": "error",
     "traceback": [
      "\u001b[0;31m---------------------------------------------------------------------------\u001b[0m",
      "\u001b[0;31mNameError\u001b[0m                                 Traceback (most recent call last)",
      "\u001b[0;32m<ipython-input-23-dc2c014b989b>\u001b[0m in \u001b[0;36m<module>\u001b[0;34m()\u001b[0m\n\u001b[1;32m      5\u001b[0m \u001b[0;34m\u001b[0m\u001b[0m\n\u001b[1;32m      6\u001b[0m \u001b[0mchange_number\u001b[0m\u001b[0;34m(\u001b[0m\u001b[0;34m)\u001b[0m\u001b[0;34m\u001b[0m\u001b[0;34m\u001b[0m\u001b[0m\n\u001b[0;32m----> 7\u001b[0;31m \u001b[0mprint\u001b[0m\u001b[0;34m(\u001b[0m\u001b[0mnum\u001b[0m\u001b[0;34m)\u001b[0m\u001b[0;34m\u001b[0m\u001b[0;34m\u001b[0m\u001b[0m\n\u001b[0m",
      "\u001b[0;31mNameError\u001b[0m: name 'num' is not defined"
     ]
    }
   ],
   "source": [
    "#number = 13\n",
    " \n",
    "def change_number():\n",
    " num = 4\n",
    " \n",
    "change_number()\n",
    "print(num)"
   ]
  },
  {
   "cell_type": "code",
   "execution_count": 24,
   "metadata": {
    "colab": {
     "base_uri": "https://localhost:8080/"
    },
    "id": "_GVRNAhPACz4",
    "outputId": "c3319262-297d-4fc5-a756-a62e701b0949"
   },
   "outputs": [
    {
     "name": "stdout",
     "output_type": "stream",
     "text": [
      "4\n"
     ]
    }
   ],
   "source": [
    "number = 13\n",
    " \n",
    "def change_number():\n",
    " global number \n",
    " number = 4\n",
    " \n",
    "change_number()\n",
    "print(number)"
   ]
  }
 ],
 "metadata": {
  "colab": {
   "collapsed_sections": [],
   "name": "Arguments, Scopes.ipynb",
   "provenance": []
  },
  "kernelspec": {
   "display_name": "Python 3 (ipykernel)",
   "language": "python",
   "name": "python3"
  },
  "language_info": {
   "codemirror_mode": {
    "name": "ipython",
    "version": 3
   },
   "file_extension": ".py",
   "mimetype": "text/x-python",
   "name": "python",
   "nbconvert_exporter": "python",
   "pygments_lexer": "ipython3",
   "version": "3.9.12"
  }
 },
 "nbformat": 4,
 "nbformat_minor": 4
}
