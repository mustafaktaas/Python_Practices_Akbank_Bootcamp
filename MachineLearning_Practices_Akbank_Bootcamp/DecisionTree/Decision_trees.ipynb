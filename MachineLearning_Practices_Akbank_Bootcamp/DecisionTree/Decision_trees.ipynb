{
 "cells": [
  {
   "cell_type": "code",
   "execution_count": 1,
   "id": "a36a6909",
   "metadata": {
    "executionInfo": {
     "elapsed": 2012,
     "status": "ok",
     "timestamp": 1655123877108,
     "user": {
      "displayName": "Ahmet Alp Sarıca",
      "userId": "00819177888909939823"
     },
     "user_tz": -180
    },
    "id": "a36a6909"
   },
   "outputs": [],
   "source": [
    "import pandas as pd\n",
    "from sklearn.tree import DecisionTreeClassifier\n",
    "from sklearn.ensemble import RandomForestClassifier\n",
    "from sklearn.model_selection import train_test_split\n",
    "from sklearn.metrics import classification_report"
   ]
  },
  {
   "cell_type": "code",
   "execution_count": 2,
   "id": "ba8ac7f2",
   "metadata": {
    "colab": {
     "base_uri": "https://localhost:8080/",
     "height": 206
    },
    "executionInfo": {
     "elapsed": 465,
     "status": "ok",
     "timestamp": 1655123881576,
     "user": {
      "displayName": "Ahmet Alp Sarıca",
      "userId": "00819177888909939823"
     },
     "user_tz": -180
    },
    "id": "ba8ac7f2",
    "outputId": "856a8100-e280-4e56-c33d-d94022e7a8b5"
   },
   "outputs": [
    {
     "data": {
      "text/html": [
       "<div>\n",
       "<style scoped>\n",
       "    .dataframe tbody tr th:only-of-type {\n",
       "        vertical-align: middle;\n",
       "    }\n",
       "\n",
       "    .dataframe tbody tr th {\n",
       "        vertical-align: top;\n",
       "    }\n",
       "\n",
       "    .dataframe thead th {\n",
       "        text-align: right;\n",
       "    }\n",
       "</style>\n",
       "<table border=\"1\" class=\"dataframe\">\n",
       "  <thead>\n",
       "    <tr style=\"text-align: right;\">\n",
       "      <th></th>\n",
       "      <th>Survived</th>\n",
       "      <th>Pclass</th>\n",
       "      <th>Sex</th>\n",
       "      <th>Age</th>\n",
       "      <th>SibSp</th>\n",
       "      <th>Parch</th>\n",
       "      <th>Fare</th>\n",
       "      <th>Embarked</th>\n",
       "    </tr>\n",
       "  </thead>\n",
       "  <tbody>\n",
       "    <tr>\n",
       "      <th>0</th>\n",
       "      <td>1</td>\n",
       "      <td>1</td>\n",
       "      <td>0</td>\n",
       "      <td>38.0</td>\n",
       "      <td>1</td>\n",
       "      <td>0</td>\n",
       "      <td>71.2833</td>\n",
       "      <td>0</td>\n",
       "    </tr>\n",
       "    <tr>\n",
       "      <th>1</th>\n",
       "      <td>1</td>\n",
       "      <td>1</td>\n",
       "      <td>0</td>\n",
       "      <td>35.0</td>\n",
       "      <td>1</td>\n",
       "      <td>0</td>\n",
       "      <td>53.1000</td>\n",
       "      <td>2</td>\n",
       "    </tr>\n",
       "    <tr>\n",
       "      <th>2</th>\n",
       "      <td>0</td>\n",
       "      <td>1</td>\n",
       "      <td>1</td>\n",
       "      <td>54.0</td>\n",
       "      <td>0</td>\n",
       "      <td>0</td>\n",
       "      <td>51.8625</td>\n",
       "      <td>2</td>\n",
       "    </tr>\n",
       "    <tr>\n",
       "      <th>3</th>\n",
       "      <td>1</td>\n",
       "      <td>3</td>\n",
       "      <td>0</td>\n",
       "      <td>4.0</td>\n",
       "      <td>1</td>\n",
       "      <td>1</td>\n",
       "      <td>16.7000</td>\n",
       "      <td>2</td>\n",
       "    </tr>\n",
       "    <tr>\n",
       "      <th>4</th>\n",
       "      <td>1</td>\n",
       "      <td>1</td>\n",
       "      <td>0</td>\n",
       "      <td>58.0</td>\n",
       "      <td>0</td>\n",
       "      <td>0</td>\n",
       "      <td>26.5500</td>\n",
       "      <td>2</td>\n",
       "    </tr>\n",
       "  </tbody>\n",
       "</table>\n",
       "</div>"
      ],
      "text/plain": [
       "   Survived  Pclass  Sex   Age  SibSp  Parch     Fare  Embarked\n",
       "0         1       1    0  38.0      1      0  71.2833         0\n",
       "1         1       1    0  35.0      1      0  53.1000         2\n",
       "2         0       1    1  54.0      0      0  51.8625         2\n",
       "3         1       3    0   4.0      1      1  16.7000         2\n",
       "4         1       1    0  58.0      0      0  26.5500         2"
      ]
     },
     "execution_count": 2,
     "metadata": {},
     "output_type": "execute_result"
    }
   ],
   "source": [
    "dataset = pd.read_csv(\"titanic.csv\")\n",
    "dataset.head()"
   ]
  },
  {
   "cell_type": "code",
   "execution_count": 3,
   "id": "7fc13f26",
   "metadata": {
    "executionInfo": {
     "elapsed": 3,
     "status": "ok",
     "timestamp": 1655123882347,
     "user": {
      "displayName": "Ahmet Alp Sarıca",
      "userId": "00819177888909939823"
     },
     "user_tz": -180
    },
    "id": "7fc13f26"
   },
   "outputs": [],
   "source": [
    "X = dataset.drop(\"Survived\", axis=1)\n",
    "y = dataset.loc[:,\"Survived\"]"
   ]
  },
  {
   "cell_type": "code",
   "execution_count": 4,
   "id": "dEuxNI8-J7n5",
   "metadata": {
    "executionInfo": {
     "elapsed": 3,
     "status": "ok",
     "timestamp": 1655123883338,
     "user": {
      "displayName": "Ahmet Alp Sarıca",
      "userId": "00819177888909939823"
     },
     "user_tz": -180
    },
    "id": "dEuxNI8-J7n5"
   },
   "outputs": [],
   "source": [
    "X_train, X_test, y_train, y_test = train_test_split(X, y, test_size=0.3)"
   ]
  },
  {
   "cell_type": "code",
   "execution_count": 5,
   "id": "4a10b767",
   "metadata": {
    "executionInfo": {
     "elapsed": 13,
     "status": "ok",
     "timestamp": 1655123883986,
     "user": {
      "displayName": "Ahmet Alp Sarıca",
      "userId": "00819177888909939823"
     },
     "user_tz": -180
    },
    "id": "4a10b767"
   },
   "outputs": [],
   "source": [
    "decisiontree = DecisionTreeClassifier()\n",
    "randomforest = RandomForestClassifier()"
   ]
  },
  {
   "cell_type": "code",
   "execution_count": 6,
   "id": "d585e3b0",
   "metadata": {
    "colab": {
     "base_uri": "https://localhost:8080/"
    },
    "executionInfo": {
     "elapsed": 12,
     "status": "ok",
     "timestamp": 1655123883986,
     "user": {
      "displayName": "Ahmet Alp Sarıca",
      "userId": "00819177888909939823"
     },
     "user_tz": -180
    },
    "id": "d585e3b0",
    "outputId": "7a1e7b1e-58e8-4702-ef8a-9a8f56b120ec"
   },
   "outputs": [
    {
     "data": {
      "text/plain": [
       "RandomForestClassifier()"
      ]
     },
     "execution_count": 6,
     "metadata": {},
     "output_type": "execute_result"
    }
   ],
   "source": [
    "decisiontree.fit(X_train, y_train)\n",
    "randomforest.fit(X_train, y_train)"
   ]
  },
  {
   "cell_type": "code",
   "execution_count": 7,
   "id": "5c87a31d",
   "metadata": {
    "executionInfo": {
     "elapsed": 8,
     "status": "ok",
     "timestamp": 1655123883987,
     "user": {
      "displayName": "Ahmet Alp Sarıca",
      "userId": "00819177888909939823"
     },
     "user_tz": -180
    },
    "id": "5c87a31d"
   },
   "outputs": [],
   "source": [
    "decisiontree_pred = decisiontree.predict(X_test)\n",
    "randomforest_pred = randomforest.predict(X_test)"
   ]
  },
  {
   "cell_type": "code",
   "execution_count": 8,
   "id": "9516087a",
   "metadata": {
    "colab": {
     "base_uri": "https://localhost:8080/"
    },
    "executionInfo": {
     "elapsed": 8,
     "status": "ok",
     "timestamp": 1655123883987,
     "user": {
      "displayName": "Ahmet Alp Sarıca",
      "userId": "00819177888909939823"
     },
     "user_tz": -180
    },
    "id": "9516087a",
    "outputId": "004d5f9b-905a-4ddd-b7bb-8fca073c9bdf"
   },
   "outputs": [
    {
     "name": "stdout",
     "output_type": "stream",
     "text": [
      "              precision    recall  f1-score   support\n",
      "\n",
      "           0       0.60      0.50      0.55        18\n",
      "           1       0.78      0.84      0.81        37\n",
      "\n",
      "    accuracy                           0.73        55\n",
      "   macro avg       0.69      0.67      0.68        55\n",
      "weighted avg       0.72      0.73      0.72        55\n",
      "\n"
     ]
    }
   ],
   "source": [
    "print(classification_report(y_test, decisiontree_pred))"
   ]
  },
  {
   "cell_type": "code",
   "execution_count": 9,
   "id": "10fc29d7",
   "metadata": {
    "colab": {
     "base_uri": "https://localhost:8080/"
    },
    "executionInfo": {
     "elapsed": 3,
     "status": "ok",
     "timestamp": 1655123884431,
     "user": {
      "displayName": "Ahmet Alp Sarıca",
      "userId": "00819177888909939823"
     },
     "user_tz": -180
    },
    "id": "10fc29d7",
    "outputId": "e424c020-f805-42f3-b036-84549737fa28"
   },
   "outputs": [
    {
     "name": "stdout",
     "output_type": "stream",
     "text": [
      "              precision    recall  f1-score   support\n",
      "\n",
      "           0       0.53      0.50      0.51        18\n",
      "           1       0.76      0.78      0.77        37\n",
      "\n",
      "    accuracy                           0.69        55\n",
      "   macro avg       0.65      0.64      0.64        55\n",
      "weighted avg       0.69      0.69      0.69        55\n",
      "\n"
     ]
    }
   ],
   "source": [
    "print(classification_report(y_test, randomforest_pred))"
   ]
  },
  {
   "cell_type": "code",
   "execution_count": 10,
   "id": "Msoxd5kpwFMf",
   "metadata": {
    "colab": {
     "base_uri": "https://localhost:8080/",
     "height": 575
    },
    "executionInfo": {
     "elapsed": 2034,
     "status": "ok",
     "timestamp": 1655123900802,
     "user": {
      "displayName": "Ahmet Alp Sarıca",
      "userId": "00819177888909939823"
     },
     "user_tz": -180
    },
    "id": "Msoxd5kpwFMf",
    "outputId": "cf874f52-9cae-4fc1-8bc0-9c2f461e3a92"
   },
   "outputs": [
    {
     "data": {
      "image/png": "[encoded data removed]",
      "text/plain": [
       "<Figure size 720x720 with 1 Axes>"
      ]
     },
     "metadata": {
      "needs_background": "light"
     },
     "output_type": "display_data"
    }
   ],
   "source": [
    "from sklearn.tree import plot_tree\n",
    "import matplotlib.pyplot as plt\n",
    "\n",
    "fig = plt.figure(figsize=(10,10))\n",
    "plot_tree(decisiontree,\n",
    "          max_depth=2,\n",
    "          feature_names=X.columns,\n",
    "          filled=True,\n",
    "          impurity=False,\n",
    "          rounded=True,\n",
    "          precision=1)\n",
    "\n",
    "plt.show()"
   ]
  },
  {
   "cell_type": "code",
   "execution_count": null,
   "id": "az4sPaKYEmxC",
   "metadata": {
    "id": "az4sPaKYEmxC"
   },
   "outputs": [],
   "source": []
  }
 ],
 "metadata": {
  "colab": {
   "collapsed_sections": [],
   "name": "DecisionTree_vs_RandomForest.ipynb",
   "provenance": []
  },
  "kernelspec": {
   "display_name": "Python 3 (ipykernel)",
   "language": "python",
   "name": "python3"
  },
  "language_info": {
   "codemirror_mode": {
    "name": "ipython",
    "version": 3
   },
   "file_extension": ".py",
   "mimetype": "text/x-python",
   "name": "python",
   "nbconvert_exporter": "python",
   "pygments_lexer": "ipython3",
   "version": "3.9.12"
  }
 },
 "nbformat": 4,
 "nbformat_minor": 5
}
