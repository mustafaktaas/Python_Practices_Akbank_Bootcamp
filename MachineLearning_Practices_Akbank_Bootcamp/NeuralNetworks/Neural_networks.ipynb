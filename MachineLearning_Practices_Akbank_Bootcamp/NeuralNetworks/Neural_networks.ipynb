{
 "cells": [
  {
   "cell_type": "code",
   "execution_count": 1,
   "metadata": {
    "id": "LcL0U9t4lQDZ"
   },
   "outputs": [],
   "source": [
    "from sklearn.datasets import fetch_openml\n",
    "from sklearn.model_selection import train_test_split\n",
    "\n",
    "X, y = fetch_openml(\"mnist_784\", version=1, return_X_y=True, as_frame=False)\n",
    "X = X / 255.0\n",
    "\n",
    "X_train, X_test, y_train, y_test = train_test_split(X, y, random_state=0, test_size=0.3)"
   ]
  },
  {
   "cell_type": "code",
   "execution_count": 2,
   "metadata": {
    "colab": {
     "base_uri": "https://localhost:8080/",
     "height": 236
    },
    "executionInfo": {
     "elapsed": 473,
     "status": "ok",
     "timestamp": 1655298213344,
     "user": {
      "displayName": "Emir Kiani",
      "userId": "02161389991804253449"
     },
     "user_tz": -180
    },
    "id": "5tnaeak6nChk",
    "outputId": "7c8e32d7-02ee-4273-f549-d9858260b488"
   },
   "outputs": [
    {
     "data": {
      "text/html": [
       "<div>\n",
       "<style scoped>\n",
       "    .dataframe tbody tr th:only-of-type {\n",
       "        vertical-align: middle;\n",
       "    }\n",
       "\n",
       "    .dataframe tbody tr th {\n",
       "        vertical-align: top;\n",
       "    }\n",
       "\n",
       "    .dataframe thead th {\n",
       "        text-align: right;\n",
       "    }\n",
       "</style>\n",
       "<table border=\"1\" class=\"dataframe\">\n",
       "  <thead>\n",
       "    <tr style=\"text-align: right;\">\n",
       "      <th></th>\n",
       "      <th>0</th>\n",
       "      <th>1</th>\n",
       "      <th>2</th>\n",
       "      <th>3</th>\n",
       "      <th>4</th>\n",
       "      <th>5</th>\n",
       "      <th>6</th>\n",
       "      <th>7</th>\n",
       "      <th>8</th>\n",
       "      <th>9</th>\n",
       "      <th>...</th>\n",
       "      <th>775</th>\n",
       "      <th>776</th>\n",
       "      <th>777</th>\n",
       "      <th>778</th>\n",
       "      <th>779</th>\n",
       "      <th>780</th>\n",
       "      <th>781</th>\n",
       "      <th>782</th>\n",
       "      <th>783</th>\n",
       "      <th>label</th>\n",
       "    </tr>\n",
       "  </thead>\n",
       "  <tbody>\n",
       "    <tr>\n",
       "      <th>0</th>\n",
       "      <td>0.0</td>\n",
       "      <td>0.0</td>\n",
       "      <td>0.0</td>\n",
       "      <td>0.0</td>\n",
       "      <td>0.0</td>\n",
       "      <td>0.0</td>\n",
       "      <td>0.0</td>\n",
       "      <td>0.0</td>\n",
       "      <td>0.0</td>\n",
       "      <td>0.0</td>\n",
       "      <td>...</td>\n",
       "      <td>0.0</td>\n",
       "      <td>0.0</td>\n",
       "      <td>0.0</td>\n",
       "      <td>0.0</td>\n",
       "      <td>0.0</td>\n",
       "      <td>0.0</td>\n",
       "      <td>0.0</td>\n",
       "      <td>0.0</td>\n",
       "      <td>0.0</td>\n",
       "      <td>5</td>\n",
       "    </tr>\n",
       "    <tr>\n",
       "      <th>1</th>\n",
       "      <td>0.0</td>\n",
       "      <td>0.0</td>\n",
       "      <td>0.0</td>\n",
       "      <td>0.0</td>\n",
       "      <td>0.0</td>\n",
       "      <td>0.0</td>\n",
       "      <td>0.0</td>\n",
       "      <td>0.0</td>\n",
       "      <td>0.0</td>\n",
       "      <td>0.0</td>\n",
       "      <td>...</td>\n",
       "      <td>0.0</td>\n",
       "      <td>0.0</td>\n",
       "      <td>0.0</td>\n",
       "      <td>0.0</td>\n",
       "      <td>0.0</td>\n",
       "      <td>0.0</td>\n",
       "      <td>0.0</td>\n",
       "      <td>0.0</td>\n",
       "      <td>0.0</td>\n",
       "      <td>0</td>\n",
       "    </tr>\n",
       "    <tr>\n",
       "      <th>2</th>\n",
       "      <td>0.0</td>\n",
       "      <td>0.0</td>\n",
       "      <td>0.0</td>\n",
       "      <td>0.0</td>\n",
       "      <td>0.0</td>\n",
       "      <td>0.0</td>\n",
       "      <td>0.0</td>\n",
       "      <td>0.0</td>\n",
       "      <td>0.0</td>\n",
       "      <td>0.0</td>\n",
       "      <td>...</td>\n",
       "      <td>0.0</td>\n",
       "      <td>0.0</td>\n",
       "      <td>0.0</td>\n",
       "      <td>0.0</td>\n",
       "      <td>0.0</td>\n",
       "      <td>0.0</td>\n",
       "      <td>0.0</td>\n",
       "      <td>0.0</td>\n",
       "      <td>0.0</td>\n",
       "      <td>4</td>\n",
       "    </tr>\n",
       "    <tr>\n",
       "      <th>3</th>\n",
       "      <td>0.0</td>\n",
       "      <td>0.0</td>\n",
       "      <td>0.0</td>\n",
       "      <td>0.0</td>\n",
       "      <td>0.0</td>\n",
       "      <td>0.0</td>\n",
       "      <td>0.0</td>\n",
       "      <td>0.0</td>\n",
       "      <td>0.0</td>\n",
       "      <td>0.0</td>\n",
       "      <td>...</td>\n",
       "      <td>0.0</td>\n",
       "      <td>0.0</td>\n",
       "      <td>0.0</td>\n",
       "      <td>0.0</td>\n",
       "      <td>0.0</td>\n",
       "      <td>0.0</td>\n",
       "      <td>0.0</td>\n",
       "      <td>0.0</td>\n",
       "      <td>0.0</td>\n",
       "      <td>1</td>\n",
       "    </tr>\n",
       "    <tr>\n",
       "      <th>4</th>\n",
       "      <td>0.0</td>\n",
       "      <td>0.0</td>\n",
       "      <td>0.0</td>\n",
       "      <td>0.0</td>\n",
       "      <td>0.0</td>\n",
       "      <td>0.0</td>\n",
       "      <td>0.0</td>\n",
       "      <td>0.0</td>\n",
       "      <td>0.0</td>\n",
       "      <td>0.0</td>\n",
       "      <td>...</td>\n",
       "      <td>0.0</td>\n",
       "      <td>0.0</td>\n",
       "      <td>0.0</td>\n",
       "      <td>0.0</td>\n",
       "      <td>0.0</td>\n",
       "      <td>0.0</td>\n",
       "      <td>0.0</td>\n",
       "      <td>0.0</td>\n",
       "      <td>0.0</td>\n",
       "      <td>9</td>\n",
       "    </tr>\n",
       "  </tbody>\n",
       "</table>\n",
       "<p>5 rows × 785 columns</p>\n",
       "</div>"
      ],
      "text/plain": [
       "     0    1    2    3    4    5    6    7    8    9  ...  775  776  777  778  \\\n",
       "0  0.0  0.0  0.0  0.0  0.0  0.0  0.0  0.0  0.0  0.0  ...  0.0  0.0  0.0  0.0   \n",
       "1  0.0  0.0  0.0  0.0  0.0  0.0  0.0  0.0  0.0  0.0  ...  0.0  0.0  0.0  0.0   \n",
       "2  0.0  0.0  0.0  0.0  0.0  0.0  0.0  0.0  0.0  0.0  ...  0.0  0.0  0.0  0.0   \n",
       "3  0.0  0.0  0.0  0.0  0.0  0.0  0.0  0.0  0.0  0.0  ...  0.0  0.0  0.0  0.0   \n",
       "4  0.0  0.0  0.0  0.0  0.0  0.0  0.0  0.0  0.0  0.0  ...  0.0  0.0  0.0  0.0   \n",
       "\n",
       "   779  780  781  782  783  label  \n",
       "0  0.0  0.0  0.0  0.0  0.0      5  \n",
       "1  0.0  0.0  0.0  0.0  0.0      0  \n",
       "2  0.0  0.0  0.0  0.0  0.0      4  \n",
       "3  0.0  0.0  0.0  0.0  0.0      1  \n",
       "4  0.0  0.0  0.0  0.0  0.0      9  \n",
       "\n",
       "[5 rows x 785 columns]"
      ]
     },
     "execution_count": 2,
     "metadata": {},
     "output_type": "execute_result"
    }
   ],
   "source": [
    "import pandas as pd\n",
    "\n",
    "data = pd.DataFrame(X)\n",
    "data.insert(784, \"label\", y)\n",
    "\n",
    "data.head()"
   ]
  },
  {
   "cell_type": "code",
   "execution_count": 3,
   "metadata": {
    "colab": {
     "base_uri": "https://localhost:8080/"
    },
    "executionInfo": {
     "elapsed": 4,
     "status": "ok",
     "timestamp": 1655298272308,
     "user": {
      "displayName": "Emir Kiani",
      "userId": "02161389991804253449"
     },
     "user_tz": -180
    },
    "id": "7O4b7In3dm4r",
    "outputId": "184d2233-eddb-4476-a8e6-0bc637584552"
   },
   "outputs": [
    {
     "data": {
      "text/plain": [
       "array([0.        , 0.        , 0.        , 0.        , 0.        ,\n",
       "       0.        , 0.        , 0.        , 0.        , 0.        ,\n",
       "       0.        , 0.        , 0.        , 0.        , 0.        ,\n",
       "       0.        , 0.        , 0.        , 0.        , 0.        ,\n",
       "       0.        , 0.        , 0.        , 0.        , 0.        ,\n",
       "       0.        , 0.        , 0.        , 0.        , 0.        ,\n",
       "       0.        , 0.        , 0.        , 0.        , 0.        ,\n",
       "       0.        , 0.        , 0.        , 0.        , 0.        ,\n",
       "       0.        , 0.        , 0.        , 0.        , 0.        ,\n",
       "       0.        , 0.        , 0.        , 0.        , 0.        ,\n",
       "       0.        , 0.        , 0.        , 0.        , 0.        ,\n",
       "       0.        , 0.        , 0.        , 0.        , 0.        ,\n",
       "       0.        , 0.        , 0.        , 0.        , 0.        ,\n",
       "       0.        , 0.        , 0.        , 0.        , 0.        ,\n",
       "       0.        , 0.        , 0.        , 0.        , 0.        ,\n",
       "       0.        , 0.        , 0.        , 0.        , 0.        ,\n",
       "       0.        , 0.        , 0.        , 0.        , 0.        ,\n",
       "       0.        , 0.        , 0.        , 0.        , 0.        ,\n",
       "       0.        , 0.        , 0.        , 0.        , 0.        ,\n",
       "       0.        , 0.        , 0.        , 0.        , 0.        ,\n",
       "       0.        , 0.        , 0.        , 0.        , 0.        ,\n",
       "       0.        , 0.        , 0.        , 0.        , 0.        ,\n",
       "       0.        , 0.        , 0.        , 0.        , 0.        ,\n",
       "       0.        , 0.        , 0.        , 0.        , 0.        ,\n",
       "       0.        , 0.        , 0.        , 0.        , 0.        ,\n",
       "       0.20784314, 0.28627451, 0.69019608, 0.99215686, 0.99215686,\n",
       "       0.99215686, 0.28627451, 0.12156863, 0.        , 0.        ,\n",
       "       0.        , 0.        , 0.        , 0.        , 0.        ,\n",
       "       0.        , 0.        , 0.        , 0.        , 0.        ,\n",
       "       0.        , 0.        , 0.        , 0.        , 0.        ,\n",
       "       0.        , 0.        , 0.24705882, 0.86666667, 0.99215686,\n",
       "       0.98431373, 0.98431373, 0.98431373, 0.98431373, 0.99215686,\n",
       "       0.74117647, 0.07843137, 0.        , 0.        , 0.        ,\n",
       "       0.        , 0.        , 0.        , 0.        , 0.        ,\n",
       "       0.        , 0.        , 0.        , 0.        , 0.        ,\n",
       "       0.        , 0.        , 0.        , 0.        , 0.22745098,\n",
       "       0.90588235, 0.98431373, 0.99215686, 0.98431373, 0.98431373,\n",
       "       0.98431373, 0.98431373, 0.99215686, 0.98431373, 0.86666667,\n",
       "       0.48627451, 0.        , 0.        , 0.        , 0.        ,\n",
       "       0.        , 0.        , 0.        , 0.        , 0.        ,\n",
       "       0.        , 0.        , 0.        , 0.        , 0.        ,\n",
       "       0.        , 0.24705882, 0.90588235, 0.98431373, 0.98431373,\n",
       "       0.99215686, 0.98431373, 0.61568627, 0.55686275, 0.55686275,\n",
       "       0.99215686, 0.98431373, 0.98431373, 0.74117647, 0.12156863,\n",
       "       0.        , 0.        , 0.        , 0.        , 0.        ,\n",
       "       0.        , 0.        , 0.        , 0.        , 0.        ,\n",
       "       0.        , 0.        , 0.        , 0.20784314, 0.86666667,\n",
       "       0.98431373, 0.98431373, 0.98431373, 0.78823529, 0.27843137,\n",
       "       0.03921569, 0.        , 0.        , 0.48627451, 0.98431373,\n",
       "       0.98431373, 0.98431373, 0.27843137, 0.        , 0.        ,\n",
       "       0.        , 0.        , 0.        , 0.        , 0.        ,\n",
       "       0.        , 0.        , 0.        , 0.        , 0.1254902 ,\n",
       "       0.28627451, 1.        , 0.99215686, 0.99215686, 0.99215686,\n",
       "       0.78823529, 0.        , 0.        , 0.        , 0.        ,\n",
       "       0.        , 0.        , 0.56862745, 0.99215686, 0.99215686,\n",
       "       0.99215686, 0.        , 0.        , 0.        , 0.        ,\n",
       "       0.        , 0.        , 0.        , 0.        , 0.        ,\n",
       "       0.        , 0.        , 0.42745098, 0.98431373, 0.99215686,\n",
       "       0.98431373, 0.98431373, 0.7372549 , 0.11764706, 0.        ,\n",
       "       0.        , 0.        , 0.        , 0.        , 0.        ,\n",
       "       0.56470588, 0.98431373, 0.98431373, 0.98431373, 0.        ,\n",
       "       0.        , 0.        , 0.        , 0.        , 0.        ,\n",
       "       0.        , 0.        , 0.        , 0.        , 0.22745098,\n",
       "       0.90588235, 0.98431373, 0.99215686, 0.98431373, 0.76078431,\n",
       "       0.07843137, 0.        , 0.        , 0.        , 0.        ,\n",
       "       0.        , 0.        , 0.        , 0.56470588, 0.98431373,\n",
       "       0.98431373, 0.98431373, 0.        , 0.        , 0.        ,\n",
       "       0.        , 0.        , 0.        , 0.        , 0.        ,\n",
       "       0.        , 0.24705882, 0.90588235, 0.98431373, 0.98431373,\n",
       "       0.99215686, 0.98431373, 0.1372549 , 0.        , 0.        ,\n",
       "       0.        , 0.        , 0.        , 0.        , 0.        ,\n",
       "       0.        , 0.56470588, 0.98431373, 0.98431373, 0.98431373,\n",
       "       0.        , 0.        , 0.        , 0.        , 0.        ,\n",
       "       0.        , 0.        , 0.        , 0.        , 0.56470588,\n",
       "       0.98431373, 0.98431373, 0.98431373, 0.78823529, 0.27843137,\n",
       "       0.03921569, 0.        , 0.        , 0.        , 0.        ,\n",
       "       0.        , 0.        , 0.        , 0.20784314, 0.86666667,\n",
       "       0.98431373, 0.98431373, 0.47843137, 0.        , 0.        ,\n",
       "       0.        , 0.        , 0.        , 0.        , 0.        ,\n",
       "       0.        , 0.08235294, 0.69019608, 0.99215686, 0.99215686,\n",
       "       0.99215686, 0.50980392, 0.        , 0.        , 0.        ,\n",
       "       0.        , 0.        , 0.        , 0.        , 0.        ,\n",
       "       0.        , 0.49019608, 0.99215686, 0.99215686, 0.86666667,\n",
       "       0.2       , 0.        , 0.        , 0.        , 0.        ,\n",
       "       0.        , 0.        , 0.        , 0.        , 0.28627451,\n",
       "       0.98431373, 0.98431373, 0.98431373, 0.57647059, 0.        ,\n",
       "       0.        , 0.        , 0.        , 0.        , 0.        ,\n",
       "       0.        , 0.        , 0.        , 0.41176471, 0.99215686,\n",
       "       0.98431373, 0.98431373, 0.55686275, 0.        , 0.        ,\n",
       "       0.        , 0.        , 0.        , 0.        , 0.        ,\n",
       "       0.        , 0.        , 0.38823529, 0.98431373, 0.98431373,\n",
       "       0.92156863, 0.23921569, 0.        , 0.        , 0.        ,\n",
       "       0.        , 0.        , 0.        , 0.        , 0.02352941,\n",
       "       0.45098039, 0.94509804, 0.99215686, 0.98431373, 0.96470588,\n",
       "       0.48235294, 0.        , 0.        , 0.        , 0.        ,\n",
       "       0.        , 0.        , 0.        , 0.        , 0.        ,\n",
       "       0.99215686, 0.98431373, 0.98431373, 0.55686275, 0.        ,\n",
       "       0.        , 0.        , 0.        , 0.        , 0.        ,\n",
       "       0.        , 0.        , 0.45098039, 0.98431373, 0.98431373,\n",
       "       0.99215686, 0.98431373, 0.5372549 , 0.        , 0.        ,\n",
       "       0.        , 0.        , 0.        , 0.        , 0.        ,\n",
       "       0.        , 0.        , 0.        , 0.99215686, 0.98431373,\n",
       "       0.98431373, 0.55686275, 0.        , 0.        , 0.        ,\n",
       "       0.        , 0.        , 0.        , 0.71372549, 0.70588235,\n",
       "       0.94509804, 0.98431373, 0.98431373, 0.99215686, 0.57647059,\n",
       "       0.03921569, 0.        , 0.        , 0.        , 0.        ,\n",
       "       0.        , 0.        , 0.        , 0.        , 0.        ,\n",
       "       0.        , 0.28627451, 0.99215686, 0.99215686, 0.68627451,\n",
       "       0.28627451, 0.        , 0.        , 0.04313725, 0.28627451,\n",
       "       0.79215686, 1.        , 0.99215686, 0.99215686, 0.99215686,\n",
       "       0.99215686, 0.50980392, 0.        , 0.        , 0.        ,\n",
       "       0.        , 0.        , 0.        , 0.        , 0.        ,\n",
       "       0.        , 0.        , 0.        , 0.        , 0.28627451,\n",
       "       0.98431373, 0.98431373, 0.98431373, 0.98431373, 0.56862745,\n",
       "       0.56470588, 0.62745098, 0.98431373, 0.98431373, 0.99215686,\n",
       "       0.98431373, 0.98431373, 0.98431373, 0.57647059, 0.        ,\n",
       "       0.        , 0.        , 0.        , 0.        , 0.        ,\n",
       "       0.        , 0.        , 0.        , 0.        , 0.        ,\n",
       "       0.        , 0.        , 0.03921569, 0.62352941, 0.98431373,\n",
       "       0.98431373, 0.98431373, 0.99215686, 0.98431373, 0.98431373,\n",
       "       0.98431373, 0.98431373, 0.99215686, 0.98431373, 0.8627451 ,\n",
       "       0.5372549 , 0.03921569, 0.        , 0.        , 0.        ,\n",
       "       0.        , 0.        , 0.        , 0.        , 0.        ,\n",
       "       0.        , 0.        , 0.        , 0.        , 0.        ,\n",
       "       0.        , 0.3254902 , 0.9254902 , 0.98431373, 0.98431373,\n",
       "       0.99215686, 0.98431373, 0.98431373, 0.98431373, 0.98431373,\n",
       "       0.56078431, 0.55686275, 0.07843137, 0.        , 0.        ,\n",
       "       0.        , 0.        , 0.        , 0.        , 0.        ,\n",
       "       0.        , 0.        , 0.        , 0.        , 0.        ,\n",
       "       0.        , 0.        , 0.        , 0.        , 0.        ,\n",
       "       0.23921569, 0.58039216, 0.98431373, 0.99215686, 0.98431373,\n",
       "       0.98431373, 0.67843137, 0.27843137, 0.        , 0.        ,\n",
       "       0.        , 0.        , 0.        , 0.        , 0.        ,\n",
       "       0.        , 0.        , 0.        , 0.        , 0.        ,\n",
       "       0.        , 0.        , 0.        , 0.        , 0.        ,\n",
       "       0.        , 0.        , 0.        , 0.        , 0.        ,\n",
       "       0.        , 0.        , 0.        , 0.        , 0.        ,\n",
       "       0.        , 0.        , 0.        , 0.        , 0.        ,\n",
       "       0.        , 0.        , 0.        , 0.        , 0.        ,\n",
       "       0.        , 0.        , 0.        , 0.        , 0.        ,\n",
       "       0.        , 0.        , 0.        , 0.        , 0.        ,\n",
       "       0.        , 0.        , 0.        , 0.        , 0.        ,\n",
       "       0.        , 0.        , 0.        , 0.        , 0.        ,\n",
       "       0.        , 0.        , 0.        , 0.        , 0.        ,\n",
       "       0.        , 0.        , 0.        , 0.        , 0.        ,\n",
       "       0.        , 0.        , 0.        , 0.        , 0.        ,\n",
       "       0.        , 0.        , 0.        , 0.        , 0.        ,\n",
       "       0.        , 0.        , 0.        , 0.        , 0.        ,\n",
       "       0.        , 0.        , 0.        , 0.        , 0.        ,\n",
       "       0.        , 0.        , 0.        , 0.        , 0.        ,\n",
       "       0.        , 0.        , 0.        , 0.        , 0.        ,\n",
       "       0.        , 0.        , 0.        , 0.        , 0.        ,\n",
       "       0.        , 0.        , 0.        , 0.        , 0.        ,\n",
       "       0.        , 0.        , 0.        , 0.        , 0.        ,\n",
       "       0.        , 0.        , 0.        , 0.        , 0.        ,\n",
       "       0.        , 0.        , 0.        , 0.        , 0.        ,\n",
       "       0.        , 0.        , 0.        , 0.        ])"
      ]
     },
     "execution_count": 3,
     "metadata": {},
     "output_type": "execute_result"
    }
   ],
   "source": [
    "X_train[2]"
   ]
  },
  {
   "cell_type": "code",
   "execution_count": 4,
   "metadata": {
    "colab": {
     "base_uri": "https://localhost:8080/",
     "height": 1000
    },
    "executionInfo": {
     "elapsed": 1008,
     "status": "ok",
     "timestamp": 1655293570714,
     "user": {
      "displayName": "Ahmet Alp Sarıca",
      "userId": "00819177888909939823"
     },
     "user_tz": -180
    },
    "id": "GG0_BlkIuj0i",
    "outputId": "ab51b20b-be2c-4574-8ed3-645c5eec72da"
   },
   "outputs": [
    {
     "data": {
      "image/png": "[encoded data removed]",
      "text/plain": [
       "<Figure size 432x288 with 1 Axes>"
      ]
     },
     "metadata": {
      "needs_background": "light"
     },
     "output_type": "display_data"
    },
    {
     "data": {
      "image/png": "[encoded data removed]",
      "text/plain": [
       "<Figure size 432x288 with 1 Axes>"
      ]
     },
     "metadata": {
      "needs_background": "light"
     },
     "output_type": "display_data"
    },
    {
     "data": {
      "image/png": "[encoded data removed]",
      "text/plain": [
       "<Figure size 432x288 with 1 Axes>"
      ]
     },
     "metadata": {
      "needs_background": "light"
     },
     "output_type": "display_data"
    },
    {
     "data": {
      "image/png": "[encoded data removed]",
      "text/plain": [
       "<Figure size 432x288 with 1 Axes>"
      ]
     },
     "metadata": {
      "needs_background": "light"
     },
     "output_type": "display_data"
    },
    {
     "data": {
      "image/png": "[encoded data removed]",
      "text/plain": [
       "<Figure size 432x288 with 1 Axes>"
      ]
     },
     "metadata": {
      "needs_background": "light"
     },
     "output_type": "display_data"
    }
   ],
   "source": [
    "import matplotlib.pyplot as plt\n",
    "for i in range(5):\n",
    "  plt.imshow(X[i].reshape((28, 28)), cmap='gray')\n",
    "  plt.show()"
   ]
  },
  {
   "cell_type": "code",
   "execution_count": 5,
   "metadata": {
    "colab": {
     "base_uri": "https://localhost:8080/"
    },
    "executionInfo": {
     "elapsed": 1115622,
     "status": "ok",
     "timestamp": 1655294686333,
     "user": {
      "displayName": "Ahmet Alp Sarıca",
      "userId": "00819177888909939823"
     },
     "user_tz": -180
    },
    "id": "RBBwoeTpcopN",
    "outputId": "dbdc8f7b-66b8-4e57-dc07-1969d067af82"
   },
   "outputs": [],
   "source": [
    "from sklearn.neural_network import MLPClassifier\n",
    "\n",
    "mlp = MLPClassifier(hidden_layer_sizes=1, activation = \"logistic\")\n",
    "mlp1 = MLPClassifier(hidden_layer_sizes=100, activation = \"logistic\")\n",
    "mlp2 = MLPClassifier(hidden_layer_sizes=1000, activation = \"logistic\")"
   ]
  },
  {
   "cell_type": "code",
   "execution_count": 6,
   "metadata": {
    "id": "jQlQqcehyOn-"
   },
   "outputs": [
    {
     "name": "stderr",
     "output_type": "stream",
     "text": [
      "C:\\Users\\Mustafa\\anaconda3\\lib\\site-packages\\sklearn\\neural_network\\_multilayer_perceptron.py:692: ConvergenceWarning: Stochastic Optimizer: Maximum iterations (200) reached and the optimization hasn't converged yet.\n",
      "  warnings.warn(\n"
     ]
    },
    {
     "data": {
      "text/plain": [
       "MLPClassifier(activation='logistic', hidden_layer_sizes=1000)"
      ]
     },
     "execution_count": 6,
     "metadata": {},
     "output_type": "execute_result"
    }
   ],
   "source": [
    "mlp.fit(X_train, y_train)\n",
    "mlp1.fit(X_train, y_train)\n",
    "mlp2.fit(X_train, y_train)"
   ]
  },
  {
   "cell_type": "code",
   "execution_count": 7,
   "metadata": {
    "colab": {
     "base_uri": "https://localhost:8080/"
    },
    "executionInfo": {
     "elapsed": 9,
     "status": "ok",
     "timestamp": 1655294757357,
     "user": {
      "displayName": "Ahmet Alp Sarıca",
      "userId": "00819177888909939823"
     },
     "user_tz": -180
    },
    "id": "VubrEoXzXL-e",
    "outputId": "123ddcb5-aa2d-495c-85ba-dd704a05c33f"
   },
   "outputs": [
    {
     "data": {
      "text/plain": [
       "array(['3', '4', '1', ..., '4', '0', '1'], dtype='<U1')"
      ]
     },
     "execution_count": 7,
     "metadata": {},
     "output_type": "execute_result"
    }
   ],
   "source": [
    "predictions_NN = mlp.predict(X_test)\n",
    "predictions_NN"
   ]
  },
  {
   "cell_type": "code",
   "execution_count": 8,
   "metadata": {
    "colab": {
     "base_uri": "https://localhost:8080/"
    },
    "executionInfo": {
     "elapsed": 1218,
     "status": "ok",
     "timestamp": 1655294758571,
     "user": {
      "displayName": "Ahmet Alp Sarıca",
      "userId": "00819177888909939823"
     },
     "user_tz": -180
    },
    "id": "yDpksc17qQne",
    "outputId": "7e7b56b1-5bbf-40ec-f9ac-a4ca2163c204"
   },
   "outputs": [
    {
     "data": {
      "text/plain": [
       "array(['0', '4', '1', ..., '9', '0', '1'], dtype='<U1')"
      ]
     },
     "execution_count": 8,
     "metadata": {},
     "output_type": "execute_result"
    }
   ],
   "source": [
    "predictions_NN1 = mlp1.predict(X_test)\n",
    "predictions_NN1"
   ]
  },
  {
   "cell_type": "code",
   "execution_count": 9,
   "metadata": {
    "colab": {
     "base_uri": "https://localhost:8080/"
    },
    "executionInfo": {
     "elapsed": 1674,
     "status": "ok",
     "timestamp": 1655296669761,
     "user": {
      "displayName": "Ahmet Alp Sarıca",
      "userId": "00819177888909939823"
     },
     "user_tz": -180
    },
    "id": "3L_BMxRi-ozx",
    "outputId": "bc5dacf5-4e42-44e4-fe40-52abffaf46fe"
   },
   "outputs": [
    {
     "data": {
      "text/plain": [
       "array(['0', '4', '1', ..., '9', '0', '1'], dtype='<U1')"
      ]
     },
     "execution_count": 9,
     "metadata": {},
     "output_type": "execute_result"
    }
   ],
   "source": [
    "predictions_NN2 = mlp2.predict(X_test)\n",
    "predictions_NN2"
   ]
  },
  {
   "cell_type": "code",
   "execution_count": 10,
   "metadata": {
    "colab": {
     "base_uri": "https://localhost:8080/",
     "height": 300
    },
    "executionInfo": {
     "elapsed": 406,
     "status": "ok",
     "timestamp": 1655294759586,
     "user": {
      "displayName": "Ahmet Alp Sarıca",
      "userId": "00819177888909939823"
     },
     "user_tz": -180
    },
    "id": "qtOuBm6Yl8i2",
    "outputId": "7962dc7c-2594-41a7-a637-dbb732e808d1"
   },
   "outputs": [
    {
     "name": "stdout",
     "output_type": "stream",
     "text": [
      "Actual Value: 0\n",
      "Predicted Value: 0\n"
     ]
    },
    {
     "data": {
      "image/png": "[encoded data removed]",
      "text/plain": [
       "<Figure size 432x288 with 1 Axes>"
      ]
     },
     "metadata": {
      "needs_background": "light"
     },
     "output_type": "display_data"
    }
   ],
   "source": [
    "print(f\"Actual Value: {y_test[0]}\")\n",
    "print(f\"Predicted Value: {predictions_NN2[0]}\")\n",
    "\n",
    "\n",
    "plt.imshow(X_test[0].reshape((28, 28)), cmap='gray')\n",
    "plt.show()"
   ]
  },
  {
   "cell_type": "code",
   "execution_count": 11,
   "metadata": {
    "colab": {
     "base_uri": "https://localhost:8080/",
     "height": 334
    },
    "executionInfo": {
     "elapsed": 820,
     "status": "ok",
     "timestamp": 1655295241153,
     "user": {
      "displayName": "Ahmet Alp Sarıca",
      "userId": "00819177888909939823"
     },
     "user_tz": -180
    },
    "id": "oYu-x9BEne9s",
    "outputId": "cfe15f21-44ed-46e4-a451-2df40c736662"
   },
   "outputs": [
    {
     "name": "stdout",
     "output_type": "stream",
     "text": [
      "Actual Value: 4\n",
      "Predicted Value For 1 Hidden Layer: 4\n",
      "Predicted Value For 100 Hidden Layer: 4\n",
      "Predicted Value For 1000 Hidden Layer: 4\n"
     ]
    },
    {
     "data": {
      "image/png": "[encoded data removed]",
      "text/plain": [
       "<Figure size 432x288 with 1 Axes>"
      ]
     },
     "metadata": {
      "needs_background": "light"
     },
     "output_type": "display_data"
    }
   ],
   "source": [
    "print(f\"Actual Value: {y_test[1]}\")\n",
    "print(f\"Predicted Value For 1 Hidden Layer: {predictions_NN[1]}\")\n",
    "print(f\"Predicted Value For 100 Hidden Layer: {predictions_NN1[1]}\")\n",
    "print(f\"Predicted Value For 1000 Hidden Layer: {predictions_NN2[1]}\")\n",
    "\n",
    "\n",
    "plt.imshow(X_test[1].reshape((28, 28)), cmap='gray')\n",
    "plt.show()"
   ]
  },
  {
   "cell_type": "code",
   "execution_count": 12,
   "metadata": {
    "colab": {
     "base_uri": "https://localhost:8080/"
    },
    "executionInfo": {
     "elapsed": 279,
     "status": "ok",
     "timestamp": 1655294759860,
     "user": {
      "displayName": "Ahmet Alp Sarıca",
      "userId": "00819177888909939823"
     },
     "user_tz": -180
    },
    "id": "38TTU8eKANTL",
    "outputId": "45d954c5-f62c-497b-d4ef-26b32ccc5a5d"
   },
   "outputs": [
    {
     "data": {
      "text/plain": [
       "array([[1597,   48,    0,  317,    4,    0,    6,    5,   99,    1],\n",
       "       [  15, 1812,    0,   24,    0,    0,  297,  110,  123,    4],\n",
       "       [1391,  125,    0,  318,   31,    0,   23,   38,  175,   14],\n",
       "       [1255,  153,    0,  426,    4,    0,   35,   27,  209,    8],\n",
       "       [   5,   22,    0,    0, 1658,    0,    8,   84,    6,  221],\n",
       "       [ 522,  301,    0,  553,    5,    0,   29,   55,  424,   11],\n",
       "       [  37,  771,    0,   92,   50,    0,  307,  522,  159,  107],\n",
       "       [   3,  221,    0,   13,  203,    0,  182, 1110,   24,  433],\n",
       "       [ 253,  529,    0,  508,    3,    0,   60,   65,  605,   19],\n",
       "       [  15,   44,    0,    9,  972,    0,   16,  262,   15,  793]],\n",
       "      dtype=int64)"
      ]
     },
     "execution_count": 12,
     "metadata": {},
     "output_type": "execute_result"
    }
   ],
   "source": [
    "from sklearn.metrics import confusion_matrix\n",
    "\n",
    "confusion_matrix(y_test, predictions_NN)"
   ]
  },
  {
   "cell_type": "code",
   "execution_count": 13,
   "metadata": {
    "colab": {
     "base_uri": "https://localhost:8080/"
    },
    "executionInfo": {
     "elapsed": 949,
     "status": "ok",
     "timestamp": 1655294760804,
     "user": {
      "displayName": "Ahmet Alp Sarıca",
      "userId": "00819177888909939823"
     },
     "user_tz": -180
    },
    "id": "M2OkgeFo-c8R",
    "outputId": "8fd59d99-3cda-4873-cd29-3493ed1d5611"
   },
   "outputs": [
    {
     "name": "stdout",
     "output_type": "stream",
     "text": [
      "              precision    recall  f1-score   support\n",
      "\n",
      "           0       0.31      0.77      0.45      2077\n",
      "           1       0.45      0.76      0.57      2385\n",
      "           2       0.00      0.00      0.00      2115\n",
      "           3       0.19      0.20      0.19      2117\n",
      "           4       0.57      0.83      0.67      2004\n",
      "           5       0.00      0.00      0.00      1900\n",
      "           6       0.32      0.15      0.20      2045\n",
      "           7       0.49      0.51      0.50      2189\n",
      "           8       0.33      0.30      0.31      2042\n",
      "           9       0.49      0.37      0.42      2126\n",
      "\n",
      "    accuracy                           0.40     21000\n",
      "   macro avg       0.31      0.39      0.33     21000\n",
      "weighted avg       0.32      0.40      0.34     21000\n",
      "\n"
     ]
    },
    {
     "name": "stderr",
     "output_type": "stream",
     "text": [
      "C:\\Users\\Mustafa\\anaconda3\\lib\\site-packages\\sklearn\\metrics\\_classification.py:1318: UndefinedMetricWarning: Precision and F-score are ill-defined and being set to 0.0 in labels with no predicted samples. Use `zero_division` parameter to control this behavior.\n",
      "  _warn_prf(average, modifier, msg_start, len(result))\n",
      "C:\\Users\\Mustafa\\anaconda3\\lib\\site-packages\\sklearn\\metrics\\_classification.py:1318: UndefinedMetricWarning: Precision and F-score are ill-defined and being set to 0.0 in labels with no predicted samples. Use `zero_division` parameter to control this behavior.\n",
      "  _warn_prf(average, modifier, msg_start, len(result))\n",
      "C:\\Users\\Mustafa\\anaconda3\\lib\\site-packages\\sklearn\\metrics\\_classification.py:1318: UndefinedMetricWarning: Precision and F-score are ill-defined and being set to 0.0 in labels with no predicted samples. Use `zero_division` parameter to control this behavior.\n",
      "  _warn_prf(average, modifier, msg_start, len(result))\n"
     ]
    }
   ],
   "source": [
    "from sklearn.metrics import classification_report\n",
    "\n",
    "print(classification_report(y_test,predictions_NN))"
   ]
  },
  {
   "cell_type": "code",
   "execution_count": 14,
   "metadata": {
    "colab": {
     "base_uri": "https://localhost:8080/"
    },
    "executionInfo": {
     "elapsed": 5,
     "status": "ok",
     "timestamp": 1655294760804,
     "user": {
      "displayName": "Ahmet Alp Sarıca",
      "userId": "00819177888909939823"
     },
     "user_tz": -180
    },
    "id": "SWoz9tB0qW34",
    "outputId": "3905f296-e926-400b-f5c5-a654c3e24477"
   },
   "outputs": [
    {
     "data": {
      "text/plain": [
       "array([[2047,    0,    1,    0,    3,    5,   15,    1,    4,    1],\n",
       "       [   0, 2352,   11,    5,    3,    1,    4,    5,    4,    0],\n",
       "       [   4,    2, 2057,    6,   10,    2,    5,   10,   17,    2],\n",
       "       [   2,    3,   23, 2025,    0,   30,    0,    8,   16,   10],\n",
       "       [   1,    1,    5,    0, 1952,    1,   11,    7,    3,   23],\n",
       "       [   5,    2,    4,   10,    4, 1842,   12,    2,    9,   10],\n",
       "       [   3,    3,    2,    0,   12,   13, 2004,    3,    5,    0],\n",
       "       [   0,    8,   11,    3,    8,    4,    1, 2134,    4,   16],\n",
       "       [   5,   11,    7,   14,    6,   10,    7,    0, 1972,   10],\n",
       "       [   5,    1,    1,    7,   24,   10,    3,   13,    6, 2056]],\n",
       "      dtype=int64)"
      ]
     },
     "execution_count": 14,
     "metadata": {},
     "output_type": "execute_result"
    }
   ],
   "source": [
    "confusion_matrix(y_test, predictions_NN1)"
   ]
  },
  {
   "cell_type": "code",
   "execution_count": 15,
   "metadata": {
    "colab": {
     "base_uri": "https://localhost:8080/"
    },
    "executionInfo": {
     "elapsed": 297,
     "status": "ok",
     "timestamp": 1655294761099,
     "user": {
      "displayName": "Ahmet Alp Sarıca",
      "userId": "00819177888909939823"
     },
     "user_tz": -180
    },
    "id": "XxSL_XHL-gld",
    "outputId": "6029a96c-9f4e-4ec0-d941-42906e409cdd"
   },
   "outputs": [
    {
     "name": "stdout",
     "output_type": "stream",
     "text": [
      "              precision    recall  f1-score   support\n",
      "\n",
      "           0       0.99      0.99      0.99      2077\n",
      "           1       0.99      0.99      0.99      2385\n",
      "           2       0.97      0.97      0.97      2115\n",
      "           3       0.98      0.96      0.97      2117\n",
      "           4       0.97      0.97      0.97      2004\n",
      "           5       0.96      0.97      0.96      1900\n",
      "           6       0.97      0.98      0.98      2045\n",
      "           7       0.98      0.97      0.98      2189\n",
      "           8       0.97      0.97      0.97      2042\n",
      "           9       0.97      0.97      0.97      2126\n",
      "\n",
      "    accuracy                           0.97     21000\n",
      "   macro avg       0.97      0.97      0.97     21000\n",
      "weighted avg       0.97      0.97      0.97     21000\n",
      "\n"
     ]
    }
   ],
   "source": [
    "print(classification_report(y_test,predictions_NN1))"
   ]
  },
  {
   "cell_type": "code",
   "execution_count": 16,
   "metadata": {
    "colab": {
     "base_uri": "https://localhost:8080/"
    },
    "executionInfo": {
     "elapsed": 10,
     "status": "ok",
     "timestamp": 1655294761099,
     "user": {
      "displayName": "Ahmet Alp Sarıca",
      "userId": "00819177888909939823"
     },
     "user_tz": -180
    },
    "id": "6h5ftLk-qaTP",
    "outputId": "d1e36b41-8fb5-4c67-f0ac-031dd9a3f234"
   },
   "outputs": [
    {
     "data": {
      "text/plain": [
       "array([[2063,    0,    2,    0,    0,    3,    5,    1,    2,    1],\n",
       "       [   1, 2363,    7,    3,    2,    0,    2,    2,    2,    3],\n",
       "       [   3,    3, 2080,    4,    3,    1,    1,    7,   12,    1],\n",
       "       [   0,    2,   15, 2061,    0,   14,    0,    8,   11,    6],\n",
       "       [   1,    1,    3,    2, 1960,    1,    4,    4,    3,   25],\n",
       "       [   3,    0,    4,    6,    4, 1856,   10,    1,   11,    5],\n",
       "       [  10,    2,    1,    1,   10,   14, 2002,    2,    3,    0],\n",
       "       [   3,    5,   10,    3,    9,    2,    1, 2139,    4,   13],\n",
       "       [   4,   14,    4,   13,    3,    2,    6,    1, 1984,   11],\n",
       "       [   7,    1,    0,    5,   18,    4,    1,    8,    7, 2075]],\n",
       "      dtype=int64)"
      ]
     },
     "execution_count": 16,
     "metadata": {},
     "output_type": "execute_result"
    }
   ],
   "source": [
    "confusion_matrix(y_test, predictions_NN2)"
   ]
  },
  {
   "cell_type": "code",
   "execution_count": 17,
   "metadata": {
    "colab": {
     "base_uri": "https://localhost:8080/"
    },
    "executionInfo": {
     "elapsed": 9,
     "status": "ok",
     "timestamp": 1655294761100,
     "user": {
      "displayName": "Ahmet Alp Sarıca",
      "userId": "00819177888909939823"
     },
     "user_tz": -180
    },
    "id": "lBZUr9R6qem5",
    "outputId": "902b14b8-1818-4d47-94c9-4aa69fdf6244"
   },
   "outputs": [
    {
     "name": "stdout",
     "output_type": "stream",
     "text": [
      "              precision    recall  f1-score   support\n",
      "\n",
      "           0       0.98      0.99      0.99      2077\n",
      "           1       0.99      0.99      0.99      2385\n",
      "           2       0.98      0.98      0.98      2115\n",
      "           3       0.98      0.97      0.98      2117\n",
      "           4       0.98      0.98      0.98      2004\n",
      "           5       0.98      0.98      0.98      1900\n",
      "           6       0.99      0.98      0.98      2045\n",
      "           7       0.98      0.98      0.98      2189\n",
      "           8       0.97      0.97      0.97      2042\n",
      "           9       0.97      0.98      0.97      2126\n",
      "\n",
      "    accuracy                           0.98     21000\n",
      "   macro avg       0.98      0.98      0.98     21000\n",
      "weighted avg       0.98      0.98      0.98     21000\n",
      "\n"
     ]
    }
   ],
   "source": [
    "print(classification_report(y_test,predictions_NN2))"
   ]
  },
  {
   "cell_type": "code",
   "execution_count": null,
   "metadata": {},
   "outputs": [],
   "source": []
  }
 ],
 "metadata": {
  "colab": {
   "name": "NN.ipynb",
   "provenance": []
  },
  "kernelspec": {
   "display_name": "Python 3 (ipykernel)",
   "language": "python",
   "name": "python3"
  },
  "language_info": {
   "codemirror_mode": {
    "name": "ipython",
    "version": 3
   },
   "file_extension": ".py",
   "mimetype": "text/x-python",
   "name": "python",
   "nbconvert_exporter": "python",
   "pygments_lexer": "ipython3",
   "version": "3.9.12"
  }
 },
 "nbformat": 4,
 "nbformat_minor": 4
}
