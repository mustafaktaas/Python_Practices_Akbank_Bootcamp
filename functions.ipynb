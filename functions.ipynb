{
 "cells": [
  {
   "cell_type": "code",
   "execution_count": null,
   "metadata": {
    "id": "Eq3ZY4hp88WH"
   },
   "outputs": [],
   "source": [
    "number = '15'\n",
    "print('Type of number before int() function: ', type(number))\n",
    " \n",
    "number = int(number)\n",
    " \n",
    "print('Type of number after int() function: ', type(number))"
   ]
  },
  {
   "cell_type": "code",
   "execution_count": 1,
   "metadata": {
    "id": "7SnVeCSU9D52"
   },
   "outputs": [],
   "source": [
    "def hello(name):\n",
    "  print('Hello', name)"
   ]
  },
  {
   "cell_type": "code",
   "execution_count": 2,
   "metadata": {
    "colab": {
     "base_uri": "https://localhost:8080/"
    },
    "id": "06OaQ9mN9Hoa",
    "outputId": "abc719bf-7950-4c87-d2c5-e9251ccc45b4"
   },
   "outputs": [
    {
     "name": "stdout",
     "output_type": "stream",
     "text": [
      "Hello Deniz\n"
     ]
    }
   ],
   "source": [
    "hello('Deniz')"
   ]
  },
  {
   "cell_type": "code",
   "execution_count": 3,
   "metadata": {
    "id": "7JnjY3wH9Tt1"
   },
   "outputs": [],
   "source": [
    "def sum(number1, number2):\n",
    "  print(number1 + number2)"
   ]
  },
  {
   "cell_type": "code",
   "execution_count": 4,
   "metadata": {
    "colab": {
     "base_uri": "https://localhost:8080/"
    },
    "id": "nhYIaQd_9VbX",
    "outputId": "2850983b-2581-4391-a2e7-df6cd8c3f577"
   },
   "outputs": [
    {
     "name": "stdout",
     "output_type": "stream",
     "text": [
      "8\n"
     ]
    }
   ],
   "source": [
    "sum(3, 5)"
   ]
  },
  {
   "cell_type": "code",
   "execution_count": 5,
   "metadata": {
    "colab": {
     "base_uri": "https://localhost:8080/"
    },
    "id": "VFIqSIEX9W_7",
    "outputId": "f1b88711-3558-46ff-a69f-e8144cc090a2"
   },
   "outputs": [
    {
     "name": "stdout",
     "output_type": "stream",
     "text": [
      "8\n",
      "None\n"
     ]
    }
   ],
   "source": [
    "result = sum(3, 5)\n",
    "print(result)"
   ]
  },
  {
   "cell_type": "code",
   "execution_count": 6,
   "metadata": {
    "colab": {
     "base_uri": "https://localhost:8080/"
    },
    "id": "j8AxtCY79asg",
    "outputId": "5cc4b310-79d0-4012-9b0e-aecb6a9f239e"
   },
   "outputs": [
    {
     "name": "stdout",
     "output_type": "stream",
     "text": [
      "8\n"
     ]
    }
   ],
   "source": [
    "def sum(number1, number2):\n",
    "  answer = number1 + number2\n",
    "  return answer\n",
    " \n",
    "result = sum(3, 5)\n",
    "print(result)"
   ]
  }
 ],
 "metadata": {
  "colab": {
   "name": "Functions.ipynb",
   "provenance": []
  },
  "kernelspec": {
   "display_name": "Python 3 (ipykernel)",
   "language": "python",
   "name": "python3"
  },
  "language_info": {
   "codemirror_mode": {
    "name": "ipython",
    "version": 3
   },
   "file_extension": ".py",
   "mimetype": "text/x-python",
   "name": "python",
   "nbconvert_exporter": "python",
   "pygments_lexer": "ipython3",
   "version": "3.9.12"
  }
 },
 "nbformat": 4,
 "nbformat_minor": 4
}
