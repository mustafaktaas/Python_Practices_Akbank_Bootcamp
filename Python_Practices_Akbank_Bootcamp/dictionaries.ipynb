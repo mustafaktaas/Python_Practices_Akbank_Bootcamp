{
 "cells": [
  {
   "cell_type": "code",
   "execution_count": 1,
   "metadata": {
    "colab": {
     "base_uri": "https://localhost:8080/"
    },
    "id": "4wtb2n1Ok4bT",
    "outputId": "d689d150-46c6-4d01-8a29-4dd9c5171cc2"
   },
   "outputs": [
    {
     "name": "stdout",
     "output_type": "stream",
     "text": [
      "{'Deniz Kaya': '+90 505 123 45 67', 'Selin Demir': '+49 157 12345678', 'Ali Can': '+1 234 235 5678'}\n"
     ]
    }
   ],
   "source": [
    "phone_book = {'Deniz Kaya':'+90 505 123 45 67', 'Selin Demir': '+49 157 12345678', 'Ali Can':'+1 234 235 5678'}\n",
    "print(phone_book)"
   ]
  },
  {
   "cell_type": "code",
   "execution_count": 2,
   "metadata": {
    "colab": {
     "base_uri": "https://localhost:8080/"
    },
    "id": "q0R35GrhlDNv",
    "outputId": "c51412c5-7f2d-47fe-dc4d-29fce6d7cb1e"
   },
   "outputs": [
    {
     "name": "stdout",
     "output_type": "stream",
     "text": [
      "+90 505 123 45 67\n"
     ]
    }
   ],
   "source": [
    "print(phone_book['Deniz Kaya'])"
   ]
  },
  {
   "cell_type": "code",
   "execution_count": 3,
   "metadata": {
    "id": "0QnL__WxlGkq"
   },
   "outputs": [],
   "source": [
    "inventory = dict()\n",
    "inventory['bananas'] = 25\n",
    "inventory['apples'] = 102\n",
    "inventory['oranges'] = 54\n",
    "inventory['watermelons'] = 4"
   ]
  },
  {
   "cell_type": "code",
   "execution_count": 4,
   "metadata": {
    "colab": {
     "base_uri": "https://localhost:8080/"
    },
    "id": "6gekpHb-lIuc",
    "outputId": "6b3084e2-7eab-42c2-8ed1-29ff26511afa"
   },
   "outputs": [
    {
     "name": "stdout",
     "output_type": "stream",
     "text": [
      "{'bananas': 25, 'apples': 102, 'oranges': 54, 'watermelons': 4}\n"
     ]
    }
   ],
   "source": [
    "print(inventory)"
   ]
  },
  {
   "cell_type": "code",
   "execution_count": 5,
   "metadata": {
    "colab": {
     "base_uri": "https://localhost:8080/"
    },
    "id": "4gY80Kf5lKcS",
    "outputId": "b96cec85-02c0-45e2-e66d-9f9a743035fb"
   },
   "outputs": [
    {
     "name": "stdout",
     "output_type": "stream",
     "text": [
      "102\n"
     ]
    }
   ],
   "source": [
    "print(inventory['apples'])"
   ]
  },
  {
   "cell_type": "code",
   "execution_count": 6,
   "metadata": {
    "colab": {
     "base_uri": "https://localhost:8080/"
    },
    "id": "cjlmVe7YlMgS",
    "outputId": "97f16c19-631d-4f7f-b5db-c838da594670"
   },
   "outputs": [
    {
     "name": "stdout",
     "output_type": "stream",
     "text": [
      "dict_keys(['bananas', 'apples', 'oranges', 'watermelons'])\n"
     ]
    }
   ],
   "source": [
    "print(inventory.keys())"
   ]
  },
  {
   "cell_type": "code",
   "execution_count": 7,
   "metadata": {
    "colab": {
     "base_uri": "https://localhost:8080/"
    },
    "id": "U11xWcn0lO-I",
    "outputId": "8a8add1a-bb78-4075-a9d5-a6e56637966c"
   },
   "outputs": [
    {
     "name": "stdout",
     "output_type": "stream",
     "text": [
      "dict_values([25, 102, 54, 4])\n"
     ]
    }
   ],
   "source": [
    "print(inventory.values())"
   ]
  },
  {
   "cell_type": "code",
   "execution_count": 8,
   "metadata": {
    "colab": {
     "base_uri": "https://localhost:8080/"
    },
    "id": "_RFGGs-SlRZw",
    "outputId": "2dabaffb-7b50-4e61-fc7e-9444f1cc956d"
   },
   "outputs": [
    {
     "name": "stdout",
     "output_type": "stream",
     "text": [
      "dict_items([('bananas', 25), ('apples', 102), ('oranges', 54), ('watermelons', 4)])\n"
     ]
    }
   ],
   "source": [
    "print(inventory.items())"
   ]
  },
  {
   "cell_type": "code",
   "execution_count": 9,
   "metadata": {
    "colab": {
     "base_uri": "https://localhost:8080/"
    },
    "id": "Xph_mKf7lTTL",
    "outputId": "3105c548-7a46-45b6-bfc9-fc30bbf046c2"
   },
   "outputs": [
    {
     "name": "stdout",
     "output_type": "stream",
     "text": [
      "bananas\n",
      "apples\n",
      "oranges\n",
      "watermelons\n"
     ]
    }
   ],
   "source": [
    "for element in inventory:\n",
    "  print(element)"
   ]
  },
  {
   "cell_type": "code",
   "execution_count": 10,
   "metadata": {
    "colab": {
     "base_uri": "https://localhost:8080/"
    },
    "id": "afU7szpGlXHW",
    "outputId": "cfa91eb2-8457-4d97-9e5b-b8d168d09fcb"
   },
   "outputs": [
    {
     "name": "stdout",
     "output_type": "stream",
     "text": [
      "{'bananas': 125, 'apples': 202, 'oranges': 154, 'watermelons': 104}\n"
     ]
    }
   ],
   "source": [
    "for key in inventory:\n",
    "  inventory[key] += 100\n",
    " \n",
    "print(inventory) "
   ]
  },
  {
   "cell_type": "code",
   "execution_count": 11,
   "metadata": {
    "colab": {
     "base_uri": "https://localhost:8080/"
    },
    "id": "mcNX0cu5laTs",
    "outputId": "e2ba290e-ffcd-456c-c7f8-88e472463f2a"
   },
   "outputs": [
    {
     "name": "stdout",
     "output_type": "stream",
     "text": [
      "Enough bananas\n",
      "Too many apples\n",
      "Enough oranges\n",
      "Enough watermelons\n"
     ]
    }
   ],
   "source": [
    "for key, value in inventory.items():\n",
    "    if value > 200:\n",
    "        print('Too many', key)\n",
    "    else:\n",
    "        print('Enough', key)"
   ]
  }
 ],
 "metadata": {
  "colab": {
   "name": "dictionaries.ipynb",
   "provenance": []
  },
  "kernelspec": {
   "display_name": "Python 3 (ipykernel)",
   "language": "python",
   "name": "python3"
  },
  "language_info": {
   "codemirror_mode": {
    "name": "ipython",
    "version": 3
   },
   "file_extension": ".py",
   "mimetype": "text/x-python",
   "name": "python",
   "nbconvert_exporter": "python",
   "pygments_lexer": "ipython3",
   "version": "3.9.12"
  }
 },
 "nbformat": 4,
 "nbformat_minor": 4
}
