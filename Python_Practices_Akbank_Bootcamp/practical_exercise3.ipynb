{
 "cells": [
  {
   "cell_type": "markdown",
   "metadata": {
    "id": "tBDsFMQwBs6Z"
   },
   "source": [
    "# Practical exercise 3:  Help Julia on her trip to New York\n",
    "\n",
    "A friend of yours, Julia, goes to New York, US to visit her brother who is studying there. As soon as she lands at the JFK airport, she notices that the US is another world. The distance is measured in miles, mass is measured in pounds, and the temperature is measured in Fahrenheit. She is having trouble converting these values into metric units. Another problem is that she cannot remember the conversion ratios. Luckily, she has you as a friend. In this practical exercise, you will write a number of functions to help your friend in converting these values. \n"
   ]
  },
  {
   "cell_type": "markdown",
   "metadata": {
    "id": "ymULFKyosM3d"
   },
   "source": [
    "## Warm up\n",
    "\n",
    "Your first task will be to write a greetings function for Julia so she can say hello to her brother Sam.\n",
    "\n",
    "📌 Do you remember the greetings function? This function takes a name as an argument and returns \"Hello\" + name. \n",
    "\n",
    "Let's start with this function!"
   ]
  },
  {
   "cell_type": "code",
   "execution_count": 4,
   "metadata": {
    "id": "0w6HGZBvsvru"
   },
   "outputs": [],
   "source": [
    "def greetings(name):\n",
    "    return print(\"Hello \" + name)\n",
    "  #Please write a greetings function"
   ]
  },
  {
   "cell_type": "markdown",
   "metadata": {
    "id": "_FciCSMIwDUv"
   },
   "source": [
    "Now call this function to greet Sam!"
   ]
  },
  {
   "cell_type": "code",
   "execution_count": 5,
   "metadata": {
    "id": "fzGQtlg-wKF9"
   },
   "outputs": [
    {
     "name": "stdout",
     "output_type": "stream",
     "text": [
      "Hello Mustafa\n"
     ]
    }
   ],
   "source": [
    "#Call the greetings function to greet Sam\n",
    "greetings(\"Mustafa\")"
   ]
  },
  {
   "cell_type": "markdown",
   "metadata": {
    "id": "cnWVzlo1vBy8"
   },
   "source": [
    "At the duty-free shops, Julia is comparing the prices of chocolates at different stores. She needs a difference calculator between two numbers. Can you create a function to calculate the difference for her?\n",
    "\n",
    "📌 Similar to the example we saw in the lesson earlier, let's have a function that takes 2 numbers as an input and returns their difference."
   ]
  },
  {
   "cell_type": "code",
   "execution_count": 6,
   "metadata": {
    "id": "8S1F2r8NtEoN"
   },
   "outputs": [],
   "source": [
    "def difference(number1, number2):\n",
    "  #Write a function that calculates the difference between two numbers\n",
    "    diff = number1 - number2\n",
    "    print(\"Difference : \" , diff)"
   ]
  },
  {
   "cell_type": "markdown",
   "metadata": {
    "id": "FvXeQMnXwa0P"
   },
   "source": [
    "At one store the price of chocolate is 14.99 dollars and at another one it is 12.49 dollars. Let's call the difference function to compute the difference of those two prices."
   ]
  },
  {
   "cell_type": "code",
   "execution_count": 7,
   "metadata": {
    "id": "b9IrldJDw0u3"
   },
   "outputs": [
    {
     "name": "stdout",
     "output_type": "stream",
     "text": [
      "Difference :  2.5\n"
     ]
    }
   ],
   "source": [
    "#Call the difference function to calculate the difference between the chocolate prices\n",
    "difference(14.99,12.49)"
   ]
  },
  {
   "cell_type": "markdown",
   "metadata": {
    "id": "P6cHRk46y0E5"
   },
   "source": [
    "## Julia is too lazy to introduce herself over and over again\n",
    "\n",
    "In a new city, Julia will meet a lot of new people. To make her life easier, we can write a function for her so that she doesn’t have to do this over and over again… \n",
    "\n",
    "This function should include Julia's birthday, the place she was born and the place she currently lives. \n",
    "\n",
    "Julia has already defined 3 variables with her personal information.\n"
   ]
  },
  {
   "cell_type": "code",
   "execution_count": 8,
   "metadata": {
    "id": "ucM2E4YXzHUM"
   },
   "outputs": [],
   "source": [
    "#Run this cell to store Julia's personal information in variables\n",
    "birthday = \"4 September 1996\"\n",
    "place_of_birth = \"London\"\n",
    "current_city = \"London\""
   ]
  },
  {
   "cell_type": "markdown",
   "metadata": {
    "id": "QQIXQsmRwGqB"
   },
   "source": [
    "Now, it's your turn to create a function *print_introduction* that takes these 3 arguments we defined above and print the following sentence:\n",
    "\n",
    "\"I was born on *birthday* in *place of birth* and now I live in *where she currently lives*.\"\n",
    "\n"
   ]
  },
  {
   "cell_type": "code",
   "execution_count": 12,
   "metadata": {
    "id": "dvTr4HR4wF4n"
   },
   "outputs": [],
   "source": [
    "#Write an introduction function that takes birthday, place_of_birth and current_city as arguments\n",
    "#and prints the sentence above\n",
    "def print_introduction(birthday,place_of_birth,current_city):\n",
    "    return print(\"I was born on \" + birthday + \" in \" + place_of_birth + \" and now I live in \" + current_city)"
   ]
  },
  {
   "cell_type": "markdown",
   "metadata": {
    "id": "Z-qNc3H-xNq2"
   },
   "source": [
    "Julia wants to introduce herself to a person she met at the airport. Let’s see if our program works:"
   ]
  },
  {
   "cell_type": "code",
   "execution_count": 13,
   "metadata": {
    "id": "SM5_G8IJx-sd"
   },
   "outputs": [
    {
     "name": "stdout",
     "output_type": "stream",
     "text": [
      "I was born on 4 September 1996 in London and now I live in London\n"
     ]
    }
   ],
   "source": [
    "#Call the introduction function \n",
    "print_introduction(birthday,place_of_birth,current_city)"
   ]
  },
  {
   "cell_type": "markdown",
   "metadata": {
    "id": "Abqum11Yzrdf"
   },
   "source": [
    "While introducing herself, she noticed that from now on she has to change her current city! Can you help her by  creating a function that takes a new city name as an argument and changes the *current_city*?\n",
    "\n",
    "\n",
    "📌 Remember that current_city is not in the scope of this function."
   ]
  },
  {
   "cell_type": "code",
   "execution_count": 14,
   "metadata": {
    "id": "SACKeUY7zpcj"
   },
   "outputs": [],
   "source": [
    "#Write a function to change the current_city \n",
    "def change_current_city(new_city):\n",
    "  global current_city\n",
    "  current_city = new_city"
   ]
  },
  {
   "cell_type": "markdown",
   "metadata": {
    "id": "WQqKexnw1GQu"
   },
   "source": [
    "So now, before introducing herself again, you help Julia change her current city to New York. Use the two functions above and print the introduction again."
   ]
  },
  {
   "cell_type": "code",
   "execution_count": 16,
   "metadata": {
    "id": "2DWdXbw50uTg"
   },
   "outputs": [
    {
     "name": "stdout",
     "output_type": "stream",
     "text": [
      "I was born on 4 September 1996 in London and now I live in New York\n"
     ]
    }
   ],
   "source": [
    "#Change current_city to \"New York\"\n",
    "change_current_city(\"New York\")\n",
    "\n",
    "#Call the introduction function \n",
    "print_introduction(birthday,place_of_birth,current_city)"
   ]
  },
  {
   "cell_type": "markdown",
   "metadata": {
    "id": "8VKksEqq3dmF"
   },
   "source": [
    "#Julia needs a weather forecast\n",
    "\n",
    "Julia finally left the airport and noticed that the weather is not as she expected. It's always good to know the weather forecast in the new city. \n",
    "\n",
    "You are provided with a 7 days' weather forecast. In the lesson, we discussed how you can construct a line plot using seaborn. Julia finds line plots confusing, try to create a bar plot for her to find out what the weather will be for the next 7 days. \n",
    "\n",
    "📌 Use the *barplot* method from the *seaborn* library with the data below."
   ]
  },
  {
   "cell_type": "code",
   "execution_count": 18,
   "metadata": {
    "id": "6kEoQenH3Nxj"
   },
   "outputs": [
    {
     "name": "stderr",
     "output_type": "stream",
     "text": [
      "C:\\Users\\Mustafa\\anaconda3\\lib\\site-packages\\seaborn\\_decorators.py:36: FutureWarning: Pass the following variables as keyword args: x, y. From version 0.12, the only valid positional argument will be `data`, and passing other arguments without an explicit keyword will result in an error or misinterpretation.\n",
      "  warnings.warn(\n"
     ]
    },
    {
     "data": {
      "text/plain": [
       "<AxesSubplot:>"
      ]
     },
     "execution_count": 18,
     "metadata": {},
     "output_type": "execute_result"
    },
    {
     "data": {
      "image/png": "[encoded data removed]",
      "text/plain": [
       "<Figure size 432x288 with 1 Axes>"
      ]
     },
     "metadata": {
      "needs_background": "light"
     },
     "output_type": "display_data"
    }
   ],
   "source": [
    "#We need to import the seaborn library\n",
    "import seaborn as sns\n",
    "#Weather data \n",
    "day = [1, 2, 3, 4, 5, 6, 7]\n",
    "avg_temperature = [14,9,3,11,18,27,6]\n",
    "\n",
    "#Create a bar plot for the given data\n",
    "sns.barplot(avg_temperature,day)"
   ]
  },
  {
   "cell_type": "markdown",
   "metadata": {
    "id": "9k6Adf0ekycL"
   },
   "source": [
    "# Now let's define some functions for conversion\n",
    "\n",
    "The reason Julia primarily contacted you was for some conversion functions. Now, we will define some functions that will help Julia to convert quantities.\n",
    "\n",
    "We should start by importing the libraries that we might need during our implementation. Here we import the library math, but everyone has a different approach when it comes to coding. Keep in mind that depending on your technique, importing other libraries could be necessary. "
   ]
  },
  {
   "cell_type": "code",
   "execution_count": 19,
   "metadata": {
    "id": "RKguN4ehBceY"
   },
   "outputs": [],
   "source": [
    "# import library\n",
    "import math"
   ]
  },
  {
   "cell_type": "markdown",
   "metadata": {
    "id": "A-WnWazBCtdR"
   },
   "source": [
    "## Mile - Kilometer\n",
    "\n",
    "Julia looked at the road sign and she sees that city center is 12 miles away from the airport. First, we will write a function for converting miles to kilometers. We know that **1 mile = 1.60934 kilometers**. We will use this information to write the function.\n",
    "\n",
    "In this part, you will write 2 functions: \n",
    "\n",
    "\n",
    "1.   **mile2km**: this function will take mile as an argument and return equivalent kilometers.\n",
    "2.   **km2mile**: this function will take km as an argument and return equivalent miles.\n",
    "\n",
    "\n",
    "\n",
    "💣 Note: It is a naming convention to use '2' between the two quantities which indicates the conversion from the first quantity to the second quantity. "
   ]
  },
  {
   "cell_type": "code",
   "execution_count": 28,
   "metadata": {
    "id": "tc-dTNWcCrTd"
   },
   "outputs": [],
   "source": [
    "def mile2km(miles):\n",
    "  #Write a function to convert miles to kilometers \n",
    "    km = miles * 1.60934\n",
    "    return print(km)\n",
    "\n",
    "def km2mile(km):\n",
    "  #Write a function to convert kilometers to miles\n",
    "    miles = km / 1.60934\n",
    "    return print(miles)"
   ]
  },
  {
   "cell_type": "markdown",
   "metadata": {
    "id": "SIm3aHkXx9fo"
   },
   "source": [
    "You can run this cell to test whether your program works or not:"
   ]
  },
  {
   "cell_type": "code",
   "execution_count": 29,
   "metadata": {
    "id": "8Ig5yG44D_TC"
   },
   "outputs": [
    {
     "name": "stdout",
     "output_type": "stream",
     "text": [
      "212.75474799999998\n"
     ]
    },
    {
     "ename": "TypeError",
     "evalue": "must be real number, not NoneType",
     "output_type": "error",
     "traceback": [
      "\u001b[1;31m---------------------------------------------------------------------------\u001b[0m",
      "\u001b[1;31mTypeError\u001b[0m                                 Traceback (most recent call last)",
      "Input \u001b[1;32mIn [29]\u001b[0m, in \u001b[0;36m<cell line: 2>\u001b[1;34m()\u001b[0m\n\u001b[0;32m      1\u001b[0m \u001b[38;5;66;03m### RUN THIS CELL TO TEST YOUR IMPLEMENTATION\u001b[39;00m\n\u001b[1;32m----> 2\u001b[0m \u001b[38;5;28;01massert\u001b[39;00m \u001b[43mmath\u001b[49m\u001b[38;5;241;43m.\u001b[39;49m\u001b[43misclose\u001b[49m\u001b[43m(\u001b[49m\u001b[43mmile2km\u001b[49m\u001b[43m(\u001b[49m\u001b[38;5;241;43m132.2\u001b[39;49m\u001b[43m)\u001b[49m\u001b[43m,\u001b[49m\u001b[43m \u001b[49m\u001b[38;5;241;43m212.754748\u001b[39;49m\u001b[43m,\u001b[49m\u001b[43m \u001b[49m\u001b[43mabs_tol\u001b[49m\u001b[38;5;241;43m=\u001b[39;49m\u001b[38;5;241;43m1e-5\u001b[39;49m\u001b[43m)\u001b[49m, \u001b[38;5;124m\"\u001b[39m\u001b[38;5;124mTest failed for mile2km!\u001b[39m\u001b[38;5;124m\"\u001b[39m\n\u001b[0;32m      3\u001b[0m \u001b[38;5;28;01massert\u001b[39;00m math\u001b[38;5;241m.\u001b[39misclose(km2mile(\u001b[38;5;241m48.44\u001b[39m), \u001b[38;5;241m30.099295\u001b[39m, abs_tol\u001b[38;5;241m=\u001b[39m\u001b[38;5;241m1e-5\u001b[39m), \u001b[38;5;124m\"\u001b[39m\u001b[38;5;124mTest failed for km2mile!\u001b[39m\u001b[38;5;124m\"\u001b[39m\n\u001b[0;32m      4\u001b[0m \u001b[38;5;28mprint\u001b[39m(\u001b[38;5;124m\"\u001b[39m\u001b[38;5;124mTest passed!\u001b[39m\u001b[38;5;124m\"\u001b[39m)\n",
      "\u001b[1;31mTypeError\u001b[0m: must be real number, not NoneType"
     ]
    }
   ],
   "source": [
    "### RUN THIS CELL TO TEST YOUR IMPLEMENTATION\n",
    "assert math.isclose(mile2km(132.2), 212.754748, abs_tol=1e-5), \"Test failed for mile2km!\"\n",
    "assert math.isclose(km2mile(48.44), 30.099295, abs_tol=1e-5), \"Test failed for km2mile!\"\n",
    "print(\"Test passed!\")"
   ]
  },
  {
   "cell_type": "markdown",
   "metadata": {
    "id": "0yk8zi3-2Ald"
   },
   "source": [
    "Now let’s convert the distance so that Julia actually understands it. Use the function mile2km() to convert 12 miles to equivalent kilometers."
   ]
  },
  {
   "cell_type": "code",
   "execution_count": 30,
   "metadata": {
    "id": "foVh1VX02OF6"
   },
   "outputs": [
    {
     "name": "stdout",
     "output_type": "stream",
     "text": [
      "19.31208\n"
     ]
    }
   ],
   "source": [
    "#Call the mile2km function to convert 12 miles\n",
    "mile2km(12)"
   ]
  },
  {
   "cell_type": "markdown",
   "metadata": {
    "id": "WhnkMW7MIfOv"
   },
   "source": [
    "## Pound - Kilogram\n",
    "\n",
    "On her way, Julia got hungry and decided to buy some fruits. But she is confused by the weight units. She wants to buy 2 kilograms of apples for her brother. Therefore, she asked you to write a function that converts pounds to kilograms and kilograms to pounds. In this part, you will write only one function which is capable of converting pounds to kilograms and also from kilograms to pounds.\n",
    "\n",
    "**1 pound =  0.45359 kilograms**\n",
    "\n",
    "You will implement only one function. This function will return the converted quantity. There will be 2 arguments of this function:\n",
    "\n",
    "\n",
    "1.   *quantity*: the magnitude of the measurement can either be an integer or a float. It can be pounds or kilograms.\n",
    "2.   *mode*: this a string that indicates which conversion has to be computed. It can be either \"pound2kg\" or \"kg2pound\". \n",
    "\n",
    "📌 You can use if and else statements to implement this.\n",
    "\n",
    "💣 Note: In the code we prepared, you can see the assert command. This command is there to make sure only valid arguments are passed. Here we can have if and else statements in the function and in any case where the mode is not pound2kg, the else block will be executed. Even if you accidentally have a typo in “pound2kg”. Therefore, it is important to make sure that the input arguments are valid.\n",
    "\n",
    "💣💣 Tip: Always use assert command to ensure that your program runs without any errors. It is a common practice for Machine Learning engineers to ensure if the sizes of matrices are as expected. To use the assert command, write the keyword \"assert\" followed by a condition and then a string to indicate if the assertion has failed.\n"
   ]
  },
  {
   "cell_type": "code",
   "execution_count": 31,
   "metadata": {
    "id": "PUSYjYCuHbg4"
   },
   "outputs": [],
   "source": [
    "def pound_kilogram(quantity, mode):\n",
    "  assert mode == \"pound2kg\" or mode == \"kg2pound\", \"Invalid argument!\"\n",
    "  #Here the assert command ensures that a valid mode is given as argument.\n",
    "  if mode == \"pound2kg\":\n",
    "    conv_quan = quantity * 0.45359\n",
    "  elif mode == \"kg2pound\":\n",
    "    conv_quan = quantity / 0.45359\n",
    "  return conv_quan"
   ]
  },
  {
   "cell_type": "markdown",
   "metadata": {
    "id": "157pYGmtx_QZ"
   },
   "source": [
    "You can run this cell to test whether your program works or not:"
   ]
  },
  {
   "cell_type": "code",
   "execution_count": 32,
   "metadata": {
    "id": "eqGyZKzVKQeF"
   },
   "outputs": [
    {
     "name": "stdout",
     "output_type": "stream",
     "text": [
      "Test passed!\n"
     ]
    }
   ],
   "source": [
    "### RUN THIS CELL TO TEST YOUR IMPLEMENTATION\n",
    "assert math.isclose(pound_kilogram(2.20462, \"pound2kg\"), 1, abs_tol=1e-5), \"Test failed for mode \\\"pound2kg\\\"!\"\n",
    "assert math.isclose(pound_kilogram(43, \"kg2pound\"), 94.79926, abs_tol=1e-5), \"Test failed for mode \\\"kg2pound\\\"!\"\n",
    "print(\"Test passed!\")"
   ]
  },
  {
   "cell_type": "markdown",
   "metadata": {
    "id": "r9TdR_ZA23SY"
   },
   "source": [
    "Julia wants to buy 2 kilograms of apples, so use the pound_kilogram() function to convert 2 kilograms to equivalent pounds."
   ]
  },
  {
   "cell_type": "code",
   "execution_count": null,
   "metadata": {
    "id": "tY6NLJ7B22LM"
   },
   "outputs": [],
   "source": [
    "#Call the function to convert 2 kilograms to pound\n"
   ]
  },
  {
   "cell_type": "markdown",
   "metadata": {
    "id": "EDtDpPC6Ptnt"
   },
   "source": [
    "## Fahrenheit-Celsius\n",
    "\n",
    "You might have noticed from the barplot above that the temperature in New York is unpredictable. And even worse for Julia, the temperatures are in Fahrenheit. In this part, you will write a function that will convert °C to °F and vice versa. The conversion formulas between these quantities are as follows:\n",
    "\n",
    "**Formula: °C = (°F − 32) × 5/9** <br>\n",
    "**Formula: °F = (°C x 9/5) + 32** \n",
    "\n",
    "You will implement only one function. This function will return the converted quantity. There will be 2 arguments of this function:\n",
    "\n",
    "\n",
    "\n",
    "1.   *temperature*: the magnitude of the measurement can either be an integer or a float. It can be in Celsius or Fahrenheit.\n",
    "2.   *mode*: this a string that indicates which conversion has to be computed. It can be either \"f2c\" or \"c2f\". \n",
    "\n",
    "📌 You can use if and else statements to implement this.\n",
    "\n",
    "\n",
    "💣 Note: The assert command is there to make sure only valid arguments are passed."
   ]
  },
  {
   "cell_type": "code",
   "execution_count": 33,
   "metadata": {
    "id": "CD4echmtPsec"
   },
   "outputs": [],
   "source": [
    "def fahrenheit_celcius(temperature, mode):\n",
    "  assert mode == \"f2c\" or mode == \"c2f\", \"Invalid argument!\"\n",
    "  # Write a statement to convert Fahrenheit to Celsius or Celsius to Fahrenheit\n",
    "  if mode == \"f2c\":\n",
    "    fah_cel = (temperature - 32) * 5/9\n",
    "  elif mode == \"c2f\":\n",
    "    fah_cel = (temperature * 9/5) + 32\n",
    "  return fah_cel"
   ]
  },
  {
   "cell_type": "markdown",
   "metadata": {
    "id": "TPyI23iIyBIS"
   },
   "source": [
    "You can run this cell to test whether your program works or not:"
   ]
  },
  {
   "cell_type": "code",
   "execution_count": 34,
   "metadata": {
    "id": "b3RkUDHlgQDb"
   },
   "outputs": [
    {
     "name": "stdout",
     "output_type": "stream",
     "text": [
      "Test passed!\n"
     ]
    }
   ],
   "source": [
    "### RUN THIS CELL TO TEST YOUR IMPLEMENTATION\n",
    "assert math.isclose(fahrenheit_celcius(98.6, \"f2c\"), 37.0, abs_tol=1e-5), \"Test failed for mode \\\"f2c\\\"!\"\n",
    "assert math.isclose(fahrenheit_celcius(42, \"c2f\"), 107.6, abs_tol=1e-5), \"Test failed for mode \\\"c2f\\\"!\"\n",
    "print(\"Test passed!\")"
   ]
  },
  {
   "cell_type": "markdown",
   "metadata": {
    "id": "aW8yRDOwy-uG"
   },
   "source": [
    "The temperature today is 88° Fahrenheit. Use the function defined above to convert it to equivalent °C."
   ]
  },
  {
   "cell_type": "code",
   "execution_count": 35,
   "metadata": {
    "id": "h1Jx_0FWzTwV"
   },
   "outputs": [
    {
     "data": {
      "text/plain": [
       "31.11111111111111"
      ]
     },
     "execution_count": 35,
     "metadata": {},
     "output_type": "execute_result"
    }
   ],
   "source": [
    "#Call the function to convert 88° Fahrenheit to Celsius\n",
    "fahrenheit_celcius(88,\"f2c\")"
   ]
  },
  {
   "cell_type": "markdown",
   "metadata": {
    "id": "EKak3XKRzdps"
   },
   "source": [
    "This was a rough start for Julia, but thanks to your help she will survive her stay in New York! 😀"
   ]
  }
 ],
 "metadata": {
  "colab": {
   "collapsed_sections": [],
   "name": "practical_exercise3.ipynb",
   "provenance": []
  },
  "kernelspec": {
   "display_name": "Python 3 (ipykernel)",
   "language": "python",
   "name": "python3"
  },
  "language_info": {
   "codemirror_mode": {
    "name": "ipython",
    "version": 3
   },
   "file_extension": ".py",
   "mimetype": "text/x-python",
   "name": "python",
   "nbconvert_exporter": "python",
   "pygments_lexer": "ipython3",
   "version": "3.9.12"
  }
 },
 "nbformat": 4,
 "nbformat_minor": 4
}
