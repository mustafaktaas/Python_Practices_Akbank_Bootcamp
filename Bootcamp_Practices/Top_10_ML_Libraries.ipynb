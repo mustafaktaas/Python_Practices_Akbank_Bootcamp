{
 "cells": [
  {
   "cell_type": "markdown",
   "id": "17df6d82-d2fc-4dd2-91f2-a7358e8f08fa",
   "metadata": {},
   "source": [
    "# TensorFlow"
   ]
  },
  {
   "cell_type": "markdown",
   "id": "c7cc1122-27ce-4c28-9848-f615ea76e606",
   "metadata": {},
   "source": [
    "### TensorFlow, Google tarafından makine öğrenimi modelleri oluşturmak ve dağıtmak için geliştirilmiş açık kaynaklı bir kitaplıktır. AI ve makine öğrenimi için en popüler kitaplıklardan biridir ve Airbnb, Intel ve Twitter gibi şirketler tarafından kullanılır. TensorFlow, sinir ağları ve derin öğrenme modelleri oluşturmak için harikadır ve model oluşturmak ve eğitmek için çok çeşitli araçlara sahiptir. Basit bir sinir ağı oluşturmak için TensorFlow nasıl kullanılır"
   ]
  },
  {
   "cell_type": "code",
   "execution_count": 2,
   "id": "51f2181d-356d-4cc1-9228-6e54bd7e4576",
   "metadata": {},
   "outputs": [],
   "source": [
    "import tensorflow as tf\n",
    "\n",
    "# define the model\n",
    "model = tf.keras.Sequential([\n",
    "    tf.keras.layers.Dense(10, input_shape=(8,), activation='relu'),\n",
    "    tf.keras.layers.Dense(1, activation='sigmoid')\n",
    "])\n",
    "\n",
    "# compile the model\n",
    "model.compile(optimizer='adam', loss='binary_crossentropy', metrics=['accuracy'])"
   ]
  },
  {
   "cell_type": "code",
   "execution_count": null,
   "id": "7b1e338c-576b-46cf-a726-537ff4fbf1b4",
   "metadata": {},
   "outputs": [],
   "source": []
  }
 ],
 "metadata": {
  "kernelspec": {
   "display_name": "Python 3 (ipykernel)",
   "language": "python",
   "name": "python3"
  },
  "language_info": {
   "codemirror_mode": {
    "name": "ipython",
    "version": 3
   },
   "file_extension": ".py",
   "mimetype": "text/x-python",
   "name": "python",
   "nbconvert_exporter": "python",
   "pygments_lexer": "ipython3",
   "version": "3.9.12"
  }
 },
 "nbformat": 4,
 "nbformat_minor": 5
}
