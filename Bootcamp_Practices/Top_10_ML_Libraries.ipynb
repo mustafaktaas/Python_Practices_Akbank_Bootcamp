{
 "cells": [
  {
   "cell_type": "markdown",
   "id": "17df6d82-d2fc-4dd2-91f2-a7358e8f08fa",
   "metadata": {},
   "source": [
    "# TensorFlow"
   ]
  },
  {
   "cell_type": "markdown",
   "id": "c7cc1122-27ce-4c28-9848-f615ea76e606",
   "metadata": {},
   "source": [
    "### TensorFlow, Google tarafından makine öğrenimi modelleri oluşturmak ve dağıtmak için geliştirilmiş açık kaynaklı bir kitaplıktır. AI ve makine öğrenimi için en popüler kitaplıklardan biridir ve Airbnb, Intel ve Twitter gibi şirketler tarafından kullanılır. TensorFlow, sinir ağları ve derin öğrenme modelleri oluşturmak için harikadır ve model oluşturmak ve eğitmek için çok çeşitli araçlara sahiptir. Basit bir sinir ağı oluşturmak için TensorFlow nasıl kullanılır"
   ]
  },
  {
   "cell_type": "code",
   "execution_count": 2,
   "id": "51f2181d-356d-4cc1-9228-6e54bd7e4576",
   "metadata": {},
   "outputs": [],
   "source": [
    "import tensorflow as tf\n",
    "\n",
    "# define the model\n",
    "model = tf.keras.Sequential([\n",
    "    tf.keras.layers.Dense(10, input_shape=(8,), activation='relu'),\n",
    "    tf.keras.layers.Dense(1, activation='sigmoid')\n",
    "])\n",
    "\n",
    "# compile the model\n",
    "model.compile(optimizer='adam', loss='binary_crossentropy', metrics=['accuracy'])"
   ]
  },
  {
   "cell_type": "markdown",
   "id": "e674cbb3-c747-406e-9129-3c6c4e7fc884",
   "metadata": {},
   "source": [
    "# Scikit-learn"
   ]
  },
  {
   "cell_type": "markdown",
   "id": "8bf2b504-d069-45ca-9de2-e1c3ab983dc2",
   "metadata": {},
   "source": [
    "### Scikit-learn, Python'da makine öğrenimi için yaygın olarak kullanılan bir kitaplıktır. NumPy ve SciPy üzerine inşa edilmiştir ve makine öğrenimi modelleri oluşturmak ve değerlendirmek için çok çeşitli araçlar sunar. Scikit-learn, lineer regresyon, karar ağaçları ve k-means kümeleme gibi geleneksel makine öğrenimi modelleri oluşturmak için harikadır.\n",
    "\n",
    "### Basit bir doğrusal regresyon modeli oluşturmak için scikit-learn nasıl kullanılır:\n"
   ]
  },
  {
   "cell_type": "code",
   "execution_count": 1,
   "id": "6b8ebe64-fd96-4b04-872e-463c12e9e495",
   "metadata": {
    "tags": []
   },
   "outputs": [
    {
     "ename": "NameError",
     "evalue": "name 'X_train' is not defined",
     "output_type": "error",
     "traceback": [
      "\u001b[1;31m---------------------------------------------------------------------------\u001b[0m",
      "\u001b[1;31mNameError\u001b[0m                                 Traceback (most recent call last)",
      "Input \u001b[1;32mIn [1]\u001b[0m, in \u001b[0;36m<cell line: 7>\u001b[1;34m()\u001b[0m\n\u001b[0;32m      4\u001b[0m model \u001b[38;5;241m=\u001b[39m LinearRegression()\n\u001b[0;32m      6\u001b[0m \u001b[38;5;66;03m# fit the model to the data\u001b[39;00m\n\u001b[1;32m----> 7\u001b[0m model\u001b[38;5;241m.\u001b[39mfit(\u001b[43mX_train\u001b[49m, y_train)\n\u001b[0;32m      9\u001b[0m \u001b[38;5;66;03m# make predictions\u001b[39;00m\n\u001b[0;32m     10\u001b[0m y_pred \u001b[38;5;241m=\u001b[39m model\u001b[38;5;241m.\u001b[39mpredict(X_test)\n",
      "\u001b[1;31mNameError\u001b[0m: name 'X_train' is not defined"
     ]
    }
   ],
   "source": [
    "from sklearn.linear_model import LinearRegression\n",
    "\n",
    "# create the model\n",
    "model = LinearRegression()\n",
    "\n",
    "# fit the model to the data\n",
    "model.fit(X_train, y_train)\n",
    "\n",
    "# make predictions\n",
    "y_pred = model.predict(X_test)"
   ]
  },
  {
   "cell_type": "markdown",
   "id": "00929d33-be36-46a8-b279-693256f5f945",
   "metadata": {},
   "source": [
    "# Keras"
   ]
  },
  {
   "cell_type": "markdown",
   "id": "8f84bba3-47e8-42d8-ae6f-be8642710adb",
   "metadata": {},
   "source": [
    "### Keras, Python için üst düzey bir sinir ağları kitaplığıdır. TensorFlow üzerine inşa edilmiştir ve sinir ağları oluşturmayı ve eğitmeyi mümkün olduğunca kolaylaştırmak için tasarlanmıştır. Keras, derin öğrenme modelleri oluşturmak için harikadır ve model oluşturmak ve eğitmek için çok çeşitli araçlara sahiptir.\n",
    "\n",
    "### Basit bir evrişimli sinir ağı oluşturmak için Keras nasıl kullanılır:"
   ]
  },
  {
   "cell_type": "code",
   "execution_count": 2,
   "id": "44fdfb68-5c06-40ae-be45-b77438bede3d",
   "metadata": {},
   "outputs": [],
   "source": [
    "from keras.models import Sequential\n",
    "from keras.layers import Conv2D, MaxPooling2D, Flatten, Dense\n",
    "\n",
    "# define the model\n",
    "model = Sequential()\n",
    "model.add(Conv2D(32, (3, 3), input_shape=(28, 28, 1), activation='relu'))\n",
    "model.add(MaxPooling2D(pool_size=(2, 2)))\n",
    "model.add(Flatten())\n",
    "model.add(Dense(128, activation='relu'))\n",
    "model.add(Dense(10, activation='softmax'))\n",
    "\n",
    "# compile the model\n",
    "model.compile(optimizer='adam', loss='categorical_crossentropy', metrics=['accuracy'])"
   ]
  },
  {
   "cell_type": "markdown",
   "id": "a60a6724-04a0-413a-a5a6-9ded8ea474b5",
   "metadata": {},
   "source": [
    "# Pandas"
   ]
  },
  {
   "cell_type": "markdown",
   "id": "6b200252-7d8c-4de6-a41f-ba37e586e21d",
   "metadata": {
    "tags": []
   },
   "source": [
    "### Pandas, Python'da veri işleme ve analiz için bir kitaplıktır. Yapılandırılmış verilerle çalışmak için yaygın olarak kullanılır ve verileri temizlemek, dönüştürmek ve analiz etmek için harikadır. Pandas, SQL'deki tablolara ve sütunlara benzeyen dataframe ve series nesneleri dahil olmak üzere verilerle çalışmak için çok çeşitli araçlara sahiptir.\n",
    "\n",
    "### Bir veri kümesini yüklemek ve keşfetmek için Pandalar nasıl kullanılır:"
   ]
  },
  {
   "cell_type": "code",
   "execution_count": null,
   "id": "2cdb70d4-0cca-46c7-91b4-6aa92be27005",
   "metadata": {},
   "outputs": [],
   "source": [
    "import pandas as pd\n",
    "\n",
    "# load the data\n",
    "data = pd.read_csv('data.csv')\n",
    "\n",
    "# explore the data\n",
    "print(data.head())\n",
    "print(data.describe())"
   ]
  },
  {
   "cell_type": "markdown",
   "id": "d2f1ecc4-dd22-453e-b075-12658de8da30",
   "metadata": {},
   "source": [
    "# Numpy"
   ]
  },
  {
   "cell_type": "markdown",
   "id": "9463078a-4313-46d0-853d-f25f5e8c55c8",
   "metadata": {
    "tags": []
   },
   "source": [
    "### NumPy, Python'da sayısal hesaplama için bir kitaplıktır. Diziler ve matrislerle çalışmak için yaygın olarak kullanılır ve veriler üzerinde matematiksel işlemler gerçekleştirmek için harikadır. NumPy, veri işleme ve analizi için genellikle SciPy ve Pandas gibi diğer kitaplıklarla birlikte kullanılır.\n",
    "\n",
    "### Dizileri oluşturmak ve değiştirmek için NumPy nasıl kullanılır:"
   ]
  },
  {
   "cell_type": "code",
   "execution_count": 3,
   "id": "3fcb8ec6-f953-4fe4-babf-4b85d29288b8",
   "metadata": {},
   "outputs": [
    {
     "name": "stdout",
     "output_type": "stream",
     "text": [
      "3\n",
      "[4 6]\n"
     ]
    }
   ],
   "source": [
    "import numpy as np\n",
    "\n",
    "# create an array\n",
    "a = np.array([1, 2, 3, 4])\n",
    "\n",
    "# perform mathematical operations on the array\n",
    "b = a * 2\n",
    "c = a + b\n",
    "\n",
    "# index and slice the array\n",
    "print(a[2])\n",
    "print(b[1:3])"
   ]
  },
  {
   "cell_type": "markdown",
   "id": "75f25af4-4b81-43e2-9a1e-33fead9d8830",
   "metadata": {},
   "source": [
    "# Matplotlib"
   ]
  },
  {
   "cell_type": "markdown",
   "id": "9d8e445e-3d42-47d0-8938-267eec903d8c",
   "metadata": {
    "tags": []
   },
   "source": [
    "### Matplotlib, Python'da veri görselleştirme için bir kitaplıktır. Çizimler, grafikler ve çizelgeler oluşturmak için yaygın olarak kullanılır ve verileri görselleştirmek için harikadır. Matplotlib, farklı grafik türleri oluşturmak için çok çeşitli araçlara sahiptir ve genellikle veri araştırması için Pandalar gibi diğer kitaplıklarla birlikte kullanılır.\n",
    "\n",
    "### Basit bir dağılım grafiği oluşturmak için Matplotlib nasıl kullanılır:"
   ]
  },
  {
   "cell_type": "code",
   "execution_count": 4,
   "id": "1b8ed653-1797-418d-86e0-f2892c3fa5a2",
   "metadata": {},
   "outputs": [
    {
     "data": {
      "image/png": "[encoded data removed]",
      "text/plain": [
       "<Figure size 432x288 with 1 Axes>"
      ]
     },
     "metadata": {
      "needs_background": "light"
     },
     "output_type": "display_data"
    }
   ],
   "source": [
    "import matplotlib.pyplot as plt\n",
    "\n",
    "# create some data\n",
    "x = [1, 2, 3, 4]\n",
    "y = [2, 4, 6, 8]\n",
    "\n",
    "# create the scatter plot\n",
    "plt.scatter(x, y)\n",
    "\n",
    "# add labels and title\n",
    "plt.xlabel('X')\n",
    "plt.ylabel('Y')\n",
    "plt.title('Scatter Plot')\n",
    "\n",
    "# show the plot\n",
    "plt.show()"
   ]
  },
  {
   "cell_type": "markdown",
   "id": "91501481-9d6f-4acf-ae99-ed163f42f015",
   "metadata": {},
   "source": [
    "# Seaborn"
   ]
  },
  {
   "cell_type": "markdown",
   "id": "83c55ba6-fb98-4824-9f41-0268fa2207bb",
   "metadata": {
    "tags": []
   },
   "source": [
    "### Seaborn, Python'da veri görselleştirme için bir kitaplıktır. Matplotlib üzerine inşa edilmiştir ve güzel ve bilgilendirici araziler oluşturmayı olabildiğince kolaylaştırmak için tasarlanmıştır. Seaborn, istatistiksel grafikler oluşturmak için harikadır ve genellikle veri araştırması için Pandas ve NumPy gibi diğer kitaplıklarla birlikte kullanılır.\n",
    "\n",
    "### Basit bir çubuk grafik oluşturmak için Seaborn nasıl kullanılır:"
   ]
  },
  {
   "cell_type": "code",
   "execution_count": 5,
   "id": "e518bffe-7511-43bd-9518-f157c820d9b3",
   "metadata": {},
   "outputs": [
    {
     "ename": "KeyError",
     "evalue": "0",
     "output_type": "error",
     "traceback": [
      "\u001b[1;31m---------------------------------------------------------------------------\u001b[0m",
      "\u001b[1;31mKeyError\u001b[0m                                  Traceback (most recent call last)",
      "Input \u001b[1;32mIn [5]\u001b[0m, in \u001b[0;36m<cell line: 7>\u001b[1;34m()\u001b[0m\n\u001b[0;32m      4\u001b[0m data \u001b[38;5;241m=\u001b[39m {\u001b[38;5;124m'\u001b[39m\u001b[38;5;124mA\u001b[39m\u001b[38;5;124m'\u001b[39m: [\u001b[38;5;241m1\u001b[39m, \u001b[38;5;241m2\u001b[39m, \u001b[38;5;241m3\u001b[39m], \u001b[38;5;124m'\u001b[39m\u001b[38;5;124mB\u001b[39m\u001b[38;5;124m'\u001b[39m: [\u001b[38;5;241m4\u001b[39m, \u001b[38;5;241m5\u001b[39m, \u001b[38;5;241m6\u001b[39m]}\n\u001b[0;32m      6\u001b[0m \u001b[38;5;66;03m# create the bar plot\u001b[39;00m\n\u001b[1;32m----> 7\u001b[0m \u001b[43msns\u001b[49m\u001b[38;5;241;43m.\u001b[39;49m\u001b[43mbarplot\u001b[49m\u001b[43m(\u001b[49m\u001b[43mdata\u001b[49m\u001b[38;5;241;43m=\u001b[39;49m\u001b[43mdata\u001b[49m\u001b[43m)\u001b[49m\n\u001b[0;32m      9\u001b[0m \u001b[38;5;66;03m# add labels and title\u001b[39;00m\n\u001b[0;32m     10\u001b[0m plt\u001b[38;5;241m.\u001b[39mxlabel(\u001b[38;5;124m'\u001b[39m\u001b[38;5;124mX\u001b[39m\u001b[38;5;124m'\u001b[39m)\n",
      "File \u001b[1;32m~\\anaconda3\\lib\\site-packages\\seaborn\\_decorators.py:46\u001b[0m, in \u001b[0;36m_deprecate_positional_args.<locals>.inner_f\u001b[1;34m(*args, **kwargs)\u001b[0m\n\u001b[0;32m     36\u001b[0m     warnings\u001b[38;5;241m.\u001b[39mwarn(\n\u001b[0;32m     37\u001b[0m         \u001b[38;5;124m\"\u001b[39m\u001b[38;5;124mPass the following variable\u001b[39m\u001b[38;5;132;01m{}\u001b[39;00m\u001b[38;5;124m as \u001b[39m\u001b[38;5;132;01m{}\u001b[39;00m\u001b[38;5;124mkeyword arg\u001b[39m\u001b[38;5;132;01m{}\u001b[39;00m\u001b[38;5;124m: \u001b[39m\u001b[38;5;132;01m{}\u001b[39;00m\u001b[38;5;124m. \u001b[39m\u001b[38;5;124m\"\u001b[39m\n\u001b[0;32m     38\u001b[0m         \u001b[38;5;124m\"\u001b[39m\u001b[38;5;124mFrom version 0.12, the only valid positional argument \u001b[39m\u001b[38;5;124m\"\u001b[39m\n\u001b[1;32m   (...)\u001b[0m\n\u001b[0;32m     43\u001b[0m         \u001b[38;5;167;01mFutureWarning\u001b[39;00m\n\u001b[0;32m     44\u001b[0m     )\n\u001b[0;32m     45\u001b[0m kwargs\u001b[38;5;241m.\u001b[39mupdate({k: arg \u001b[38;5;28;01mfor\u001b[39;00m k, arg \u001b[38;5;129;01min\u001b[39;00m \u001b[38;5;28mzip\u001b[39m(sig\u001b[38;5;241m.\u001b[39mparameters, args)})\n\u001b[1;32m---> 46\u001b[0m \u001b[38;5;28;01mreturn\u001b[39;00m f(\u001b[38;5;241m*\u001b[39m\u001b[38;5;241m*\u001b[39mkwargs)\n",
      "File \u001b[1;32m~\\anaconda3\\lib\\site-packages\\seaborn\\categorical.py:3182\u001b[0m, in \u001b[0;36mbarplot\u001b[1;34m(x, y, hue, data, order, hue_order, estimator, ci, n_boot, units, seed, orient, color, palette, saturation, errcolor, errwidth, capsize, dodge, ax, **kwargs)\u001b[0m\n\u001b[0;32m   3169\u001b[0m \u001b[38;5;129m@_deprecate_positional_args\u001b[39m\n\u001b[0;32m   3170\u001b[0m \u001b[38;5;28;01mdef\u001b[39;00m \u001b[38;5;21mbarplot\u001b[39m(\n\u001b[0;32m   3171\u001b[0m     \u001b[38;5;241m*\u001b[39m,\n\u001b[1;32m   (...)\u001b[0m\n\u001b[0;32m   3179\u001b[0m     \u001b[38;5;241m*\u001b[39m\u001b[38;5;241m*\u001b[39mkwargs,\n\u001b[0;32m   3180\u001b[0m ):\n\u001b[1;32m-> 3182\u001b[0m     plotter \u001b[38;5;241m=\u001b[39m \u001b[43m_BarPlotter\u001b[49m\u001b[43m(\u001b[49m\u001b[43mx\u001b[49m\u001b[43m,\u001b[49m\u001b[43m \u001b[49m\u001b[43my\u001b[49m\u001b[43m,\u001b[49m\u001b[43m \u001b[49m\u001b[43mhue\u001b[49m\u001b[43m,\u001b[49m\u001b[43m \u001b[49m\u001b[43mdata\u001b[49m\u001b[43m,\u001b[49m\u001b[43m \u001b[49m\u001b[43morder\u001b[49m\u001b[43m,\u001b[49m\u001b[43m \u001b[49m\u001b[43mhue_order\u001b[49m\u001b[43m,\u001b[49m\n\u001b[0;32m   3183\u001b[0m \u001b[43m                          \u001b[49m\u001b[43mestimator\u001b[49m\u001b[43m,\u001b[49m\u001b[43m \u001b[49m\u001b[43mci\u001b[49m\u001b[43m,\u001b[49m\u001b[43m \u001b[49m\u001b[43mn_boot\u001b[49m\u001b[43m,\u001b[49m\u001b[43m \u001b[49m\u001b[43munits\u001b[49m\u001b[43m,\u001b[49m\u001b[43m \u001b[49m\u001b[43mseed\u001b[49m\u001b[43m,\u001b[49m\n\u001b[0;32m   3184\u001b[0m \u001b[43m                          \u001b[49m\u001b[43morient\u001b[49m\u001b[43m,\u001b[49m\u001b[43m \u001b[49m\u001b[43mcolor\u001b[49m\u001b[43m,\u001b[49m\u001b[43m \u001b[49m\u001b[43mpalette\u001b[49m\u001b[43m,\u001b[49m\u001b[43m \u001b[49m\u001b[43msaturation\u001b[49m\u001b[43m,\u001b[49m\n\u001b[0;32m   3185\u001b[0m \u001b[43m                          \u001b[49m\u001b[43merrcolor\u001b[49m\u001b[43m,\u001b[49m\u001b[43m \u001b[49m\u001b[43merrwidth\u001b[49m\u001b[43m,\u001b[49m\u001b[43m \u001b[49m\u001b[43mcapsize\u001b[49m\u001b[43m,\u001b[49m\u001b[43m \u001b[49m\u001b[43mdodge\u001b[49m\u001b[43m)\u001b[49m\n\u001b[0;32m   3187\u001b[0m     \u001b[38;5;28;01mif\u001b[39;00m ax \u001b[38;5;129;01mis\u001b[39;00m \u001b[38;5;28;01mNone\u001b[39;00m:\n\u001b[0;32m   3188\u001b[0m         ax \u001b[38;5;241m=\u001b[39m plt\u001b[38;5;241m.\u001b[39mgca()\n",
      "File \u001b[1;32m~\\anaconda3\\lib\\site-packages\\seaborn\\categorical.py:1584\u001b[0m, in \u001b[0;36m_BarPlotter.__init__\u001b[1;34m(self, x, y, hue, data, order, hue_order, estimator, ci, n_boot, units, seed, orient, color, palette, saturation, errcolor, errwidth, capsize, dodge)\u001b[0m\n\u001b[0;32m   1579\u001b[0m \u001b[38;5;28;01mdef\u001b[39;00m \u001b[38;5;21m__init__\u001b[39m(\u001b[38;5;28mself\u001b[39m, x, y, hue, data, order, hue_order,\n\u001b[0;32m   1580\u001b[0m              estimator, ci, n_boot, units, seed,\n\u001b[0;32m   1581\u001b[0m              orient, color, palette, saturation, errcolor,\n\u001b[0;32m   1582\u001b[0m              errwidth, capsize, dodge):\n\u001b[0;32m   1583\u001b[0m     \u001b[38;5;124;03m\"\"\"Initialize the plotter.\"\"\"\u001b[39;00m\n\u001b[1;32m-> 1584\u001b[0m     \u001b[38;5;28;43mself\u001b[39;49m\u001b[38;5;241;43m.\u001b[39;49m\u001b[43mestablish_variables\u001b[49m\u001b[43m(\u001b[49m\u001b[43mx\u001b[49m\u001b[43m,\u001b[49m\u001b[43m \u001b[49m\u001b[43my\u001b[49m\u001b[43m,\u001b[49m\u001b[43m \u001b[49m\u001b[43mhue\u001b[49m\u001b[43m,\u001b[49m\u001b[43m \u001b[49m\u001b[43mdata\u001b[49m\u001b[43m,\u001b[49m\u001b[43m \u001b[49m\u001b[43morient\u001b[49m\u001b[43m,\u001b[49m\n\u001b[0;32m   1585\u001b[0m \u001b[43m                             \u001b[49m\u001b[43morder\u001b[49m\u001b[43m,\u001b[49m\u001b[43m \u001b[49m\u001b[43mhue_order\u001b[49m\u001b[43m,\u001b[49m\u001b[43m \u001b[49m\u001b[43munits\u001b[49m\u001b[43m)\u001b[49m\n\u001b[0;32m   1586\u001b[0m     \u001b[38;5;28mself\u001b[39m\u001b[38;5;241m.\u001b[39mestablish_colors(color, palette, saturation)\n\u001b[0;32m   1587\u001b[0m     \u001b[38;5;28mself\u001b[39m\u001b[38;5;241m.\u001b[39mestimate_statistic(estimator, ci, n_boot, seed)\n",
      "File \u001b[1;32m~\\anaconda3\\lib\\site-packages\\seaborn\\categorical.py:118\u001b[0m, in \u001b[0;36m_CategoricalPlotter.establish_variables\u001b[1;34m(self, x, y, hue, data, orient, order, hue_order, units)\u001b[0m\n\u001b[0;32m    115\u001b[0m     plot_data \u001b[38;5;241m=\u001b[39m [[]]\n\u001b[0;32m    117\u001b[0m \u001b[38;5;66;03m# The input data is a flat list\u001b[39;00m\n\u001b[1;32m--> 118\u001b[0m \u001b[38;5;28;01melif\u001b[39;00m np\u001b[38;5;241m.\u001b[39misscalar(\u001b[43mdata\u001b[49m\u001b[43m[\u001b[49m\u001b[38;5;241;43m0\u001b[39;49m\u001b[43m]\u001b[49m):\n\u001b[0;32m    119\u001b[0m     plot_data \u001b[38;5;241m=\u001b[39m [data]\n\u001b[0;32m    121\u001b[0m \u001b[38;5;66;03m# The input data is a nested list\u001b[39;00m\n\u001b[0;32m    122\u001b[0m \u001b[38;5;66;03m# This will catch some things that might fail later\u001b[39;00m\n\u001b[0;32m    123\u001b[0m \u001b[38;5;66;03m# but exhaustive checks are hard\u001b[39;00m\n\u001b[0;32m    124\u001b[0m \u001b[38;5;28;01melse\u001b[39;00m:\n",
      "\u001b[1;31mKeyError\u001b[0m: 0"
     ]
    }
   ],
   "source": [
    "import seaborn as sns\n",
    "\n",
    "# create some data\n",
    "data = {'A': [1, 2, 3], 'B': [4, 5, 6]}\n",
    "\n",
    "# create the bar plot\n",
    "sns.barplot(data=data)\n",
    "\n",
    "# add labels and title\n",
    "plt.xlabel('X')\n",
    "plt.ylabel('Y')\n",
    "plt.title('Bar Plot')\n",
    "\n",
    "# show the plot\n",
    "plt.show()"
   ]
  },
  {
   "cell_type": "code",
   "execution_count": null,
   "id": "572e8e07-3a62-424a-9a8d-4edf966bb0ae",
   "metadata": {},
   "outputs": [],
   "source": []
  }
 ],
 "metadata": {
  "kernelspec": {
   "display_name": "Python 3 (ipykernel)",
   "language": "python",
   "name": "python3"
  },
  "language_info": {
   "codemirror_mode": {
    "name": "ipython",
    "version": 3
   },
   "file_extension": ".py",
   "mimetype": "text/x-python",
   "name": "python",
   "nbconvert_exporter": "python",
   "pygments_lexer": "ipython3",
   "version": "3.9.12"
  }
 },
 "nbformat": 4,
 "nbformat_minor": 5
}
