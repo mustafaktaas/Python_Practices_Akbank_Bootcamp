{
 "cells": [
  {
   "cell_type": "code",
   "execution_count": 1,
   "id": "6abde3eb-9af3-4523-b4ec-1a22ee191266",
   "metadata": {},
   "outputs": [
    {
     "name": "stdout",
     "output_type": "stream",
     "text": [
      "Hello World!\n"
     ]
    }
   ],
   "source": [
    "print(\"Hello World!\")"
   ]
  },
  {
   "cell_type": "code",
   "execution_count": 3,
   "id": "1d2aca1a-d5e4-47f0-bbba-4dd080c6b620",
   "metadata": {},
   "outputs": [
    {
     "name": "stdout",
     "output_type": "stream",
     "text": [
      "Float Data: 2.3\n",
      "x:3.4\n"
     ]
    }
   ],
   "source": [
    "# Veri Tipleri\n",
    "float_data = 2.3\n",
    "x = 3.4\n",
    "print(f\"Float Data: {float_data}\\nx:{x}\")"
   ]
  },
  {
   "cell_type": "code",
   "execution_count": 4,
   "id": "b6335da2-75b7-455c-913d-ddf141b5eee7",
   "metadata": {},
   "outputs": [
    {
     "data": {
      "text/plain": [
       "2"
      ]
     },
     "execution_count": 4,
     "metadata": {},
     "output_type": "execute_result"
    }
   ],
   "source": [
    "round(float_data)"
   ]
  },
  {
   "cell_type": "code",
   "execution_count": 5,
   "id": "335ce256-4110-4fb6-8b68-7541dac54fe6",
   "metadata": {},
   "outputs": [
    {
     "data": {
      "text/plain": [
       "8"
      ]
     },
     "execution_count": 5,
     "metadata": {},
     "output_type": "execute_result"
    }
   ],
   "source": [
    "round(7.9)"
   ]
  },
  {
   "cell_type": "code",
   "execution_count": 7,
   "id": "06f3370d-56d0-4b03-9642-7c249ea24005",
   "metadata": {},
   "outputs": [
    {
     "data": {
      "text/plain": [
       "32"
      ]
     },
     "execution_count": 7,
     "metadata": {},
     "output_type": "execute_result"
    }
   ],
   "source": [
    "abs(-32)"
   ]
  },
  {
   "cell_type": "code",
   "execution_count": 11,
   "id": "8ababbd2-f1d7-4f39-a31d-e7f8ba5238ad",
   "metadata": {},
   "outputs": [
    {
     "name": "stdout",
     "output_type": "stream",
     "text": [
      "12\n",
      "8\n",
      "20\n",
      "100\n",
      "5\n",
      "5\n",
      "0\n"
     ]
    }
   ],
   "source": [
    "# Matematiksle Operatörler\n",
    "x = 10\n",
    "\n",
    "print(x+2)\n",
    "print(x-2)\n",
    "print(x*2)\n",
    "print(x**2)\n",
    "print(int(x/2))\n",
    "print(x//2)\n",
    "print(x%2)"
   ]
  },
  {
   "cell_type": "code",
   "execution_count": 12,
   "id": "11b1e9f7-56ab-4357-b344-1f70d82cfd39",
   "metadata": {},
   "outputs": [
    {
     "data": {
      "text/plain": [
       "float"
      ]
     },
     "execution_count": 12,
     "metadata": {},
     "output_type": "execute_result"
    }
   ],
   "source": [
    "type(10/2)"
   ]
  },
  {
   "cell_type": "code",
   "execution_count": 13,
   "id": "491234fd-b72e-4ddb-8c05-595929d3c151",
   "metadata": {},
   "outputs": [
    {
     "data": {
      "text/plain": [
       "5.0"
      ]
     },
     "execution_count": 13,
     "metadata": {},
     "output_type": "execute_result"
    }
   ],
   "source": [
    "10/2"
   ]
  },
  {
   "cell_type": "code",
   "execution_count": 14,
   "id": "81eb6fdf-b1c9-4420-bf0a-73181fa65d62",
   "metadata": {},
   "outputs": [
    {
     "data": {
      "text/plain": [
       "5"
      ]
     },
     "execution_count": 14,
     "metadata": {},
     "output_type": "execute_result"
    }
   ],
   "source": [
    "10//2"
   ]
  },
  {
   "cell_type": "code",
   "execution_count": 15,
   "id": "70f76061-5d85-4967-9798-32c842548d9c",
   "metadata": {},
   "outputs": [
    {
     "data": {
      "text/plain": [
       "6.15"
      ]
     },
     "execution_count": 15,
     "metadata": {},
     "output_type": "execute_result"
    }
   ],
   "source": [
    "12.3/2"
   ]
  },
  {
   "cell_type": "code",
   "execution_count": 16,
   "id": "1538dc1c-63c7-4e62-a3b3-6e369a27b878",
   "metadata": {},
   "outputs": [
    {
     "data": {
      "text/plain": [
       "6.0"
      ]
     },
     "execution_count": 16,
     "metadata": {},
     "output_type": "execute_result"
    }
   ],
   "source": [
    "12.3//2"
   ]
  },
  {
   "cell_type": "code",
   "execution_count": 17,
   "id": "a205b866-7585-429e-8cca-a0a44fe19559",
   "metadata": {},
   "outputs": [],
   "source": [
    "x=10"
   ]
  },
  {
   "cell_type": "code",
   "execution_count": 18,
   "id": "549572f0-7d14-430b-86ac-d1387890f003",
   "metadata": {},
   "outputs": [
    {
     "data": {
      "text/plain": [
       "int"
      ]
     },
     "execution_count": 18,
     "metadata": {},
     "output_type": "execute_result"
    }
   ],
   "source": [
    "# Tip Dönüşümleri\n",
    "type(10)"
   ]
  },
  {
   "cell_type": "code",
   "execution_count": 19,
   "id": "19157771-ba90-4046-9259-0a252773fc13",
   "metadata": {},
   "outputs": [
    {
     "data": {
      "text/plain": [
       "float"
      ]
     },
     "execution_count": 19,
     "metadata": {},
     "output_type": "execute_result"
    }
   ],
   "source": [
    "type(15.6)"
   ]
  },
  {
   "cell_type": "code",
   "execution_count": 20,
   "id": "40e2f1c6-ec05-4171-a977-ec12c9f119b2",
   "metadata": {},
   "outputs": [
    {
     "data": {
      "text/plain": [
       "bool"
      ]
     },
     "execution_count": 20,
     "metadata": {},
     "output_type": "execute_result"
    }
   ],
   "source": [
    "type(True)"
   ]
  },
  {
   "cell_type": "code",
   "execution_count": 21,
   "id": "e9bfe0e5-8674-432b-a022-1fe8ac6ef6b8",
   "metadata": {},
   "outputs": [
    {
     "data": {
      "text/plain": [
       "str"
      ]
     },
     "execution_count": 21,
     "metadata": {},
     "output_type": "execute_result"
    }
   ],
   "source": [
    "type(\"Fatma\")"
   ]
  },
  {
   "cell_type": "code",
   "execution_count": 23,
   "id": "ade23a08-568a-4dc6-b2af-674e92ee2aa0",
   "metadata": {},
   "outputs": [
    {
     "data": {
      "text/plain": [
       "str"
      ]
     },
     "execution_count": 23,
     "metadata": {},
     "output_type": "execute_result"
    }
   ],
   "source": [
    "type(\"n\")"
   ]
  },
  {
   "cell_type": "code",
   "execution_count": 24,
   "id": "3d51d35b-2b0f-4204-9024-8b9055310e20",
   "metadata": {},
   "outputs": [
    {
     "data": {
      "text/plain": [
       "'10'"
      ]
     },
     "execution_count": 24,
     "metadata": {},
     "output_type": "execute_result"
    }
   ],
   "source": [
    "x = 10\n",
    "str(x)"
   ]
  },
  {
   "cell_type": "code",
   "execution_count": 25,
   "id": "db1c18b6-0029-4269-ae1a-e1297a6e2e63",
   "metadata": {},
   "outputs": [
    {
     "data": {
      "text/plain": [
       "int"
      ]
     },
     "execution_count": 25,
     "metadata": {},
     "output_type": "execute_result"
    }
   ],
   "source": [
    "type(x)"
   ]
  },
  {
   "cell_type": "code",
   "execution_count": 26,
   "id": "cb1d42d7-f931-490b-9359-58fab96525bb",
   "metadata": {},
   "outputs": [
    {
     "data": {
      "text/plain": [
       "10.0"
      ]
     },
     "execution_count": 26,
     "metadata": {},
     "output_type": "execute_result"
    }
   ],
   "source": [
    "float(x)"
   ]
  },
  {
   "cell_type": "code",
   "execution_count": 27,
   "id": "9e9ed4b5-096f-444b-949f-41a7e543795b",
   "metadata": {},
   "outputs": [
    {
     "data": {
      "text/plain": [
       "True"
      ]
     },
     "execution_count": 27,
     "metadata": {},
     "output_type": "execute_result"
    }
   ],
   "source": [
    "x = \"True\"\n",
    "bool(x)"
   ]
  },
  {
   "cell_type": "code",
   "execution_count": 28,
   "id": "2fdc94ce-a664-43f5-ae4c-bde0542a86ad",
   "metadata": {},
   "outputs": [],
   "source": [
    "y = \"1000\""
   ]
  },
  {
   "cell_type": "code",
   "execution_count": 29,
   "id": "6b782672-a4dd-4eda-bd42-adfd2db5a3aa",
   "metadata": {},
   "outputs": [
    {
     "data": {
      "text/plain": [
       "1000"
      ]
     },
     "execution_count": 29,
     "metadata": {},
     "output_type": "execute_result"
    }
   ],
   "source": [
    "int(y)"
   ]
  },
  {
   "cell_type": "code",
   "execution_count": 30,
   "id": "2f93a237-b74b-4816-863d-3e6608b38c98",
   "metadata": {},
   "outputs": [
    {
     "data": {
      "text/plain": [
       "1000.0"
      ]
     },
     "execution_count": 30,
     "metadata": {},
     "output_type": "execute_result"
    }
   ],
   "source": [
    "float(y)"
   ]
  },
  {
   "cell_type": "code",
   "execution_count": 32,
   "id": "b8a412f6-a8ce-483b-8a90-13944f67041c",
   "metadata": {},
   "outputs": [
    {
     "data": {
      "text/plain": [
       "12.4"
      ]
     },
     "execution_count": 32,
     "metadata": {},
     "output_type": "execute_result"
    }
   ],
   "source": [
    "x = \"12.4\"\n",
    "float(x)"
   ]
  },
  {
   "cell_type": "code",
   "execution_count": 33,
   "id": "163f715b-6d19-422e-b817-4e42f7b23b2c",
   "metadata": {},
   "outputs": [],
   "source": [
    "# String"
   ]
  },
  {
   "cell_type": "code",
   "execution_count": 34,
   "id": "a7fe2562-f3ea-4d89-8b3e-11360b0876e8",
   "metadata": {},
   "outputs": [],
   "source": [
    "x = \"İstanbul\""
   ]
  },
  {
   "cell_type": "code",
   "execution_count": 35,
   "id": "2533f8dd-0e35-4531-964d-d36231ab1fe8",
   "metadata": {},
   "outputs": [
    {
     "data": {
      "text/plain": [
       "'İ'"
      ]
     },
     "execution_count": 35,
     "metadata": {},
     "output_type": "execute_result"
    }
   ],
   "source": [
    "x[0]"
   ]
  },
  {
   "cell_type": "code",
   "execution_count": 36,
   "id": "38420531-d31d-4353-a7c2-eaa15298d8c0",
   "metadata": {},
   "outputs": [],
   "source": [
    "x= \"Omer\""
   ]
  },
  {
   "cell_type": "code",
   "execution_count": 38,
   "id": "632a0162-b69c-4115-bbc8-eb88211a45f0",
   "metadata": {},
   "outputs": [
    {
     "data": {
      "text/plain": [
       "4"
      ]
     },
     "execution_count": 38,
     "metadata": {},
     "output_type": "execute_result"
    }
   ],
   "source": [
    "len(x)"
   ]
  },
  {
   "cell_type": "code",
   "execution_count": 39,
   "id": "f2cceea3-29a2-4a29-92e9-a1876c6916f6",
   "metadata": {},
   "outputs": [
    {
     "data": {
      "text/plain": [
       "'r'"
      ]
     },
     "execution_count": 39,
     "metadata": {},
     "output_type": "execute_result"
    }
   ],
   "source": [
    "x[len(x)-1]"
   ]
  },
  {
   "cell_type": "code",
   "execution_count": 40,
   "id": "943df35e-5eba-433a-8df9-c1f9f5a1e00f",
   "metadata": {},
   "outputs": [
    {
     "data": {
      "text/plain": [
       "'O'"
      ]
     },
     "execution_count": 40,
     "metadata": {},
     "output_type": "execute_result"
    }
   ],
   "source": [
    "x[0]"
   ]
  },
  {
   "cell_type": "code",
   "execution_count": 41,
   "id": "975ff741-47b2-4fda-bcfa-a82b9bd1b73d",
   "metadata": {},
   "outputs": [],
   "source": [
    "x = \"İstanbul\"\n",
    "x_slicing = x[2:5]"
   ]
  },
  {
   "cell_type": "code",
   "execution_count": 42,
   "id": "a7f70fda-e196-4161-b2f9-7b8ef4f07dd3",
   "metadata": {},
   "outputs": [
    {
     "data": {
      "text/plain": [
       "'tan'"
      ]
     },
     "execution_count": 42,
     "metadata": {},
     "output_type": "execute_result"
    }
   ],
   "source": [
    "x_slicing"
   ]
  },
  {
   "cell_type": "code",
   "execution_count": 43,
   "id": "ee45f51c-ab6d-47bb-8a96-ae8c7cf7052e",
   "metadata": {},
   "outputs": [
    {
     "data": {
      "text/plain": [
       "True"
      ]
     },
     "execution_count": 43,
     "metadata": {},
     "output_type": "execute_result"
    }
   ],
   "source": [
    "x = True\n",
    "y = False\n",
    "\n",
    "x or y"
   ]
  },
  {
   "cell_type": "code",
   "execution_count": 45,
   "id": "7a23c11f-6e21-475c-a7b4-366c984c4de9",
   "metadata": {},
   "outputs": [
    {
     "name": "stdout",
     "output_type": "stream",
     "text": [
      "False\n"
     ]
    }
   ],
   "source": [
    "print(x and y)"
   ]
  },
  {
   "cell_type": "code",
   "execution_count": 46,
   "id": "0865a060-cbf2-4cd5-bb22-2a4b7c6a989a",
   "metadata": {},
   "outputs": [
    {
     "name": "stdout",
     "output_type": "stream",
     "text": [
      "False\n"
     ]
    }
   ],
   "source": [
    "print(not x)"
   ]
  },
  {
   "cell_type": "code",
   "execution_count": 47,
   "id": "dbf90be7-b00b-47cf-bc0a-ea2294735521",
   "metadata": {},
   "outputs": [
    {
     "data": {
      "text/plain": [
       "True"
      ]
     },
     "execution_count": 47,
     "metadata": {},
     "output_type": "execute_result"
    }
   ],
   "source": [
    "10 > 9"
   ]
  },
  {
   "cell_type": "code",
   "execution_count": 49,
   "id": "f1e25c47-789c-43e2-bbbb-7b8e0808e8cb",
   "metadata": {},
   "outputs": [],
   "source": [
    "x = 9"
   ]
  },
  {
   "cell_type": "code",
   "execution_count": 50,
   "id": "2516f25c-d74b-4797-8de3-a4ca92a1c887",
   "metadata": {},
   "outputs": [
    {
     "data": {
      "text/plain": [
       "False"
      ]
     },
     "execution_count": 50,
     "metadata": {},
     "output_type": "execute_result"
    }
   ],
   "source": [
    "10 < 9"
   ]
  },
  {
   "cell_type": "code",
   "execution_count": 51,
   "id": "613db1e0-5ae1-435d-8db9-cf5df22a2493",
   "metadata": {},
   "outputs": [
    {
     "data": {
      "text/plain": [
       "False"
      ]
     },
     "execution_count": 51,
     "metadata": {},
     "output_type": "execute_result"
    }
   ],
   "source": [
    "10 == 9"
   ]
  },
  {
   "cell_type": "code",
   "execution_count": 52,
   "id": "91adce26-7fcf-483d-b017-80a4816c86b3",
   "metadata": {},
   "outputs": [
    {
     "data": {
      "text/plain": [
       "True"
      ]
     },
     "execution_count": 52,
     "metadata": {},
     "output_type": "execute_result"
    }
   ],
   "source": [
    "10 != 9"
   ]
  },
  {
   "cell_type": "code",
   "execution_count": 53,
   "id": "717f47dc-bc15-4713-b82b-3846e4d627d5",
   "metadata": {},
   "outputs": [],
   "source": [
    "programming_languages = [\"Java\" , \"JavaScript\", \"Python\", \"TypeScript\", 3.10,3,19,True ,[3,4,5]]"
   ]
  },
  {
   "cell_type": "code",
   "execution_count": 54,
   "id": "a2f9a6df-277b-4da8-bd61-b8229e44a101",
   "metadata": {},
   "outputs": [
    {
     "data": {
      "text/plain": [
       "['Java', 'JavaScript', 'Python', 'TypeScript', 3.1, 3, 19, True, [3, 4, 5]]"
      ]
     },
     "execution_count": 54,
     "metadata": {},
     "output_type": "execute_result"
    }
   ],
   "source": [
    "programming_languages"
   ]
  },
  {
   "cell_type": "code",
   "execution_count": 55,
   "id": "a1435d94-dee7-4734-820b-5d81d2e27d63",
   "metadata": {},
   "outputs": [
    {
     "data": {
      "text/plain": [
       "list"
      ]
     },
     "execution_count": 55,
     "metadata": {},
     "output_type": "execute_result"
    }
   ],
   "source": [
    "type(programming_languages)"
   ]
  },
  {
   "cell_type": "code",
   "execution_count": 56,
   "id": "dee896a9-c050-417e-a53d-6a9fc00f1fe7",
   "metadata": {},
   "outputs": [
    {
     "data": {
      "text/plain": [
       "'Y'"
      ]
     },
     "execution_count": 56,
     "metadata": {},
     "output_type": "execute_result"
    }
   ],
   "source": [
    "x = \"Yalın\"\n",
    "x[0]"
   ]
  },
  {
   "cell_type": "code",
   "execution_count": 57,
   "id": "4ac256df-7ca5-46dc-b852-41ee0c477bc8",
   "metadata": {},
   "outputs": [
    {
     "data": {
      "text/plain": [
       "'Java'"
      ]
     },
     "execution_count": 57,
     "metadata": {},
     "output_type": "execute_result"
    }
   ],
   "source": [
    "programming_languages[0]"
   ]
  },
  {
   "cell_type": "code",
   "execution_count": 58,
   "id": "b8202036-1a06-4316-8325-c640f4b80532",
   "metadata": {},
   "outputs": [
    {
     "data": {
      "text/plain": [
       "'TypeScript'"
      ]
     },
     "execution_count": 58,
     "metadata": {},
     "output_type": "execute_result"
    }
   ],
   "source": [
    "programming_languages[3]"
   ]
  },
  {
   "cell_type": "code",
   "execution_count": 61,
   "id": "9991cd49-0c7e-4632-90d9-3812e3090d9b",
   "metadata": {},
   "outputs": [
    {
     "data": {
      "text/plain": [
       "['TypeScript', 3.1, 3]"
      ]
     },
     "execution_count": 61,
     "metadata": {},
     "output_type": "execute_result"
    }
   ],
   "source": [
    "programming_languages[3:6]"
   ]
  },
  {
   "cell_type": "code",
   "execution_count": 63,
   "id": "1f37c7fe-c017-4e7f-ab03-6d446d93a351",
   "metadata": {},
   "outputs": [
    {
     "data": {
      "text/plain": [
       "[[3, 4, 5], True, 19, 3, 3.1, 'TypeScript', 'Python', 'JavaScript', 'Java']"
      ]
     },
     "execution_count": 63,
     "metadata": {},
     "output_type": "execute_result"
    }
   ],
   "source": [
    "programming_languages[::-1]"
   ]
  },
  {
   "cell_type": "code",
   "execution_count": 64,
   "id": "57d756b3-fde0-48bd-9fee-5b75ae9b82af",
   "metadata": {},
   "outputs": [],
   "source": [
    "programming_languages.reverse()"
   ]
  },
  {
   "cell_type": "code",
   "execution_count": 65,
   "id": "6b704ccf-55fa-46eb-adf4-96a9f6003c91",
   "metadata": {},
   "outputs": [
    {
     "data": {
      "text/plain": [
       "[[3, 4, 5], True, 19, 3, 3.1, 'TypeScript', 'Python', 'JavaScript', 'Java']"
      ]
     },
     "execution_count": 65,
     "metadata": {},
     "output_type": "execute_result"
    }
   ],
   "source": [
    "programming_languages"
   ]
  },
  {
   "cell_type": "code",
   "execution_count": 67,
   "id": "e1d71870-4a49-47f1-9429-1caf4a093cef",
   "metadata": {},
   "outputs": [
    {
     "data": {
      "text/plain": [
       "'İt'"
      ]
     },
     "execution_count": 67,
     "metadata": {},
     "output_type": "execute_result"
    }
   ],
   "source": [
    "x = \"İstanbul\"\n",
    "x[0:4:2]"
   ]
  },
  {
   "cell_type": "code",
   "execution_count": 68,
   "id": "458db3a7-51a5-433b-a321-688f0b084797",
   "metadata": {},
   "outputs": [
    {
     "data": {
      "text/plain": [
       "'lubnatsİ'"
      ]
     },
     "execution_count": 68,
     "metadata": {},
     "output_type": "execute_result"
    }
   ],
   "source": [
    "x[::-1]"
   ]
  },
  {
   "cell_type": "code",
   "execution_count": 69,
   "id": "b2264e16-5a43-4b6f-afdb-e161f00f0ca6",
   "metadata": {},
   "outputs": [],
   "source": [
    "# append,insert,extend "
   ]
  },
  {
   "cell_type": "code",
   "execution_count": 70,
   "id": "c4efd26b-4f7a-4426-9df3-16bd30f7d00f",
   "metadata": {},
   "outputs": [],
   "source": [
    "liste = [1, 2, 3, 4, 5, 6, 7, 8]"
   ]
  },
  {
   "cell_type": "code",
   "execution_count": 71,
   "id": "d450ac36-1692-4fcc-81d7-3320ce0be251",
   "metadata": {},
   "outputs": [],
   "source": [
    "liste.append(3)"
   ]
  },
  {
   "cell_type": "code",
   "execution_count": 73,
   "id": "b250ea3f-373a-4101-b1c5-310b35d41134",
   "metadata": {},
   "outputs": [
    {
     "data": {
      "text/plain": [
       "[1, 2, 3, 4, 5, 6, 7, 8, 3]"
      ]
     },
     "execution_count": 73,
     "metadata": {},
     "output_type": "execute_result"
    }
   ],
   "source": [
    "liste"
   ]
  },
  {
   "cell_type": "code",
   "execution_count": 79,
   "id": "33651ce4-0f79-4dfe-add1-99346334d285",
   "metadata": {},
   "outputs": [],
   "source": [
    "liste.append(\"Python\")"
   ]
  },
  {
   "cell_type": "code",
   "execution_count": 74,
   "id": "3bbb4778-0521-41d3-917a-249e948de43d",
   "metadata": {},
   "outputs": [],
   "source": [
    "liste.insert(3,2)"
   ]
  },
  {
   "cell_type": "code",
   "execution_count": 80,
   "id": "adb48df2-45cd-4f78-b873-b74d37663532",
   "metadata": {},
   "outputs": [
    {
     "data": {
      "text/plain": [
       "[1, 2, 3, 2, 4, 5, 6, 7, 8, 3, 'Python', 'Python', 'Python', 'Python']"
      ]
     },
     "execution_count": 80,
     "metadata": {},
     "output_type": "execute_result"
    }
   ],
   "source": [
    "liste"
   ]
  },
  {
   "cell_type": "code",
   "execution_count": 81,
   "id": "7a15ee3e-ea64-4716-a823-c948f3287df3",
   "metadata": {},
   "outputs": [],
   "source": [
    "liste.insert(3, \"Omer\")"
   ]
  },
  {
   "cell_type": "code",
   "execution_count": 82,
   "id": "f2368dce-5ba0-475d-99cd-aaf0ca2bea6d",
   "metadata": {},
   "outputs": [
    {
     "data": {
      "text/plain": [
       "[1, 2, 3, 'Omer', 2, 4, 5, 6, 7, 8, 3, 'Python', 'Python', 'Python', 'Python']"
      ]
     },
     "execution_count": 82,
     "metadata": {},
     "output_type": "execute_result"
    }
   ],
   "source": [
    "liste"
   ]
  },
  {
   "cell_type": "code",
   "execution_count": 83,
   "id": "c3a76e3f-042b-4e9f-abe0-33e11c67ec02",
   "metadata": {},
   "outputs": [],
   "source": [
    "liste.extend([23])"
   ]
  },
  {
   "cell_type": "code",
   "execution_count": 84,
   "id": "b69dc501-6eb0-4aea-8e1e-7320a2197c40",
   "metadata": {},
   "outputs": [
    {
     "data": {
      "text/plain": [
       "[1,\n",
       " 2,\n",
       " 3,\n",
       " 'Omer',\n",
       " 2,\n",
       " 4,\n",
       " 5,\n",
       " 6,\n",
       " 7,\n",
       " 8,\n",
       " 3,\n",
       " 'Python',\n",
       " 'Python',\n",
       " 'Python',\n",
       " 'Python',\n",
       " 23]"
      ]
     },
     "execution_count": 84,
     "metadata": {},
     "output_type": "execute_result"
    }
   ],
   "source": [
    "liste"
   ]
  },
  {
   "cell_type": "code",
   "execution_count": 85,
   "id": "f50f4cd0-fdf9-4fec-bab8-984799bb7450",
   "metadata": {},
   "outputs": [],
   "source": [
    "liste.extend([23,44,55,67])"
   ]
  },
  {
   "cell_type": "code",
   "execution_count": 86,
   "id": "ec7acda1-9b77-48ff-bf8a-b486244eedcb",
   "metadata": {},
   "outputs": [
    {
     "data": {
      "text/plain": [
       "[1,\n",
       " 2,\n",
       " 3,\n",
       " 'Omer',\n",
       " 2,\n",
       " 4,\n",
       " 5,\n",
       " 6,\n",
       " 7,\n",
       " 8,\n",
       " 3,\n",
       " 'Python',\n",
       " 'Python',\n",
       " 'Python',\n",
       " 'Python',\n",
       " 23,\n",
       " 23,\n",
       " 44,\n",
       " 55,\n",
       " 67]"
      ]
     },
     "execution_count": 86,
     "metadata": {},
     "output_type": "execute_result"
    }
   ],
   "source": [
    "liste"
   ]
  },
  {
   "cell_type": "code",
   "execution_count": 87,
   "id": "51db7605-0269-42a5-b6c9-615ed91cc3e1",
   "metadata": {},
   "outputs": [],
   "source": [
    "liste = [1, 2 , 3 , 4]"
   ]
  },
  {
   "cell_type": "code",
   "execution_count": 88,
   "id": "125a1d0a-b6eb-4f7a-8a8d-e501eed3c546",
   "metadata": {},
   "outputs": [],
   "source": [
    "liste.append([10,20,30])"
   ]
  },
  {
   "cell_type": "code",
   "execution_count": 89,
   "id": "5cd4eaa1-fece-4029-8583-9952f6ea6c82",
   "metadata": {},
   "outputs": [
    {
     "data": {
      "text/plain": [
       "[1, 2, 3, 4, [10, 20, 30]]"
      ]
     },
     "execution_count": 89,
     "metadata": {},
     "output_type": "execute_result"
    }
   ],
   "source": [
    "liste"
   ]
  },
  {
   "cell_type": "code",
   "execution_count": 90,
   "id": "fb9c644a-af16-4b32-ad93-23a486a76fd1",
   "metadata": {},
   "outputs": [],
   "source": [
    "liste.extend([10,20,30])"
   ]
  },
  {
   "cell_type": "code",
   "execution_count": 91,
   "id": "f7e50ed9-454f-40a6-a6c7-a6b5bc36603e",
   "metadata": {},
   "outputs": [
    {
     "data": {
      "text/plain": [
       "[1, 2, 3, 4, [10, 20, 30], 10, 20, 30]"
      ]
     },
     "execution_count": 91,
     "metadata": {},
     "output_type": "execute_result"
    }
   ],
   "source": [
    "liste"
   ]
  },
  {
   "cell_type": "code",
   "execution_count": 92,
   "id": "cce83e2a-3d4d-497f-be6a-33e98ba7eaf2",
   "metadata": {},
   "outputs": [],
   "source": [
    "# pop, remove, clean"
   ]
  },
  {
   "cell_type": "code",
   "execution_count": 102,
   "id": "e0459524-c26f-4f58-aa7d-4b7d3db2d25e",
   "metadata": {},
   "outputs": [],
   "source": [
    "liste = [1, 2 , 3 , 4, \"Python\" , \"C\" , \"Java\"]"
   ]
  },
  {
   "cell_type": "code",
   "execution_count": 103,
   "id": "eed4c418-f862-42dd-8af9-959814baa0c0",
   "metadata": {},
   "outputs": [
    {
     "data": {
      "text/plain": [
       "4"
      ]
     },
     "execution_count": 103,
     "metadata": {},
     "output_type": "execute_result"
    }
   ],
   "source": [
    "liste.pop(3)"
   ]
  },
  {
   "cell_type": "code",
   "execution_count": 104,
   "id": "2b078f5c-f9b3-4b6f-a9f3-7eb030125490",
   "metadata": {},
   "outputs": [
    {
     "data": {
      "text/plain": [
       "[1, 2, 3, 'Python', 'C', 'Java']"
      ]
     },
     "execution_count": 104,
     "metadata": {},
     "output_type": "execute_result"
    }
   ],
   "source": [
    "liste"
   ]
  },
  {
   "cell_type": "code",
   "execution_count": 105,
   "id": "feddcf99-1109-4324-837b-7bb9ef413494",
   "metadata": {},
   "outputs": [],
   "source": [
    "liste.remove(1)"
   ]
  },
  {
   "cell_type": "code",
   "execution_count": 106,
   "id": "e421f5db-e8ea-4b19-ad6f-02e43fe02f59",
   "metadata": {},
   "outputs": [
    {
     "data": {
      "text/plain": [
       "[2, 3, 'Python', 'C', 'Java']"
      ]
     },
     "execution_count": 106,
     "metadata": {},
     "output_type": "execute_result"
    }
   ],
   "source": [
    "liste"
   ]
  },
  {
   "cell_type": "code",
   "execution_count": 107,
   "id": "3d2690f6-f3f3-499b-988b-dc553a1b81c1",
   "metadata": {},
   "outputs": [],
   "source": [
    "liste.clear()"
   ]
  },
  {
   "cell_type": "code",
   "execution_count": 108,
   "id": "f4bc089a-412b-4b8e-8e6a-bb2fca50ba34",
   "metadata": {},
   "outputs": [
    {
     "data": {
      "text/plain": [
       "[]"
      ]
     },
     "execution_count": 108,
     "metadata": {},
     "output_type": "execute_result"
    }
   ],
   "source": [
    "liste"
   ]
  },
  {
   "cell_type": "code",
   "execution_count": 109,
   "id": "40d2baa5-f486-47a2-9019-500bacda4847",
   "metadata": {},
   "outputs": [],
   "source": [
    "# index, count"
   ]
  },
  {
   "cell_type": "code",
   "execution_count": 112,
   "id": "a6d36c90-a8ff-485b-83de-bd44981ff5c2",
   "metadata": {},
   "outputs": [],
   "source": [
    "liste = [1, 2 , 3 , 4, \"Python\" , \"C\" , \"Java\", \"Python\", \"Python\"]"
   ]
  },
  {
   "cell_type": "code",
   "execution_count": 113,
   "id": "984cc501-c1a9-4add-9a30-294c4cee93f7",
   "metadata": {},
   "outputs": [
    {
     "data": {
      "text/plain": [
       "5"
      ]
     },
     "execution_count": 113,
     "metadata": {},
     "output_type": "execute_result"
    }
   ],
   "source": [
    "liste.index(\"C\")"
   ]
  },
  {
   "cell_type": "code",
   "execution_count": 116,
   "id": "5879857a-6711-438c-bb24-02f7dc8f57f5",
   "metadata": {},
   "outputs": [
    {
     "data": {
      "text/plain": [
       "3"
      ]
     },
     "execution_count": 116,
     "metadata": {},
     "output_type": "execute_result"
    }
   ],
   "source": [
    "liste.count(\"Python\")"
   ]
  },
  {
   "cell_type": "code",
   "execution_count": 118,
   "id": "d05f4885-7848-43b7-a9d0-3e30422f905e",
   "metadata": {},
   "outputs": [],
   "source": [
    "liste_string = [\"Python\", \"C\", \"TypeScript\"] "
   ]
  },
  {
   "cell_type": "code",
   "execution_count": 119,
   "id": "a2803873-3eb8-437d-b4b2-81500ea43524",
   "metadata": {},
   "outputs": [],
   "source": [
    "liste_string.sort()"
   ]
  },
  {
   "cell_type": "code",
   "execution_count": 120,
   "id": "f13a5f0d-68ac-47d2-86be-2538d63deb1c",
   "metadata": {},
   "outputs": [
    {
     "data": {
      "text/plain": [
       "['C', 'Python', 'TypeScript']"
      ]
     },
     "execution_count": 120,
     "metadata": {},
     "output_type": "execute_result"
    }
   ],
   "source": [
    "liste_string"
   ]
  },
  {
   "cell_type": "code",
   "execution_count": 121,
   "id": "c8b60e7a-f939-4a95-9646-94b27b136b26",
   "metadata": {},
   "outputs": [],
   "source": [
    "liste_int = [1,2,3,221,44,665]"
   ]
  },
  {
   "cell_type": "code",
   "execution_count": 122,
   "id": "5260439a-498d-413a-865c-6a83aaf049f9",
   "metadata": {},
   "outputs": [],
   "source": [
    "liste_int.sort()"
   ]
  },
  {
   "cell_type": "code",
   "execution_count": 123,
   "id": "3042c58b-a3c8-46ea-b5a7-92c3d734cc53",
   "metadata": {},
   "outputs": [
    {
     "data": {
      "text/plain": [
       "[1, 2, 3, 44, 221, 665]"
      ]
     },
     "execution_count": 123,
     "metadata": {},
     "output_type": "execute_result"
    }
   ],
   "source": [
    "liste_int"
   ]
  },
  {
   "cell_type": "code",
   "execution_count": 124,
   "id": "ca2bb556-235a-47f1-96ca-bbcb00c697f4",
   "metadata": {},
   "outputs": [],
   "source": [
    "liste_int.reverse()"
   ]
  },
  {
   "cell_type": "code",
   "execution_count": 125,
   "id": "78199f4a-a322-4dd3-989f-a12b3cf4858b",
   "metadata": {},
   "outputs": [
    {
     "data": {
      "text/plain": [
       "[665, 221, 44, 3, 2, 1]"
      ]
     },
     "execution_count": 125,
     "metadata": {},
     "output_type": "execute_result"
    }
   ],
   "source": [
    "liste_int"
   ]
  },
  {
   "cell_type": "code",
   "execution_count": 127,
   "id": "37a79536-39e9-4f35-8e41-95136c483286",
   "metadata": {},
   "outputs": [],
   "source": [
    "# sözlük\n",
    "a = {\"a\":5,\n",
    "     \"b\":3,\n",
    "     \"c\":34}"
   ]
  },
  {
   "cell_type": "code",
   "execution_count": 128,
   "id": "96b35588-5e56-4d65-82df-a72604d400d3",
   "metadata": {},
   "outputs": [
    {
     "data": {
      "text/plain": [
       "dict_keys(['a', 'b', 'c'])"
      ]
     },
     "execution_count": 128,
     "metadata": {},
     "output_type": "execute_result"
    }
   ],
   "source": [
    "a.keys()"
   ]
  },
  {
   "cell_type": "code",
   "execution_count": 129,
   "id": "40b566fb-877d-415c-af4d-68a58c0f6e35",
   "metadata": {},
   "outputs": [
    {
     "data": {
      "text/plain": [
       "dict_values([5, 3, 34])"
      ]
     },
     "execution_count": 129,
     "metadata": {},
     "output_type": "execute_result"
    }
   ],
   "source": [
    "a.values()"
   ]
  },
  {
   "cell_type": "code",
   "execution_count": 131,
   "id": "2548d496-f2be-4dd9-a8f0-f6e8e5a159f6",
   "metadata": {},
   "outputs": [
    {
     "data": {
      "text/plain": [
       "5"
      ]
     },
     "execution_count": 131,
     "metadata": {},
     "output_type": "execute_result"
    }
   ],
   "source": [
    "a[\"a\"]"
   ]
  },
  {
   "cell_type": "code",
   "execution_count": 133,
   "id": "250fb0da-684e-40b0-bd2a-9c3c4ed16492",
   "metadata": {},
   "outputs": [
    {
     "data": {
      "text/plain": [
       "34"
      ]
     },
     "execution_count": 133,
     "metadata": {},
     "output_type": "execute_result"
    }
   ],
   "source": [
    "a[\"c\"]"
   ]
  },
  {
   "cell_type": "code",
   "execution_count": 134,
   "id": "e50d66c3-1f7b-401d-b763-21d3c18bad22",
   "metadata": {},
   "outputs": [
    {
     "data": {
      "text/plain": [
       "dict_items([('a', 5), ('b', 3), ('c', 34)])"
      ]
     },
     "execution_count": 134,
     "metadata": {},
     "output_type": "execute_result"
    }
   ],
   "source": [
    "a.items()"
   ]
  },
  {
   "cell_type": "code",
   "execution_count": 136,
   "id": "c1e46bee-2f26-4a56-8caa-724c064cc849",
   "metadata": {},
   "outputs": [
    {
     "name": "stdin",
     "output_type": "stream",
     "text": [
      "Yaşınızı giriniz:  23\n"
     ]
    },
    {
     "name": "stdout",
     "output_type": "stream",
     "text": [
      "Mustafa Aktaş: 23 \n"
     ]
    }
   ],
   "source": [
    "# kullanıcıdan veri alma\n",
    "age = input(\"Yaşınızı giriniz: \")\n",
    "print(f\"Mustafa Aktaş: {age} \")"
   ]
  },
  {
   "cell_type": "code",
   "execution_count": 139,
   "id": "8241916c-d204-46a6-afce-6b0f4c574670",
   "metadata": {},
   "outputs": [
    {
     "name": "stdin",
     "output_type": "stream",
     "text": [
      "Yaşınızı giriniz:  67\n"
     ]
    },
    {
     "name": "stdout",
     "output_type": "stream",
     "text": [
      "Mustafa Aktaş: 67 Mustafa Yaşlı\n"
     ]
    }
   ],
   "source": [
    "age = int(input(\"Yaşınızı giriniz: \"))\n",
    "if age > 40:    \n",
    "    print(f\"Mustafa Aktaş: {age} Mustafa Yaşlı\")\n",
    "else:\n",
    "    print(\"Mustafa Genç\")"
   ]
  },
  {
   "cell_type": "code",
   "execution_count": 140,
   "id": "e3b66283-e2f5-43d7-bc21-18727e3ec14e",
   "metadata": {},
   "outputs": [
    {
     "name": "stdout",
     "output_type": "stream",
     "text": [
      "Mustafa\n",
      "Mustafa\n",
      "Mustafa\n",
      "Mustafa\n",
      "Mustafa\n",
      "Mustafa\n",
      "Mustafa\n",
      "Mustafa\n",
      "Mustafa\n",
      "Mustafa\n"
     ]
    }
   ],
   "source": [
    "# for\n",
    "for i in range(0,10):\n",
    "    print(\"Mustafa\")"
   ]
  },
  {
   "cell_type": "code",
   "execution_count": 141,
   "id": "52f46bc8-685d-4004-bc33-49b1b818eb2c",
   "metadata": {},
   "outputs": [
    {
     "name": "stdout",
     "output_type": "stream",
     "text": [
      "1\n",
      "2\n",
      "3\n",
      "4\n"
     ]
    }
   ],
   "source": [
    "liste = [1,2,3,4]\n",
    "for i in liste:\n",
    "    print(i)"
   ]
  },
  {
   "cell_type": "code",
   "execution_count": 143,
   "id": "0188f254-a854-4b79-bbf1-e84dd7617186",
   "metadata": {},
   "outputs": [
    {
     "name": "stdout",
     "output_type": "stream",
     "text": [
      "Mustafa şuanda 37 yaşında\n",
      "Mustafa şuanda 36 yaşında\n",
      "Mustafa şuanda 35 yaşında\n",
      "Mustafa şuanda 34 yaşında\n",
      "Mustafa şuanda 33 yaşında\n",
      "Mustafa şuanda 32 yaşında\n",
      "Mustafa şuanda 31 yaşında\n",
      "Mustafa şuanda 30 yaşında\n",
      "Mustafa şuanda 29 yaşında\n",
      "Mustafa şuanda 28 yaşında\n",
      "Mustafa şuanda 27 yaşında\n",
      "Mustafa şuanda 26 yaşında\n",
      "Mustafa şuanda 25 yaşında\n",
      "Mustafa şuanda 24 yaşında\n",
      "Mustafa şuanda 23 yaşında\n",
      "Mustafa şuanda 22 yaşında\n",
      "Mustafa şuanda 21 yaşında\n",
      "Mustafa şuanda 20 yaşında\n",
      "Mustafa şuanda 19 yaşında\n",
      "Mustafa şuanda 18 yaşında\n",
      "Mustafa şuanda 17 yaşında\n",
      "Mustafa şuanda 16 yaşında\n",
      "Mustafa şuanda 15 yaşında\n",
      "Mustafa şuanda 14 yaşında\n",
      "Mustafa şuanda 13 yaşında\n",
      "Mustafa şuanda 12 yaşında\n",
      "Mustafa şuanda 11 yaşında\n",
      "Mustafa şuanda 10 yaşında\n",
      "Mustafa şuanda 9 yaşında\n",
      "Mustafa şuanda 8 yaşında\n",
      "Mustafa şuanda 7 yaşında\n",
      "Mustafa şuanda 6 yaşında\n",
      "Mustafa şuanda 5 yaşında\n",
      "Mustafa şuanda 4 yaşında\n",
      "Mustafa şuanda 3 yaşında\n",
      "Mustafa şuanda 2 yaşında\n",
      "Mustafa şuanda 1 yaşında\n"
     ]
    }
   ],
   "source": [
    "age = 37\n",
    "while age>0:\n",
    "    print(f\"Mustafa şuanda {age} yaşında\")\n",
    "    age -=1    "
   ]
  },
  {
   "cell_type": "code",
   "execution_count": null,
   "id": "59e15b41-7a17-4727-8e9e-1e2135e08dab",
   "metadata": {},
   "outputs": [],
   "source": []
  }
 ],
 "metadata": {
  "kernelspec": {
   "display_name": "Python 3 (ipykernel)",
   "language": "python",
   "name": "python3"
  },
  "language_info": {
   "codemirror_mode": {
    "name": "ipython",
    "version": 3
   },
   "file_extension": ".py",
   "mimetype": "text/x-python",
   "name": "python",
   "nbconvert_exporter": "python",
   "pygments_lexer": "ipython3",
   "version": "3.9.12"
  }
 },
 "nbformat": 4,
 "nbformat_minor": 5
}
