{
 "cells": [
  {
   "cell_type": "code",
   "execution_count": 1,
   "id": "6abde3eb-9af3-4523-b4ec-1a22ee191266",
   "metadata": {},
   "outputs": [
    {
     "name": "stdout",
     "output_type": "stream",
     "text": [
      "Hello World!\n"
     ]
    }
   ],
   "source": [
    "print(\"Hello World!\")"
   ]
  },
  {
   "cell_type": "code",
   "execution_count": 3,
   "id": "1d2aca1a-d5e4-47f0-bbba-4dd080c6b620",
   "metadata": {},
   "outputs": [
    {
     "name": "stdout",
     "output_type": "stream",
     "text": [
      "Float Data: 2.3\n",
      "x:3.4\n"
     ]
    }
   ],
   "source": [
    "# Veri Tipleri\n",
    "float_data = 2.3\n",
    "x = 3.4\n",
    "print(f\"Float Data: {float_data}\\nx:{x}\")"
   ]
  },
  {
   "cell_type": "code",
   "execution_count": 4,
   "id": "b6335da2-75b7-455c-913d-ddf141b5eee7",
   "metadata": {},
   "outputs": [
    {
     "data": {
      "text/plain": [
       "2"
      ]
     },
     "execution_count": 4,
     "metadata": {},
     "output_type": "execute_result"
    }
   ],
   "source": [
    "round(float_data)"
   ]
  },
  {
   "cell_type": "code",
   "execution_count": 5,
   "id": "335ce256-4110-4fb6-8b68-7541dac54fe6",
   "metadata": {},
   "outputs": [
    {
     "data": {
      "text/plain": [
       "8"
      ]
     },
     "execution_count": 5,
     "metadata": {},
     "output_type": "execute_result"
    }
   ],
   "source": [
    "round(7.9)"
   ]
  },
  {
   "cell_type": "code",
   "execution_count": 7,
   "id": "06f3370d-56d0-4b03-9642-7c249ea24005",
   "metadata": {},
   "outputs": [
    {
     "data": {
      "text/plain": [
       "32"
      ]
     },
     "execution_count": 7,
     "metadata": {},
     "output_type": "execute_result"
    }
   ],
   "source": [
    "abs(-32)"
   ]
  },
  {
   "cell_type": "code",
   "execution_count": 11,
   "id": "8ababbd2-f1d7-4f39-a31d-e7f8ba5238ad",
   "metadata": {},
   "outputs": [
    {
     "name": "stdout",
     "output_type": "stream",
     "text": [
      "12\n",
      "8\n",
      "20\n",
      "100\n",
      "5\n",
      "5\n",
      "0\n"
     ]
    }
   ],
   "source": [
    "# Matematiksle Operatörler\n",
    "x = 10\n",
    "\n",
    "print(x+2)\n",
    "print(x-2)\n",
    "print(x*2)\n",
    "print(x**2)\n",
    "print(int(x/2))\n",
    "print(x//2)\n",
    "print(x%2)"
   ]
  },
  {
   "cell_type": "code",
   "execution_count": 12,
   "id": "11b1e9f7-56ab-4357-b344-1f70d82cfd39",
   "metadata": {},
   "outputs": [
    {
     "data": {
      "text/plain": [
       "float"
      ]
     },
     "execution_count": 12,
     "metadata": {},
     "output_type": "execute_result"
    }
   ],
   "source": [
    "type(10/2)"
   ]
  },
  {
   "cell_type": "code",
   "execution_count": 13,
   "id": "491234fd-b72e-4ddb-8c05-595929d3c151",
   "metadata": {},
   "outputs": [
    {
     "data": {
      "text/plain": [
       "5.0"
      ]
     },
     "execution_count": 13,
     "metadata": {},
     "output_type": "execute_result"
    }
   ],
   "source": [
    "10/2"
   ]
  },
  {
   "cell_type": "code",
   "execution_count": 14,
   "id": "81eb6fdf-b1c9-4420-bf0a-73181fa65d62",
   "metadata": {},
   "outputs": [
    {
     "data": {
      "text/plain": [
       "5"
      ]
     },
     "execution_count": 14,
     "metadata": {},
     "output_type": "execute_result"
    }
   ],
   "source": [
    "10//2"
   ]
  },
  {
   "cell_type": "code",
   "execution_count": 15,
   "id": "70f76061-5d85-4967-9798-32c842548d9c",
   "metadata": {},
   "outputs": [
    {
     "data": {
      "text/plain": [
       "6.15"
      ]
     },
     "execution_count": 15,
     "metadata": {},
     "output_type": "execute_result"
    }
   ],
   "source": [
    "12.3/2"
   ]
  },
  {
   "cell_type": "code",
   "execution_count": 16,
   "id": "1538dc1c-63c7-4e62-a3b3-6e369a27b878",
   "metadata": {},
   "outputs": [
    {
     "data": {
      "text/plain": [
       "6.0"
      ]
     },
     "execution_count": 16,
     "metadata": {},
     "output_type": "execute_result"
    }
   ],
   "source": [
    "12.3//2"
   ]
  },
  {
   "cell_type": "code",
   "execution_count": null,
   "id": "a205b866-7585-429e-8cca-a0a44fe19559",
   "metadata": {},
   "outputs": [],
   "source": []
  }
 ],
 "metadata": {
  "kernelspec": {
   "display_name": "Python 3 (ipykernel)",
   "language": "python",
   "name": "python3"
  },
  "language_info": {
   "codemirror_mode": {
    "name": "ipython",
    "version": 3
   },
   "file_extension": ".py",
   "mimetype": "text/x-python",
   "name": "python",
   "nbconvert_exporter": "python",
   "pygments_lexer": "ipython3",
   "version": "3.9.12"
  }
 },
 "nbformat": 4,
 "nbformat_minor": 5
}
