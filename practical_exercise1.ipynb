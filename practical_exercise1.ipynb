{
 "cells": [
  {
   "cell_type": "markdown",
   "metadata": {
    "id": "tBDsFMQwBs6Z"
   },
   "source": [
    "# Practical exercise 1:  Plan an exciting adventure with a new friend\n",
    "\n",
    "Welcome to your first practical exercise for this course. Here you will get a chance to practice the concepts we've covered in the video lessons from the module and apply your new coding skills to plan an exciting adventure with a new friend you meet online."
   ]
  },
  {
   "cell_type": "markdown",
   "metadata": {
    "id": "ymULFKyosM3d"
   },
   "source": [
    "##Warm up\n",
    "\n",
    "For this exercise, you will have to read the instructions, then write and run the code block. \n",
    "\n",
    "Let's test this. Do you remember all the keywords in Python? Probably not, but there is a quick and easy way to check them here.  \n",
    "\n",
    "1. Write the help() function in the code cell below and run the code. \n",
    "2. In the prompt that appears, type \"keywords\" and they will pop up."
   ]
  },
  {
   "cell_type": "code",
   "execution_count": null,
   "metadata": {
    "id": "0w6HGZBvsvru"
   },
   "outputs": [],
   "source": [
    "help()"
   ]
  },
  {
   "cell_type": "code",
   "execution_count": 2,
   "metadata": {
    "id": "0w6HGZBvsvru",
    "tags": []
   },
   "outputs": [
    {
     "data": {
      "text/plain": [
       "\u001b[1;31mSignature:\u001b[0m   \u001b[0mhelp\u001b[0m\u001b[1;33m(\u001b[0m\u001b[1;33m*\u001b[0m\u001b[0margs\u001b[0m\u001b[1;33m,\u001b[0m \u001b[1;33m**\u001b[0m\u001b[0mkwds\u001b[0m\u001b[1;33m)\u001b[0m\u001b[1;33m\u001b[0m\u001b[1;33m\u001b[0m\u001b[0m\n",
       "\u001b[1;31mType:\u001b[0m        _Helper\n",
       "\u001b[1;31mString form:\u001b[0m Type help() for interactive help, or help(object) for help about object.\n",
       "\u001b[1;31mNamespace:\u001b[0m   Python builtin\n",
       "\u001b[1;31mFile:\u001b[0m        c:\\users\\mustafa\\anaconda3\\lib\\_sitebuiltins.py\n",
       "\u001b[1;31mDocstring:\u001b[0m  \n",
       "Define the builtin 'help'.\n",
       "\n",
       "This is a wrapper around pydoc.help that provides a helpful message\n",
       "when 'help' is typed at the Python interactive prompt.\n",
       "\n",
       "Calling help() at the Python prompt starts an interactive help session.\n",
       "Calling help(thing) prints help for the python object 'thing'.\n"
      ]
     },
     "metadata": {},
     "output_type": "display_data"
    }
   ],
   "source": [
    "?help"
   ]
  },
  {
   "cell_type": "markdown",
   "metadata": {
    "id": "kG-nBjLU1WPC"
   },
   "source": [
    "🧨 Is the code cell above still running? If so, you can't continue!\n",
    "\n",
    "💣 Click the stop button next to the cell. Otherwise, it will continue to run infinitely and you will not be able to run other cells."
   ]
  },
  {
   "cell_type": "markdown",
   "metadata": {
    "id": "cnWVzlo1vBy8"
   },
   "source": [
    "# Meet Amir\n",
    "\n",
    "Let's say you are browsing the internet, when a pop up message shows on your screen, someone wants to meet you. \n",
    " "
   ]
  },
  {
   "cell_type": "code",
   "execution_count": 2,
   "metadata": {
    "id": "JFUdDbEW7GqB"
   },
   "outputs": [
    {
     "name": "stdout",
     "output_type": "stream",
     "text": [
      "Hello, my name is Amir! Nice to meet you. What is yours?\n"
     ]
    }
   ],
   "source": [
    "#Run this cell to see the message\n",
    "message = \"Hello, my name is Amir! Nice to meet you. What is yours?\"\n",
    "print(message)"
   ]
  },
  {
   "cell_type": "markdown",
   "metadata": {
    "id": "Yr7uQq1J2k6p"
   },
   "source": [
    "Now, how would you answer Amir? \n",
    "\n",
    "Use the cell below to prepare an answer for him with a greeting and your name and print it to the screen. \n",
    "\n",
    "📌 We use the built-in function print() in Python to show results as output."
   ]
  },
  {
   "cell_type": "code",
   "execution_count": 3,
   "metadata": {
    "id": "8S1F2r8NtEoN"
   },
   "outputs": [
    {
     "name": "stdout",
     "output_type": "stream",
     "text": [
      "Hello, my name is Mustafa! Nice to meet you too.\n"
     ]
    }
   ],
   "source": [
    "#Write your answer and print it on the screen\n",
    "answer = \"Hello, my name is Mustafa! Nice to meet you too.\"\n",
    "print(answer)"
   ]
  },
  {
   "cell_type": "markdown",
   "metadata": {
    "id": "Vgv4mhyZEWR6"
   },
   "source": [
    "Good job! Right away Amir writes you back with an intriguing question. He says, \"Would you like to plan an exciting adventure with me today?\" Well, why not! But before you start planning, maybe you need to learn a little bit more about each other."
   ]
  },
  {
   "cell_type": "markdown",
   "metadata": {
    "id": "QQIXQsmRwGqB"
   },
   "source": [
    "#Get to know each other\n",
    "\n",
    "You ask Amir to tell you a little bit about himself, and here's what he tells you."
   ]
  },
  {
   "cell_type": "code",
   "execution_count": null,
   "metadata": {
    "id": "dvTr4HR4wF4n"
   },
   "outputs": [],
   "source": [
    "#Run the cell to see his message\n",
    "his_age = 20\n",
    "his_height = 1.76\n",
    "his_hair_color = \"brunette\"\n",
    "his_hometown = \"Iran\"\n",
    "where_he_lives = \"Turkey\"\n",
    "\n",
    "print(\"I am\", str(his_age),\"years old,\",str(his_height),\"tall\",his_hair_color,\"guy from\",his_hometown,\"but I currently live in\",where_he_lives)\n",
    "\n",
    "print(\"What about you? Tell me about yourself.\")"
   ]
  },
  {
   "cell_type": "markdown",
   "metadata": {
    "id": "L7-zc-wR5982"
   },
   "source": [
    "Now it is your turn to share, but first some preparation is needed.\n",
    "\n",
    "1. Write in information about yourself using the variables below. \n",
    "2. If there's something you don't want to share, you can use comments. Just put a \"#\" symbol in front of the code line and Python will not execute that line of code.\n",
    "3. Check the datatype of each variable.\n",
    "\n",
    "📌 Remember that there are different data types in Python and in order to use them in a sentence you may have to convert some of them. "
   ]
  },
  {
   "cell_type": "code",
   "execution_count": 8,
   "metadata": {
    "id": "MDTV-mOZBVOw"
   },
   "outputs": [
    {
     "name": "stdout",
     "output_type": "stream",
     "text": [
      "<class 'int'> <class 'int'> <class 'str'> <class 'str'> <class 'str'>\n"
     ]
    }
   ],
   "source": [
    "#Please assign your age, height and other details you want to share.\n",
    "my_age = 22\n",
    "my_height = 189\n",
    "my_hair_color = \"yellow\"\n",
    "my_hometown = \"Turkey\"\n",
    "where_i_live = \"Turkey\"\n",
    "\n",
    "#Check the data type of the variables you want to use.\n",
    "print(type(my_age),type(my_height),type(my_hair_color),type(my_hometown),type(where_i_live))\n"
   ]
  },
  {
   "cell_type": "markdown",
   "metadata": {
    "id": "SDnrjsw7IC7Z"
   },
   "source": [
    "Great, now that you know what you want to share and which variables need to be converted to strings, you're ready to write your sentence. "
   ]
  },
  {
   "cell_type": "code",
   "execution_count": 9,
   "metadata": {
    "id": "0U8slyfyICeJ"
   },
   "outputs": [
    {
     "name": "stdout",
     "output_type": "stream",
     "text": [
      "I am 22 years old, 189 tall yellow guy from Turkey but I currently live in Turkey\n"
     ]
    }
   ],
   "source": [
    "#Write a sentence using the print function to describe yourself using the variables above in the correct data type\n",
    "\n",
    "print(\"I am\", str(my_age),\"years old,\",str(my_height),\"tall\",my_hair_color,\"guy from\",my_hometown,\"but I currently live in\",where_i_live)\n"
   ]
  },
  {
   "cell_type": "markdown",
   "metadata": {
    "id": "7ICXdJRy9SWZ"
   },
   "source": [
    "#Where to go and what to eat\n",
    "\n",
    "Now that you know each other a little better, you can start planning your adventure. But where do you start? \n",
    "\n",
    "Let's start with locations and food. Amir asks you to make a list of places in the world that you want to visit and meals that you like to eat.\n",
    " \n",
    "Create a list 'favorite_places_and_foods' that contains at least 5 places and 5 meals.\n"
   ]
  },
  {
   "cell_type": "code",
   "execution_count": 10,
   "metadata": {
    "id": "FHdeAmG6Aw3h"
   },
   "outputs": [],
   "source": [
    "#Create your list\n",
    "favorite_places_and_foods = [\"Italy\",\"France\",\"Spain\",\"Dubai\",\"USA\",\"xd\",\"xm\",\"xc\",\"xr\",\"xj\"]"
   ]
  },
  {
   "cell_type": "code",
   "execution_count": 14,
   "metadata": {},
   "outputs": [
    {
     "data": {
      "text/plain": [
       "\u001b[1;31mInit signature:\u001b[0m \u001b[0mslice\u001b[0m\u001b[1;33m(\u001b[0m\u001b[0mself\u001b[0m\u001b[1;33m,\u001b[0m \u001b[1;33m/\u001b[0m\u001b[1;33m,\u001b[0m \u001b[1;33m*\u001b[0m\u001b[0margs\u001b[0m\u001b[1;33m,\u001b[0m \u001b[1;33m**\u001b[0m\u001b[0mkwargs\u001b[0m\u001b[1;33m)\u001b[0m\u001b[1;33m\u001b[0m\u001b[1;33m\u001b[0m\u001b[0m\n",
       "\u001b[1;31mDocstring:\u001b[0m     \n",
       "slice(stop)\n",
       "slice(start, stop[, step])\n",
       "\n",
       "Create a slice object.  This is used for extended slicing (e.g. a[0:10:2]).\n",
       "\u001b[1;31mType:\u001b[0m           type\n",
       "\u001b[1;31mSubclasses:\u001b[0m     \n"
      ]
     },
     "metadata": {},
     "output_type": "display_data"
    }
   ],
   "source": [
    "?slice"
   ]
  },
  {
   "cell_type": "markdown",
   "metadata": {
    "id": "bHbGRpu2MmYH"
   },
   "source": [
    "It's quite tough to choose from such great options. You need to narrow it down to three items per category. \n",
    "\n",
    "1. First you have to separate or 'slice' the places from the meals. \n",
    "2. Then select the first three items from the places list and the last ones from the foods list.\n",
    "3. Print the remaining options to the screen. \n",
    "\n",
    "📌 Do you remember the list slicing technique? For example, Mylist[1:3] will give the second and third value from Mylist."
   ]
  },
  {
   "cell_type": "code",
   "execution_count": 17,
   "metadata": {
    "id": "13LMxJu1CD-F"
   },
   "outputs": [
    {
     "name": "stdout",
     "output_type": "stream",
     "text": [
      "['Italy', 'France', 'Spain'] ['xd', 'xm', 'xc', 'xr', 'xj']\n"
     ]
    }
   ],
   "source": [
    "#Create two separate lists for places and foods using the list slicing technique\n",
    "places = favorite_places_and_foods[:5]\n",
    "foods = favorite_places_and_foods[5:]\n",
    "\n",
    "#Select the first and last three from place and food lists\n",
    "x = places[:3]\n",
    "y = foods\n",
    "\n",
    "#Print both lists\n",
    "print(x,y)"
   ]
  },
  {
   "cell_type": "markdown",
   "metadata": {
    "id": "R5LG-XXHBFFM"
   },
   "source": [
    "It's quite hard to make a choice from these three. But why not let the computer choose for you? Do you remember the game of dice from our videos? Here is what you need to do.\n",
    "\n",
    "1. Import the random module\n",
    "2. Generate two random numbers between 0-2\n",
    "3. Use each number as the index to choose an item from your favourite-place and food lists\n",
    "4. Print the results to the screen\n"
   ]
  },
  {
   "cell_type": "code",
   "execution_count": 33,
   "metadata": {
    "id": "krGw2OUtC9y5"
   },
   "outputs": [
    {
     "name": "stdout",
     "output_type": "stream",
     "text": [
      "Spain xd\n"
     ]
    }
   ],
   "source": [
    "#Please import the random module and generate two random numbers between 0 and 2\n",
    "import random\n",
    "\n",
    "z = []\n",
    "\n",
    "for x in range(2):\n",
    "    y = random.randint(0,2)\n",
    "    z.append(y)\n",
    "    \n",
    "#Use the generated numbers as indexes of randomely chosen items from place and food lists\n",
    "print(places[z[0]],foods[z[1]])\n"
   ]
  },
  {
   "cell_type": "markdown",
   "metadata": {
    "id": "XzBTqk1yPZsM"
   },
   "source": [
    "You must have found your location and food. But what else would you like to do on your adventure?"
   ]
  },
  {
   "cell_type": "markdown",
   "metadata": {
    "id": "9t9q1B-WbW4i"
   },
   "source": [
    "#Activities \n",
    "\n",
    "Now, you have your place and meals, but after lunch there are still lots of activities that you can do together...or separately.\n",
    "\n",
    "Let's say there are three pre-defined options: playing chess, playing tennis and visiting a museum. Chess and tennis require both of you to participate, but you can visit the museum separately as well. \n",
    "\n",
    "We need a code to indicate which activities each of you would like to do and which ones will be able to do. A chance to use our logical operators. \n",
    "\n",
    "1. Define activities\n",
    "2. Use the operands 'True' and 'False' to indicate your and Amir's preference for each activity\n",
    "3. Use the logical operators 'and' and 'or' to define which activities you will be able to do\n",
    "\n",
    "📌 Please add in the responces for Amir as well, by the way he doesn't like sports, but loves board games. "
   ]
  },
  {
   "cell_type": "code",
   "execution_count": 34,
   "metadata": {
    "id": "sNIV7420Yk-Y"
   },
   "outputs": [
    {
     "name": "stdout",
     "output_type": "stream",
     "text": [
      "We are going to play chess in the park! Answer: lets go to the museum\n"
     ]
    }
   ],
   "source": [
    "first_activity = \"lets play chess in the park\"\n",
    "second_activiy = \"lets play a game of tennis\"\n",
    "third_activity = \"lets go to the museum\"\n",
    "\n",
    "#Write your and Amir's preference for each activity either as \"True\" or \"False\"\n",
    "\n",
    "\n",
    "\n",
    "#First activity\n",
    "first_activity_your = \"lets play chess in the park\"\n",
    "first_activity_friend = \"lets go to the museum\"\n",
    "\n",
    "#Example statement\n",
    "print(\"We are going to play chess in the park! Answer:\" ,first_activity_your and first_activity_friend)\n",
    " \n",
    "#Second activity\n",
    "\n",
    " \n",
    "#Your turn to write the statement\n",
    "\n",
    "\n",
    "#Third activity\n",
    "\n",
    "#Your turn to write the statement \n"
   ]
  },
  {
   "cell_type": "markdown",
   "metadata": {
    "id": "p_jbzGubELqR"
   },
   "source": [
    "#Get a date\n",
    "\n",
    "Finally you know where to meet, what to eat and what do to. The only last thing to decide is when to meet. How would you ask Amir for the date and time he wants to go on this adventure with you? \n",
    "\n",
    "📌📌Hint: Use the input() function."
   ]
  },
  {
   "cell_type": "code",
   "execution_count": null,
   "metadata": {
    "id": "jGxVfccGEMZB"
   },
   "outputs": [],
   "source": [
    "#Create a variable for your trip date that asks Amir for an input\n",
    "\n",
    "\n",
    "#Print the date for the trip by using it in a sentence\n"
   ]
  }
 ],
 "metadata": {
  "colab": {
   "collapsed_sections": [],
   "name": "practical_exercise1.ipynb",
   "provenance": []
  },
  "kernelspec": {
   "display_name": "Python 3 (ipykernel)",
   "language": "python",
   "name": "python3"
  },
  "language_info": {
   "codemirror_mode": {
    "name": "ipython",
    "version": 3
   },
   "file_extension": ".py",
   "mimetype": "text/x-python",
   "name": "python",
   "nbconvert_exporter": "python",
   "pygments_lexer": "ipython3",
   "version": "3.9.12"
  }
 },
 "nbformat": 4,
 "nbformat_minor": 4
}
