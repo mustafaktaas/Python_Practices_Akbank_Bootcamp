{
 "cells": [
  {
   "cell_type": "markdown",
   "metadata": {
    "id": "tBDsFMQwBs6Z"
   },
   "source": [
    "# Practical exercise 1:  Plan an exciting adventure with a new friend\n",
    "\n",
    "Welcome to your first practical exercise for this course. Here you will get a chance to practice the concepts we've covered in the video lessons from the module and apply your new coding skills to plan an exciting adventure with a new friend you meet online."
   ]
  },
  {
   "cell_type": "markdown",
   "metadata": {
    "id": "ymULFKyosM3d"
   },
   "source": [
    "##Warm up\n",
    "\n",
    "For this exercise, you will have to read the instructions, then write and run the code block. \n",
    "\n",
    "Let's test this. Do you remember all the keywords in Python? Probably not, but there is a quick and easy way to check them here.  \n",
    "\n",
    "1. Write the help() function in the code cell below and run the code. \n",
    "2. In the prompt that appears, type \"keywords\" and they will pop up."
   ]
  },
  {
   "cell_type": "code",
   "execution_count": null,
   "metadata": {
    "id": "0w6HGZBvsvru"
   },
   "outputs": [],
   "source": [
    "help()"
   ]
  },
  {
   "cell_type": "code",
   "execution_count": null,
   "metadata": {
    "collapsed": true,
    "id": "0w6HGZBvsvru",
    "jupyter": {
     "outputs_hidden": true
    },
    "tags": []
   },
   "outputs": [
    {
     "name": "stdout",
     "output_type": "stream",
     "text": [
      "\n",
      "Welcome to Python 3.9's help utility!\n",
      "\n",
      "If this is your first time using Python, you should definitely check out\n",
      "the tutorial on the Internet at https://docs.python.org/3.9/tutorial/.\n",
      "\n",
      "Enter the name of any module, keyword, or topic to get help on writing\n",
      "Python programs and using Python modules.  To quit this help utility and\n",
      "return to the interpreter, just type \"quit\".\n",
      "\n",
      "To get a list of available modules, keywords, symbols, or topics, type\n",
      "\"modules\", \"keywords\", \"symbols\", or \"topics\".  Each module also comes\n",
      "with a one-line summary of what it does; to list the modules whose name\n",
      "or summary contain a given string such as \"spam\", type \"modules spam\".\n",
      "\n"
     ]
    },
    {
     "name": "stdin",
     "output_type": "stream",
     "text": [
      "help>  print\n"
     ]
    },
    {
     "name": "stdout",
     "output_type": "stream",
     "text": [
      "Help on built-in function print in module builtins:\n",
      "\n",
      "print(...)\n",
      "    print(value, ..., sep=' ', end='\\n', file=sys.stdout, flush=False)\n",
      "    \n",
      "    Prints the values to a stream, or to sys.stdout by default.\n",
      "    Optional keyword arguments:\n",
      "    file:  a file-like object (stream); defaults to the current sys.stdout.\n",
      "    sep:   string inserted between values, default a space.\n",
      "    end:   string appended after the last value, default a newline.\n",
      "    flush: whether to forcibly flush the stream.\n",
      "\n"
     ]
    },
    {
     "name": "stdin",
     "output_type": "stream",
     "text": [
      "help>  keywords\n"
     ]
    },
    {
     "name": "stdout",
     "output_type": "stream",
     "text": [
      "\n",
      "Here is a list of the Python keywords.  Enter any keyword to get more help.\n",
      "\n",
      "False               break               for                 not\n",
      "None                class               from                or\n",
      "True                continue            global              pass\n",
      "__peg_parser__      def                 if                  raise\n",
      "and                 del                 import              return\n",
      "as                  elif                in                  try\n",
      "assert              else                is                  while\n",
      "async               except              lambda              with\n",
      "await               finally             nonlocal            yield\n",
      "\n"
     ]
    },
    {
     "name": "stdin",
     "output_type": "stream",
     "text": [
      "help>  def\n"
     ]
    },
    {
     "name": "stdout",
     "output_type": "stream",
     "text": [
      "Function definitions\n",
      "********************\n",
      "\n",
      "A function definition defines a user-defined function object (see\n",
      "section The standard type hierarchy):\n",
      "\n",
      "   funcdef                   ::= [decorators] \"def\" funcname \"(\" [parameter_list] \")\"\n",
      "               [\"->\" expression] \":\" suite\n",
      "   decorators                ::= decorator+\n",
      "   decorator                 ::= \"@\" assignment_expression NEWLINE\n",
      "   parameter_list            ::= defparameter (\",\" defparameter)* \",\" \"/\" [\",\" [parameter_list_no_posonly]]\n",
      "                        | parameter_list_no_posonly\n",
      "   parameter_list_no_posonly ::= defparameter (\",\" defparameter)* [\",\" [parameter_list_starargs]]\n",
      "                                 | parameter_list_starargs\n",
      "   parameter_list_starargs   ::= \"*\" [parameter] (\",\" defparameter)* [\",\" [\"**\" parameter [\",\"]]]\n",
      "                               | \"**\" parameter [\",\"]\n",
      "   parameter                 ::= identifier [\":\" expression]\n",
      "   defparameter              ::= parameter [\"=\" expression]\n",
      "   funcname                  ::= identifier\n",
      "\n",
      "A function definition is an executable statement.  Its execution binds\n",
      "the function name in the current local namespace to a function object\n",
      "(a wrapper around the executable code for the function).  This\n",
      "function object contains a reference to the current global namespace\n",
      "as the global namespace to be used when the function is called.\n",
      "\n",
      "The function definition does not execute the function body; this gets\n",
      "executed only when the function is called. [2]\n",
      "\n",
      "A function definition may be wrapped by one or more *decorator*\n",
      "expressions. Decorator expressions are evaluated when the function is\n",
      "defined, in the scope that contains the function definition.  The\n",
      "result must be a callable, which is invoked with the function object\n",
      "as the only argument. The returned value is bound to the function name\n",
      "instead of the function object.  Multiple decorators are applied in\n",
      "nested fashion. For example, the following code\n",
      "\n",
      "   @f1(arg)\n",
      "   @f2\n",
      "   def func(): pass\n",
      "\n",
      "is roughly equivalent to\n",
      "\n",
      "   def func(): pass\n",
      "   func = f1(arg)(f2(func))\n",
      "\n",
      "except that the original function is not temporarily bound to the name\n",
      "\"func\".\n",
      "\n",
      "Changed in version 3.9: Functions may be decorated with any valid\n",
      "\"assignment_expression\". Previously, the grammar was much more\n",
      "restrictive; see **PEP 614** for details.\n",
      "\n",
      "When one or more *parameters* have the form *parameter* \"=\"\n",
      "*expression*, the function is said to have “default parameter values.”\n",
      "For a parameter with a default value, the corresponding *argument* may\n",
      "be omitted from a call, in which case the parameter’s default value is\n",
      "substituted.  If a parameter has a default value, all following\n",
      "parameters up until the “\"*\"” must also have a default value — this is\n",
      "a syntactic restriction that is not expressed by the grammar.\n",
      "\n",
      "**Default parameter values are evaluated from left to right when the\n",
      "function definition is executed.** This means that the expression is\n",
      "evaluated once, when the function is defined, and that the same “pre-\n",
      "computed” value is used for each call.  This is especially important\n",
      "to understand when a default parameter is a mutable object, such as a\n",
      "list or a dictionary: if the function modifies the object (e.g. by\n",
      "appending an item to a list), the default value is in effect modified.\n",
      "This is generally not what was intended.  A way around this is to use\n",
      "\"None\" as the default, and explicitly test for it in the body of the\n",
      "function, e.g.:\n",
      "\n",
      "   def whats_on_the_telly(penguin=None):\n",
      "       if penguin is None:\n",
      "           penguin = []\n",
      "       penguin.append(\"property of the zoo\")\n",
      "       return penguin\n",
      "\n",
      "Function call semantics are described in more detail in section Calls.\n",
      "A function call always assigns values to all parameters mentioned in\n",
      "the parameter list, either from positional arguments, from keyword\n",
      "arguments, or from default values.  If the form “\"*identifier\"” is\n",
      "present, it is initialized to a tuple receiving any excess positional\n",
      "parameters, defaulting to the empty tuple. If the form\n",
      "“\"**identifier\"” is present, it is initialized to a new ordered\n",
      "mapping receiving any excess keyword arguments, defaulting to a new\n",
      "empty mapping of the same type.  Parameters after “\"*\"” or\n",
      "“\"*identifier\"” are keyword-only parameters and may only be passed by\n",
      "keyword arguments.  Parameters before “\"/\"” are positional-only\n",
      "parameters and may only be passed by positional arguments.\n",
      "\n",
      "Changed in version 3.8: The \"/\" function parameter syntax may be used\n",
      "to indicate positional-only parameters. See **PEP 570** for details.\n",
      "\n",
      "Parameters may have an *annotation* of the form “\": expression\"”\n",
      "following the parameter name.  Any parameter may have an annotation,\n",
      "even those of the form \"*identifier\" or \"**identifier\".  Functions may\n",
      "have “return” annotation of the form “\"-> expression\"” after the\n",
      "parameter list.  These annotations can be any valid Python expression.\n",
      "The presence of annotations does not change the semantics of a\n",
      "function.  The annotation values are available as values of a\n",
      "dictionary keyed by the parameters’ names in the \"__annotations__\"\n",
      "attribute of the function object.  If the \"annotations\" import from\n",
      "\"__future__\" is used, annotations are preserved as strings at runtime\n",
      "which enables postponed evaluation.  Otherwise, they are evaluated\n",
      "when the function definition is executed.  In this case annotations\n",
      "may be evaluated in a different order than they appear in the source\n",
      "code.\n",
      "\n",
      "It is also possible to create anonymous functions (functions not bound\n",
      "to a name), for immediate use in expressions.  This uses lambda\n",
      "expressions, described in section Lambdas.  Note that the lambda\n",
      "expression is merely a shorthand for a simplified function definition;\n",
      "a function defined in a “\"def\"” statement can be passed around or\n",
      "assigned to another name just like a function defined by a lambda\n",
      "expression.  The “\"def\"” form is actually more powerful since it\n",
      "allows the execution of multiple statements and annotations.\n",
      "\n",
      "**Programmer’s note:** Functions are first-class objects.  A “\"def\"”\n",
      "statement executed inside a function definition defines a local\n",
      "function that can be returned or passed around.  Free variables used\n",
      "in the nested function can access the local variables of the function\n",
      "containing the def.  See section Naming and binding for details.\n",
      "\n",
      "See also:\n",
      "\n",
      "  **PEP 3107** - Function Annotations\n",
      "     The original specification for function annotations.\n",
      "\n",
      "  **PEP 484** - Type Hints\n",
      "     Definition of a standard meaning for annotations: type hints.\n",
      "\n",
      "  **PEP 526** - Syntax for Variable Annotations\n",
      "     Ability to type hint variable declarations, including class\n",
      "     variables and instance variables\n",
      "\n",
      "  **PEP 563** - Postponed Evaluation of Annotations\n",
      "     Support for forward references within annotations by preserving\n",
      "     annotations in a string form at runtime instead of eager\n",
      "     evaluation.\n",
      "\n"
     ]
    },
    {
     "name": "stdin",
     "output_type": "stream",
     "text": [
      "help>  def\n"
     ]
    },
    {
     "name": "stdout",
     "output_type": "stream",
     "text": [
      "Function definitions\n",
      "********************\n",
      "\n",
      "A function definition defines a user-defined function object (see\n",
      "section The standard type hierarchy):\n",
      "\n",
      "   funcdef                   ::= [decorators] \"def\" funcname \"(\" [parameter_list] \")\"\n",
      "               [\"->\" expression] \":\" suite\n",
      "   decorators                ::= decorator+\n",
      "   decorator                 ::= \"@\" assignment_expression NEWLINE\n",
      "   parameter_list            ::= defparameter (\",\" defparameter)* \",\" \"/\" [\",\" [parameter_list_no_posonly]]\n",
      "                        | parameter_list_no_posonly\n",
      "   parameter_list_no_posonly ::= defparameter (\",\" defparameter)* [\",\" [parameter_list_starargs]]\n",
      "                                 | parameter_list_starargs\n",
      "   parameter_list_starargs   ::= \"*\" [parameter] (\",\" defparameter)* [\",\" [\"**\" parameter [\",\"]]]\n",
      "                               | \"**\" parameter [\",\"]\n",
      "   parameter                 ::= identifier [\":\" expression]\n",
      "   defparameter              ::= parameter [\"=\" expression]\n",
      "   funcname                  ::= identifier\n",
      "\n",
      "A function definition is an executable statement.  Its execution binds\n",
      "the function name in the current local namespace to a function object\n",
      "(a wrapper around the executable code for the function).  This\n",
      "function object contains a reference to the current global namespace\n",
      "as the global namespace to be used when the function is called.\n",
      "\n",
      "The function definition does not execute the function body; this gets\n",
      "executed only when the function is called. [2]\n",
      "\n",
      "A function definition may be wrapped by one or more *decorator*\n",
      "expressions. Decorator expressions are evaluated when the function is\n",
      "defined, in the scope that contains the function definition.  The\n",
      "result must be a callable, which is invoked with the function object\n",
      "as the only argument. The returned value is bound to the function name\n",
      "instead of the function object.  Multiple decorators are applied in\n",
      "nested fashion. For example, the following code\n",
      "\n",
      "   @f1(arg)\n",
      "   @f2\n",
      "   def func(): pass\n",
      "\n",
      "is roughly equivalent to\n",
      "\n",
      "   def func(): pass\n",
      "   func = f1(arg)(f2(func))\n",
      "\n",
      "except that the original function is not temporarily bound to the name\n",
      "\"func\".\n",
      "\n",
      "Changed in version 3.9: Functions may be decorated with any valid\n",
      "\"assignment_expression\". Previously, the grammar was much more\n",
      "restrictive; see **PEP 614** for details.\n",
      "\n",
      "When one or more *parameters* have the form *parameter* \"=\"\n",
      "*expression*, the function is said to have “default parameter values.”\n",
      "For a parameter with a default value, the corresponding *argument* may\n",
      "be omitted from a call, in which case the parameter’s default value is\n",
      "substituted.  If a parameter has a default value, all following\n",
      "parameters up until the “\"*\"” must also have a default value — this is\n",
      "a syntactic restriction that is not expressed by the grammar.\n",
      "\n",
      "**Default parameter values are evaluated from left to right when the\n",
      "function definition is executed.** This means that the expression is\n",
      "evaluated once, when the function is defined, and that the same “pre-\n",
      "computed” value is used for each call.  This is especially important\n",
      "to understand when a default parameter is a mutable object, such as a\n",
      "list or a dictionary: if the function modifies the object (e.g. by\n",
      "appending an item to a list), the default value is in effect modified.\n",
      "This is generally not what was intended.  A way around this is to use\n",
      "\"None\" as the default, and explicitly test for it in the body of the\n",
      "function, e.g.:\n",
      "\n",
      "   def whats_on_the_telly(penguin=None):\n",
      "       if penguin is None:\n",
      "           penguin = []\n",
      "       penguin.append(\"property of the zoo\")\n",
      "       return penguin\n",
      "\n",
      "Function call semantics are described in more detail in section Calls.\n",
      "A function call always assigns values to all parameters mentioned in\n",
      "the parameter list, either from positional arguments, from keyword\n",
      "arguments, or from default values.  If the form “\"*identifier\"” is\n",
      "present, it is initialized to a tuple receiving any excess positional\n",
      "parameters, defaulting to the empty tuple. If the form\n",
      "“\"**identifier\"” is present, it is initialized to a new ordered\n",
      "mapping receiving any excess keyword arguments, defaulting to a new\n",
      "empty mapping of the same type.  Parameters after “\"*\"” or\n",
      "“\"*identifier\"” are keyword-only parameters and may only be passed by\n",
      "keyword arguments.  Parameters before “\"/\"” are positional-only\n",
      "parameters and may only be passed by positional arguments.\n",
      "\n",
      "Changed in version 3.8: The \"/\" function parameter syntax may be used\n",
      "to indicate positional-only parameters. See **PEP 570** for details.\n",
      "\n",
      "Parameters may have an *annotation* of the form “\": expression\"”\n",
      "following the parameter name.  Any parameter may have an annotation,\n",
      "even those of the form \"*identifier\" or \"**identifier\".  Functions may\n",
      "have “return” annotation of the form “\"-> expression\"” after the\n",
      "parameter list.  These annotations can be any valid Python expression.\n",
      "The presence of annotations does not change the semantics of a\n",
      "function.  The annotation values are available as values of a\n",
      "dictionary keyed by the parameters’ names in the \"__annotations__\"\n",
      "attribute of the function object.  If the \"annotations\" import from\n",
      "\"__future__\" is used, annotations are preserved as strings at runtime\n",
      "which enables postponed evaluation.  Otherwise, they are evaluated\n",
      "when the function definition is executed.  In this case annotations\n",
      "may be evaluated in a different order than they appear in the source\n",
      "code.\n",
      "\n",
      "It is also possible to create anonymous functions (functions not bound\n",
      "to a name), for immediate use in expressions.  This uses lambda\n",
      "expressions, described in section Lambdas.  Note that the lambda\n",
      "expression is merely a shorthand for a simplified function definition;\n",
      "a function defined in a “\"def\"” statement can be passed around or\n",
      "assigned to another name just like a function defined by a lambda\n",
      "expression.  The “\"def\"” form is actually more powerful since it\n",
      "allows the execution of multiple statements and annotations.\n",
      "\n",
      "**Programmer’s note:** Functions are first-class objects.  A “\"def\"”\n",
      "statement executed inside a function definition defines a local\n",
      "function that can be returned or passed around.  Free variables used\n",
      "in the nested function can access the local variables of the function\n",
      "containing the def.  See section Naming and binding for details.\n",
      "\n",
      "See also:\n",
      "\n",
      "  **PEP 3107** - Function Annotations\n",
      "     The original specification for function annotations.\n",
      "\n",
      "  **PEP 484** - Type Hints\n",
      "     Definition of a standard meaning for annotations: type hints.\n",
      "\n",
      "  **PEP 526** - Syntax for Variable Annotations\n",
      "     Ability to type hint variable declarations, including class\n",
      "     variables and instance variables\n",
      "\n",
      "  **PEP 563** - Postponed Evaluation of Annotations\n",
      "     Support for forward references within annotations by preserving\n",
      "     annotations in a string form at runtime instead of eager\n",
      "     evaluation.\n",
      "\n"
     ]
    },
    {
     "name": "stdin",
     "output_type": "stream",
     "text": [
      "help>  continue\n"
     ]
    },
    {
     "name": "stdout",
     "output_type": "stream",
     "text": [
      "The \"continue\" statement\n",
      "************************\n",
      "\n",
      "   continue_stmt ::= \"continue\"\n",
      "\n",
      "\"continue\" may only occur syntactically nested in a \"for\" or \"while\"\n",
      "loop, but not nested in a function or class definition within that\n",
      "loop.  It continues with the next cycle of the nearest enclosing loop.\n",
      "\n",
      "When \"continue\" passes control out of a \"try\" statement with a\n",
      "\"finally\" clause, that \"finally\" clause is executed before really\n",
      "starting the next loop cycle.\n",
      "\n",
      "Related help topics: while, for\n",
      "\n"
     ]
    }
   ],
   "source": []
  },
  {
   "cell_type": "markdown",
   "metadata": {
    "id": "kG-nBjLU1WPC"
   },
   "source": [
    "🧨 Is the code cell above still running? If so, you can't continue!\n",
    "\n",
    "💣 Click the stop button next to the cell. Otherwise, it will continue to run infinitely and you will not be able to run other cells."
   ]
  },
  {
   "cell_type": "markdown",
   "metadata": {
    "id": "cnWVzlo1vBy8"
   },
   "source": [
    "# Meet Amir\n",
    "\n",
    "Let's say you are browsing the internet, when a pop up message shows on your screen, someone wants to meet you. \n",
    " "
   ]
  },
  {
   "cell_type": "code",
   "execution_count": 2,
   "metadata": {
    "id": "JFUdDbEW7GqB"
   },
   "outputs": [
    {
     "name": "stdout",
     "output_type": "stream",
     "text": [
      "Hello, my name is Amir! Nice to meet you. What is yours?\n"
     ]
    }
   ],
   "source": [
    "#Run this cell to see the message\n",
    "message = \"Hello, my name is Amir! Nice to meet you. What is yours?\"\n",
    "print(message)"
   ]
  },
  {
   "cell_type": "markdown",
   "metadata": {
    "id": "Yr7uQq1J2k6p"
   },
   "source": [
    "Now, how would you answer Amir? \n",
    "\n",
    "Use the cell below to prepare an answer for him with a greeting and your name and print it to the screen. \n",
    "\n",
    "📌 We use the built-in function print() in Python to show results as output."
   ]
  },
  {
   "cell_type": "code",
   "execution_count": 3,
   "metadata": {
    "id": "8S1F2r8NtEoN"
   },
   "outputs": [
    {
     "name": "stdout",
     "output_type": "stream",
     "text": [
      "Hello, my name is Mustafa! Nice to meet you too.\n"
     ]
    }
   ],
   "source": [
    "#Write your answer and print it on the screen\n",
    "answer = \"Hello, my name is Mustafa! Nice to meet you too.\"\n",
    "print(answer)"
   ]
  },
  {
   "cell_type": "markdown",
   "metadata": {
    "id": "Vgv4mhyZEWR6"
   },
   "source": [
    "Good job! Right away Amir writes you back with an intriguing question. He says, \"Would you like to plan an exciting adventure with me today?\" Well, why not! But before you start planning, maybe you need to learn a little bit more about each other."
   ]
  },
  {
   "cell_type": "markdown",
   "metadata": {
    "id": "QQIXQsmRwGqB"
   },
   "source": [
    "#Get to know each other\n",
    "\n",
    "You ask Amir to tell you a little bit about himself, and here's what he tells you."
   ]
  },
  {
   "cell_type": "code",
   "execution_count": null,
   "metadata": {
    "id": "dvTr4HR4wF4n"
   },
   "outputs": [],
   "source": [
    "#Run the cell to see his message\n",
    "his_age = 20\n",
    "his_height = 1.76\n",
    "his_hair_color = \"brunette\"\n",
    "his_hometown = \"Iran\"\n",
    "where_he_lives = \"Turkey\"\n",
    "\n",
    "print(\"I am\", str(his_age),\"years old,\",str(his_height),\"tall\",his_hair_color,\"guy from\",his_hometown,\"but I currently live in\",where_he_lives)\n",
    "\n",
    "print(\"What about you? Tell me about yourself.\")"
   ]
  },
  {
   "cell_type": "markdown",
   "metadata": {
    "id": "L7-zc-wR5982"
   },
   "source": [
    "Now it is your turn to share, but first some preparation is needed.\n",
    "\n",
    "1. Write in information about yourself using the variables below. \n",
    "2. If there's something you don't want to share, you can use comments. Just put a \"#\" symbol in front of the code line and Python will not execute that line of code.\n",
    "3. Check the datatype of each variable.\n",
    "\n",
    "📌 Remember that there are different data types in Python and in order to use them in a sentence you may have to convert some of them. "
   ]
  },
  {
   "cell_type": "code",
   "execution_count": 8,
   "metadata": {
    "id": "MDTV-mOZBVOw"
   },
   "outputs": [
    {
     "name": "stdout",
     "output_type": "stream",
     "text": [
      "<class 'int'> <class 'int'> <class 'str'> <class 'str'> <class 'str'>\n"
     ]
    }
   ],
   "source": [
    "#Please assign your age, height and other details you want to share.\n",
    "my_age = 22\n",
    "my_height = 189\n",
    "my_hair_color = \"yellow\"\n",
    "my_hometown = \"Turkey\"\n",
    "where_i_live = \"Turkey\"\n",
    "\n",
    "#Check the data type of the variables you want to use.\n",
    "print(type(my_age),type(my_height),type(my_hair_color),type(my_hometown),type(where_i_live))\n"
   ]
  },
  {
   "cell_type": "markdown",
   "metadata": {
    "id": "SDnrjsw7IC7Z"
   },
   "source": [
    "Great, now that you know what you want to share and which variables need to be converted to strings, you're ready to write your sentence. "
   ]
  },
  {
   "cell_type": "code",
   "execution_count": 9,
   "metadata": {
    "id": "0U8slyfyICeJ"
   },
   "outputs": [
    {
     "name": "stdout",
     "output_type": "stream",
     "text": [
      "I am 22 years old, 189 tall yellow guy from Turkey but I currently live in Turkey\n"
     ]
    }
   ],
   "source": [
    "#Write a sentence using the print function to describe yourself using the variables above in the correct data type\n",
    "\n",
    "print(\"I am\", str(my_age),\"years old,\",str(my_height),\"tall\",my_hair_color,\"guy from\",my_hometown,\"but I currently live in\",where_i_live)\n"
   ]
  },
  {
   "cell_type": "markdown",
   "metadata": {
    "id": "7ICXdJRy9SWZ"
   },
   "source": [
    "#Where to go and what to eat\n",
    "\n",
    "Now that you know each other a little better, you can start planning your adventure. But where do you start? \n",
    "\n",
    "Let's start with locations and food. Amir asks you to make a list of places in the world that you want to visit and meals that you like to eat.\n",
    " \n",
    "Create a list 'favorite_places_and_foods' that contains at least 5 places and 5 meals.\n"
   ]
  },
  {
   "cell_type": "code",
   "execution_count": 10,
   "metadata": {
    "id": "FHdeAmG6Aw3h"
   },
   "outputs": [],
   "source": [
    "#Create your list\n",
    "favorite_places_and_foods = [\"Italy\",\"France\",\"Spain\",\"Dubai\",\"USA\",\"xd\",\"xm\",\"xc\",\"xr\",\"xj\"]"
   ]
  },
  {
   "cell_type": "code",
   "execution_count": 14,
   "metadata": {},
   "outputs": [
    {
     "data": {
      "text/plain": [
       "\u001b[1;31mInit signature:\u001b[0m \u001b[0mslice\u001b[0m\u001b[1;33m(\u001b[0m\u001b[0mself\u001b[0m\u001b[1;33m,\u001b[0m \u001b[1;33m/\u001b[0m\u001b[1;33m,\u001b[0m \u001b[1;33m*\u001b[0m\u001b[0margs\u001b[0m\u001b[1;33m,\u001b[0m \u001b[1;33m**\u001b[0m\u001b[0mkwargs\u001b[0m\u001b[1;33m)\u001b[0m\u001b[1;33m\u001b[0m\u001b[1;33m\u001b[0m\u001b[0m\n",
       "\u001b[1;31mDocstring:\u001b[0m     \n",
       "slice(stop)\n",
       "slice(start, stop[, step])\n",
       "\n",
       "Create a slice object.  This is used for extended slicing (e.g. a[0:10:2]).\n",
       "\u001b[1;31mType:\u001b[0m           type\n",
       "\u001b[1;31mSubclasses:\u001b[0m     \n"
      ]
     },
     "metadata": {},
     "output_type": "display_data"
    }
   ],
   "source": [
    "?slice"
   ]
  },
  {
   "cell_type": "markdown",
   "metadata": {
    "id": "bHbGRpu2MmYH"
   },
   "source": [
    "It's quite tough to choose from such great options. You need to narrow it down to three items per category. \n",
    "\n",
    "1. First you have to separate or 'slice' the places from the meals. \n",
    "2. Then select the first three items from the places list and the last ones from the foods list.\n",
    "3. Print the remaining options to the screen. \n",
    "\n",
    "📌 Do you remember the list slicing technique? For example, Mylist[1:3] will give the second and third value from Mylist."
   ]
  },
  {
   "cell_type": "code",
   "execution_count": 17,
   "metadata": {
    "id": "13LMxJu1CD-F"
   },
   "outputs": [
    {
     "name": "stdout",
     "output_type": "stream",
     "text": [
      "['Italy', 'France', 'Spain'] ['xd', 'xm', 'xc', 'xr', 'xj']\n"
     ]
    }
   ],
   "source": [
    "#Create two separate lists for places and foods using the list slicing technique\n",
    "places = favorite_places_and_foods[:5]\n",
    "foods = favorite_places_and_foods[5:]\n",
    "\n",
    "#Select the first and last three from place and food lists\n",
    "x = places[:3]\n",
    "y = foods\n",
    "\n",
    "#Print both lists\n",
    "print(x,y)"
   ]
  },
  {
   "cell_type": "markdown",
   "metadata": {
    "id": "R5LG-XXHBFFM"
   },
   "source": [
    "It's quite hard to make a choice from these three. But why not let the computer choose for you? Do you remember the game of dice from our videos? Here is what you need to do.\n",
    "\n",
    "1. Import the random module\n",
    "2. Generate two random numbers between 0-2\n",
    "3. Use each number as the index to choose an item from your favourite-place and food lists\n",
    "4. Print the results to the screen\n"
   ]
  },
  {
   "cell_type": "code",
   "execution_count": 33,
   "metadata": {
    "id": "krGw2OUtC9y5"
   },
   "outputs": [
    {
     "name": "stdout",
     "output_type": "stream",
     "text": [
      "Spain xd\n"
     ]
    }
   ],
   "source": [
    "#Please import the random module and generate two random numbers between 0 and 2\n",
    "import random\n",
    "\n",
    "z = []\n",
    "\n",
    "for x in range(2):\n",
    "    y = random.randint(0,2)\n",
    "    z.append(y)\n",
    "    \n",
    "#Use the generated numbers as indexes of randomely chosen items from place and food lists\n",
    "print(places[z[0]],foods[z[1]])\n"
   ]
  },
  {
   "cell_type": "markdown",
   "metadata": {
    "id": "XzBTqk1yPZsM"
   },
   "source": [
    "You must have found your location and food. But what else would you like to do on your adventure?"
   ]
  },
  {
   "cell_type": "markdown",
   "metadata": {
    "id": "9t9q1B-WbW4i"
   },
   "source": [
    "#Activities \n",
    "\n",
    "Now, you have your place and meals, but after lunch there are still lots of activities that you can do together...or separately.\n",
    "\n",
    "Let's say there are three pre-defined options: playing chess, playing tennis and visiting a museum. Chess and tennis require both of you to participate, but you can visit the museum separately as well. \n",
    "\n",
    "We need a code to indicate which activities each of you would like to do and which ones will be able to do. A chance to use our logical operators. \n",
    "\n",
    "1. Define activities\n",
    "2. Use the operands 'True' and 'False' to indicate your and Amir's preference for each activity\n",
    "3. Use the logical operators 'and' and 'or' to define which activities you will be able to do\n",
    "\n",
    "📌 Please add in the responces for Amir as well, by the way he doesn't like sports, but loves board games. "
   ]
  },
  {
   "cell_type": "code",
   "execution_count": 34,
   "metadata": {
    "id": "sNIV7420Yk-Y"
   },
   "outputs": [
    {
     "name": "stdout",
     "output_type": "stream",
     "text": [
      "We are going to play chess in the park! Answer: lets go to the museum\n"
     ]
    }
   ],
   "source": [
    "first_activity = \"lets play chess in the park\"\n",
    "second_activiy = \"lets play a game of tennis\"\n",
    "third_activity = \"lets go to the museum\"\n",
    "\n",
    "#Write your and Amir's preference for each activity either as \"True\" or \"False\"\n",
    "\n",
    "\n",
    "\n",
    "#First activity\n",
    "first_activity_your = \"lets play chess in the park\"\n",
    "first_activity_friend = \"lets go to the museum\"\n",
    "\n",
    "#Example statement\n",
    "print(\"We are going to play chess in the park! Answer:\" ,first_activity_your and first_activity_friend)\n",
    " \n",
    "#Second activity\n",
    "\n",
    " \n",
    "#Your turn to write the statement\n",
    "\n",
    "\n",
    "#Third activity\n",
    "\n",
    "#Your turn to write the statement \n"
   ]
  },
  {
   "cell_type": "markdown",
   "metadata": {
    "id": "p_jbzGubELqR"
   },
   "source": [
    "#Get a date\n",
    "\n",
    "Finally you know where to meet, what to eat and what do to. The only last thing to decide is when to meet. How would you ask Amir for the date and time he wants to go on this adventure with you? \n",
    "\n",
    "📌📌Hint: Use the input() function."
   ]
  },
  {
   "cell_type": "code",
   "execution_count": null,
   "metadata": {
    "id": "jGxVfccGEMZB"
   },
   "outputs": [],
   "source": [
    "#Create a variable for your trip date that asks Amir for an input\n",
    "\n",
    "\n",
    "#Print the date for the trip by using it in a sentence\n"
   ]
  }
 ],
 "metadata": {
  "colab": {
   "collapsed_sections": [],
   "name": "practical_exercise1.ipynb",
   "provenance": []
  },
  "kernelspec": {
   "display_name": "Python 3 (ipykernel)",
   "language": "python",
   "name": "python3"
  },
  "language_info": {
   "codemirror_mode": {
    "name": "ipython",
    "version": 3
   },
   "file_extension": ".py",
   "mimetype": "text/x-python",
   "name": "python",
   "nbconvert_exporter": "python",
   "pygments_lexer": "ipython3",
   "version": "3.9.12"
  }
 },
 "nbformat": 4,
 "nbformat_minor": 4
}
