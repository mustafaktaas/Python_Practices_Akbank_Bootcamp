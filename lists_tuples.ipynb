{
 "cells": [
  {
   "cell_type": "code",
   "execution_count": 1,
   "metadata": {
    "executionInfo": {
     "elapsed": 3,
     "status": "ok",
     "timestamp": 1645535512653,
     "user": {
      "displayName": "Emir Kiani",
      "photoUrl": "https://lh3.googleusercontent.com/a/default-user=s64",
      "userId": "02161389991804253449"
     },
     "user_tz": -180
    },
    "id": "cTu5pf0Wjr-a"
   },
   "outputs": [],
   "source": [
    "shopping_list = [\"Apple\", \"Juice\", \"Ball\", \"Book\"]"
   ]
  },
  {
   "cell_type": "code",
   "execution_count": 2,
   "metadata": {
    "colab": {
     "base_uri": "https://localhost:8080/"
    },
    "executionInfo": {
     "elapsed": 9,
     "status": "ok",
     "timestamp": 1645535517257,
     "user": {
      "displayName": "Emir Kiani",
      "photoUrl": "https://lh3.googleusercontent.com/a/default-user=s64",
      "userId": "02161389991804253449"
     },
     "user_tz": -180
    },
    "id": "ZNHNVs3bjyey",
    "outputId": "ae314982-2236-4075-81cd-eb135ab0aaa2"
   },
   "outputs": [
    {
     "name": "stdout",
     "output_type": "stream",
     "text": [
      "['Apple', 'Juice', 'Ball', 'Book', 'Water']\n"
     ]
    }
   ],
   "source": [
    "shopping_list.append(\"Water\")\n",
    "print(shopping_list)"
   ]
  },
  {
   "cell_type": "code",
   "execution_count": 3,
   "metadata": {
    "colab": {
     "base_uri": "https://localhost:8080/"
    },
    "executionInfo": {
     "elapsed": 3,
     "status": "ok",
     "timestamp": 1645535525683,
     "user": {
      "displayName": "Emir Kiani",
      "photoUrl": "https://lh3.googleusercontent.com/a/default-user=s64",
      "userId": "02161389991804253449"
     },
     "user_tz": -180
    },
    "id": "Fu_S1euFj1MM",
    "outputId": "ae4b7571-0833-4701-936e-878ea5015f13"
   },
   "outputs": [
    {
     "name": "stdout",
     "output_type": "stream",
     "text": [
      "['Apple', 'Juice', 'Banana', 'Ball', 'Book', 'Water']\n"
     ]
    }
   ],
   "source": [
    "shopping_list.insert(2,\"Banana\")\n",
    "print(shopping_list)"
   ]
  },
  {
   "cell_type": "code",
   "execution_count": 4,
   "metadata": {
    "colab": {
     "base_uri": "https://localhost:8080/"
    },
    "executionInfo": {
     "elapsed": 6,
     "status": "ok",
     "timestamp": 1645535535291,
     "user": {
      "displayName": "Emir Kiani",
      "photoUrl": "https://lh3.googleusercontent.com/a/default-user=s64",
      "userId": "02161389991804253449"
     },
     "user_tz": -180
    },
    "id": "CN4bVLuej3ZF",
    "outputId": "76b05b74-3762-4b5c-e6db-fc16e7f049b8"
   },
   "outputs": [
    {
     "name": "stdout",
     "output_type": "stream",
     "text": [
      "['Juice', 'Banana', 'Ball', 'Book', 'Water']\n"
     ]
    }
   ],
   "source": [
    "shopping_list.remove(\"Apple\")\n",
    "print(shopping_list)"
   ]
  },
  {
   "cell_type": "code",
   "execution_count": 5,
   "metadata": {
    "colab": {
     "base_uri": "https://localhost:8080/"
    },
    "executionInfo": {
     "elapsed": 3,
     "status": "ok",
     "timestamp": 1645535543011,
     "user": {
      "displayName": "Emir Kiani",
      "photoUrl": "https://lh3.googleusercontent.com/a/default-user=s64",
      "userId": "02161389991804253449"
     },
     "user_tz": -180
    },
    "id": "aaFx17WCj5dU",
    "outputId": "4fe48fd1-943b-420e-e5b8-7f20f9f2fba4"
   },
   "outputs": [
    {
     "name": "stdout",
     "output_type": "stream",
     "text": [
      "['Juice', 'Banana', 'Ball', 'Strawberry', 'Water']\n"
     ]
    }
   ],
   "source": [
    "shopping_list[3] = \"Strawberry\"\n",
    "print(shopping_list)"
   ]
  },
  {
   "cell_type": "code",
   "execution_count": 6,
   "metadata": {
    "executionInfo": {
     "elapsed": 2,
     "status": "ok",
     "timestamp": 1645535550086,
     "user": {
      "displayName": "Emir Kiani",
      "photoUrl": "https://lh3.googleusercontent.com/a/default-user=s64",
      "userId": "02161389991804253449"
     },
     "user_tz": -180
    },
    "id": "DSlv9_cej7dJ"
   },
   "outputs": [],
   "source": [
    "number_list = [1,2,3,4,5]"
   ]
  },
  {
   "cell_type": "code",
   "execution_count": 7,
   "metadata": {
    "executionInfo": {
     "elapsed": 1,
     "status": "ok",
     "timestamp": 1645535557694,
     "user": {
      "displayName": "Emir Kiani",
      "photoUrl": "https://lh3.googleusercontent.com/a/default-user=s64",
      "userId": "02161389991804253449"
     },
     "user_tz": -180
    },
    "id": "M9CvSfxLj9Zi"
   },
   "outputs": [],
   "source": [
    "square_list = []"
   ]
  },
  {
   "cell_type": "code",
   "execution_count": 8,
   "metadata": {
    "colab": {
     "base_uri": "https://localhost:8080/"
    },
    "executionInfo": {
     "elapsed": 3,
     "status": "ok",
     "timestamp": 1645535579005,
     "user": {
      "displayName": "Emir Kiani",
      "photoUrl": "https://lh3.googleusercontent.com/a/default-user=s64",
      "userId": "02161389991804253449"
     },
     "user_tz": -180
    },
    "id": "c4bxhOPkj-_C",
    "outputId": "56686cc6-53cd-401c-f873-15f4c86a824b"
   },
   "outputs": [
    {
     "name": "stdout",
     "output_type": "stream",
     "text": [
      "[1, 4, 9, 16, 25]\n"
     ]
    }
   ],
   "source": [
    "for num in number_list:\n",
    "  square_list.append(num**2)\n",
    "\n",
    "print(square_list)"
   ]
  },
  {
   "cell_type": "code",
   "execution_count": 9,
   "metadata": {
    "colab": {
     "base_uri": "https://localhost:8080/"
    },
    "executionInfo": {
     "elapsed": 2,
     "status": "ok",
     "timestamp": 1645535607808,
     "user": {
      "displayName": "Emir Kiani",
      "photoUrl": "https://lh3.googleusercontent.com/a/default-user=s64",
      "userId": "02161389991804253449"
     },
     "user_tz": -180
    },
    "id": "2w8CbCTXkEbR",
    "outputId": "18af995e-ded8-4360-b0b0-71fe0e9293f5"
   },
   "outputs": [
    {
     "name": "stdout",
     "output_type": "stream",
     "text": [
      "[1, 4, 9, 16, 25]\n"
     ]
    }
   ],
   "source": [
    "number_list = [1,2,3,4,5]\n",
    "square_list = [num ** 2 for num in number_list]\n",
    "\n",
    "print(square_list)"
   ]
  },
  {
   "cell_type": "code",
   "execution_count": 10,
   "metadata": {
    "executionInfo": {
     "elapsed": 2,
     "status": "ok",
     "timestamp": 1645535629908,
     "user": {
      "displayName": "Emir Kiani",
      "photoUrl": "https://lh3.googleusercontent.com/a/default-user=s64",
      "userId": "02161389991804253449"
     },
     "user_tz": -180
    },
    "id": "N0C1-GUHkLcz"
   },
   "outputs": [],
   "source": [
    "shopping_list  = (\"Apple\", \"Juice\", \"Ball\", \"Book\")"
   ]
  },
  {
   "cell_type": "code",
   "execution_count": 11,
   "metadata": {
    "colab": {
     "base_uri": "https://localhost:8080/"
    },
    "executionInfo": {
     "elapsed": 2,
     "status": "ok",
     "timestamp": 1645535638717,
     "user": {
      "displayName": "Emir Kiani",
      "photoUrl": "https://lh3.googleusercontent.com/a/default-user=s64",
      "userId": "02161389991804253449"
     },
     "user_tz": -180
    },
    "id": "_Q-qD2WqkQ0q",
    "outputId": "c2218c6c-0c1e-45f4-a683-f4bab5347d6f"
   },
   "outputs": [
    {
     "name": "stdout",
     "output_type": "stream",
     "text": [
      "Apple\n",
      "Juice\n",
      "Ball\n",
      "Book\n"
     ]
    }
   ],
   "source": [
    "item1, item2, item3, item4 = shopping_list\n",
    "print(item1)\n",
    "print(item2)\n",
    "print(item3)\n",
    "print(item4)"
   ]
  },
  {
   "cell_type": "code",
   "execution_count": 12,
   "metadata": {
    "colab": {
     "base_uri": "https://localhost:8080/"
    },
    "executionInfo": {
     "elapsed": 5,
     "status": "ok",
     "timestamp": 1645535647654,
     "user": {
      "displayName": "Emir Kiani",
      "photoUrl": "https://lh3.googleusercontent.com/a/default-user=s64",
      "userId": "02161389991804253449"
     },
     "user_tz": -180
    },
    "id": "RdAFHjsWkTAK",
    "outputId": "79ac8b27-4ff8-45bf-d7d0-628911bb4dcf"
   },
   "outputs": [
    {
     "name": "stdout",
     "output_type": "stream",
     "text": [
      "Apple\n"
     ]
    }
   ],
   "source": [
    "print(shopping_list[0])"
   ]
  },
  {
   "cell_type": "code",
   "execution_count": 13,
   "metadata": {
    "colab": {
     "base_uri": "https://localhost:8080/"
    },
    "executionInfo": {
     "elapsed": 4,
     "status": "ok",
     "timestamp": 1645535657797,
     "user": {
      "displayName": "Emir Kiani",
      "photoUrl": "https://lh3.googleusercontent.com/a/default-user=s64",
      "userId": "02161389991804253449"
     },
     "user_tz": -180
    },
    "id": "VId8mxFlkVL3",
    "outputId": "e9941aa9-1fbc-494c-82e4-60d302787da2"
   },
   "outputs": [
    {
     "name": "stdout",
     "output_type": "stream",
     "text": [
      "('Juice', 'Ball')\n"
     ]
    }
   ],
   "source": [
    "print(shopping_list[1:3])"
   ]
  },
  {
   "cell_type": "code",
   "execution_count": 14,
   "metadata": {
    "colab": {
     "base_uri": "https://localhost:8080/",
     "height": 170
    },
    "executionInfo": {
     "elapsed": 7,
     "status": "error",
     "timestamp": 1645535665567,
     "user": {
      "displayName": "Emir Kiani",
      "photoUrl": "https://lh3.googleusercontent.com/a/default-user=s64",
      "userId": "02161389991804253449"
     },
     "user_tz": -180
    },
    "id": "SkeRcHnTkXo2",
    "outputId": "b5e55d6e-d04f-4932-b72f-e665c8b31c3e"
   },
   "outputs": [
    {
     "ename": "TypeError",
     "evalue": "ignored",
     "output_type": "error",
     "traceback": [
      "\u001b[0;31m---------------------------------------------------------------------------\u001b[0m",
      "\u001b[0;31mTypeError\u001b[0m                                 Traceback (most recent call last)",
      "\u001b[0;32m<ipython-input-14-5d3c93f17450>\u001b[0m in \u001b[0;36m<module>\u001b[0;34m()\u001b[0m\n\u001b[0;32m----> 1\u001b[0;31m \u001b[0mshopping_list\u001b[0m\u001b[0;34m[\u001b[0m\u001b[0;36m1\u001b[0m\u001b[0;34m]\u001b[0m \u001b[0;34m=\u001b[0m \u001b[0;34m\"Water\"\u001b[0m\u001b[0;34m\u001b[0m\u001b[0;34m\u001b[0m\u001b[0m\n\u001b[0m",
      "\u001b[0;31mTypeError\u001b[0m: 'tuple' object does not support item assignment"
     ]
    }
   ],
   "source": [
    "shopping_list[1] = \"Water\""
   ]
  }
 ],
 "metadata": {
  "colab": {
   "authorship_tag": "ABX9TyOY23/YS9ofCofd0Ni+OfFE",
   "collapsed_sections": [],
   "name": "List-Tuples.ipynb",
   "provenance": []
  },
  "kernelspec": {
   "display_name": "Python 3 (ipykernel)",
   "language": "python",
   "name": "python3"
  },
  "language_info": {
   "codemirror_mode": {
    "name": "ipython",
    "version": 3
   },
   "file_extension": ".py",
   "mimetype": "text/x-python",
   "name": "python",
   "nbconvert_exporter": "python",
   "pygments_lexer": "ipython3",
   "version": "3.9.12"
  }
 },
 "nbformat": 4,
 "nbformat_minor": 4
}
