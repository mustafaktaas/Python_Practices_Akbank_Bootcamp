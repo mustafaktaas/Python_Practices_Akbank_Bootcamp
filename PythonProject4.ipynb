{
  "nbformat": 4,
  "nbformat_minor": 0,
  "metadata": {
    "colab": {
      "provenance": [],
      "include_colab_link": true
    },
    "kernelspec": {
      "name": "python3",
      "display_name": "Python 3"
    },
    "language_info": {
      "name": "python"
    }
  },
  "cells": [
    {
      "cell_type": "markdown",
      "metadata": {
        "id": "view-in-github",
        "colab_type": "text"
      },
      "source": [
        "<a href=\"https://colab.research.google.com/github/mustafaktaas/Python_Practices_Akbank_Bootcamp/blob/main/PythonProject4.ipynb\" target=\"_parent\"><img src=\"https://colab.research.google.com/assets/colab-badge.svg\" alt=\"Open In Colab\"/></a>"
      ]
    },
    {
      "cell_type": "markdown",
      "source": [
        "#Chapter 4 \n",
        "##NumPy\n",
        "\n",
        "Rachel is very happy with the way you cleaned and structured the employee data last time, but she wants to take things one step further. The sales team wants to track the performance of the employees not only by the revenue they generated, but also taking the number of calls and the average deal size into account. For that, Rachel wants you to create a software for reporting. To be able to perform calculations on the data you decide that creating a data structure using Numpy will be best."
      ],
      "metadata": {
        "id": "QkcKMNzWAbg7"
      }
    },
    {
      "cell_type": "markdown",
      "source": [
        "### Get the data\n",
        "\n",
        "First, you need to get the data. You created lists with the relevant information in the last chapter.\n",
        "\n",
        "📌 Copy and paste the lists \"names\", \"call_numbers\", \"average_deal_size\", and \"revenues\" you created in chapter 3 and assign them to variables."
      ],
      "metadata": {
        "id": "LWlWyFTek4PO"
      }
    },
    {
      "cell_type": "code",
      "source": [
        "#Copy the lists \"names\", \"call_numbers\", \"average_deal_size\", and \"revenues\" from chapter 3\n"
      ],
      "metadata": {
        "id": "XtkCWxs4lGyX"
      },
      "execution_count": null,
      "outputs": []
    },
    {
      "cell_type": "markdown",
      "source": [
        "### Importing NumPy\n",
        "\n",
        "You plan to create a data structure using NumPy.\n",
        "\n",
        "📌 Import the NumPy library as."
      ],
      "metadata": {
        "id": "Ge6Rw3bkA1nq"
      }
    },
    {
      "cell_type": "code",
      "execution_count": null,
      "metadata": {
        "id": "bkJKAysX41P0"
      },
      "outputs": [],
      "source": [
        "#Import the NumPy library\n"
      ]
    },
    {
      "cell_type": "markdown",
      "source": [
        "###Creating an initial (base) arrays\n",
        "\n",
        "Next, you need to prepare an array in which you will store the values. The initial array will be empty. Since it will hold numerical data, the data type should be integer.\n",
        "\n",
        "📌 Create an empty array using .array(). \n",
        "\n",
        "📌 Use the *dtype* parameter to specify the data type."
      ],
      "metadata": {
        "id": "V_RyXQRPDKDX"
      }
    },
    {
      "cell_type": "code",
      "source": [
        "#Create an empty array with the data type integer\n"
      ],
      "metadata": {
        "id": "rhn8VLL5F1io"
      },
      "execution_count": null,
      "outputs": []
    },
    {
      "cell_type": "markdown",
      "source": [
        "###Functions to add the data\n",
        "\n",
        "Now that your empty array is ready, you need to transfer the data from the lists to the array. You create 2 functions functions for this. \n",
        "\n",
        "1. append_names function: A function that takes the \"names\" list and adds the index of each name to the \"data\" array.\n",
        "\n",
        "  📌 Use a for loop and the .append() method for the indexes.\n",
        "\n",
        "2. append_performance_measures function: A function that takes one of the remaining lists to add the sales performance data like number of calls, average deal size and revenue to the \"data\" array.\n",
        "\n",
        "  📌 Use the .append() method."
      ],
      "metadata": {
        "id": "RTg7VcXco1pB"
      }
    },
    {
      "cell_type": "code",
      "source": [
        "#Define the append_names function\n"
      ],
      "metadata": {
        "id": "aFt18Yn_Ai48"
      },
      "execution_count": null,
      "outputs": []
    },
    {
      "cell_type": "code",
      "source": [
        "#Define the append_performance_measures function\n"
      ],
      "metadata": {
        "id": "XZ0xJEnqUCt6"
      },
      "execution_count": null,
      "outputs": []
    },
    {
      "cell_type": "markdown",
      "source": [
        "Call the functions to add the data to the array and print the array and its shape to see the result.\n",
        "\n",
        "📌 Use the .shape() method."
      ],
      "metadata": {
        "id": "JEQ_Il_JFPJR"
      }
    },
    {
      "cell_type": "code",
      "source": [
        "#Use the append_names and append_sales_performance_measures to add the data\n",
        "\n",
        "\n",
        "#Print the array and its shape to see the result\n"
      ],
      "metadata": {
        "id": "eknqraz75Qj9"
      },
      "execution_count": null,
      "outputs": []
    },
    {
      "cell_type": "markdown",
      "source": [
        "###Reshape the array\n",
        "\n",
        "But like this, your array is not very structured. You need a 2D-array to be able to work better with it. The original data was 4 lists each with 11 values. So, the \"data\" array should have 4 rows and 11 columns. Print the result afterwards.\n",
        "\n",
        "📌 Use the .reshape() method to rearrange the values in the array.\n"
      ],
      "metadata": {
        "id": "PrHY03X6C94s"
      }
    },
    {
      "cell_type": "code",
      "source": [
        "#Use the .reshape() method to change the array structure to 4 rows and 11 columns\n",
        "\n",
        "\n",
        "#Print the resulting array and its shape\n"
      ],
      "metadata": {
        "id": "__2N4NZB5k3Q"
      },
      "execution_count": null,
      "outputs": []
    },
    {
      "cell_type": "markdown",
      "source": [
        "###Accessing values\n",
        "\n",
        "Inside the array you can access the values in different ways. \n",
        "\n",
        "1. Print each row separately. \n",
        "\n",
        "  📌 Write down the array name and the index of the row you want to access.\n"
      ],
      "metadata": {
        "id": "-JgrV_l7MIwQ"
      }
    },
    {
      "cell_type": "code",
      "source": [
        "#Print the name indexes\n"
      ],
      "metadata": {
        "id": "7IwKRbzORnjA"
      },
      "execution_count": null,
      "outputs": []
    },
    {
      "cell_type": "code",
      "source": [
        "#Print the number of calls\n"
      ],
      "metadata": {
        "id": "4TZ-6AI3AJ3k"
      },
      "execution_count": null,
      "outputs": []
    },
    {
      "cell_type": "code",
      "source": [
        "#Print the average deal sizes\n"
      ],
      "metadata": {
        "id": "6AwKKNcVP-Z4"
      },
      "execution_count": null,
      "outputs": []
    },
    {
      "cell_type": "code",
      "source": [
        "#Print the revenues \n"
      ],
      "metadata": {
        "id": "A0XcKZpKQRnI"
      },
      "execution_count": null,
      "outputs": []
    },
    {
      "cell_type": "markdown",
      "source": [
        "2. Print a specific value.\n",
        "\n",
        "  📌 Give the index of the row and the column of the value you want to access.\n",
        "  For example, to get the revenue generated by Ellen, specify the value in the 3rd row and 7th column."
      ],
      "metadata": {
        "id": "vwggtzzeAuGX"
      }
    },
    {
      "cell_type": "code",
      "source": [
        "#Print the revenue generated by Ellen\n"
      ],
      "metadata": {
        "id": "qkHN7yCiSs7z"
      },
      "execution_count": null,
      "outputs": []
    },
    {
      "cell_type": "markdown",
      "source": [
        "###Analyzing the data\n",
        "\n",
        "Great, your array is ready!\n",
        "\n",
        "The sales team has a formula that they use to calculate the performance score of an employee.\n",
        "\n",
        "\n",
        "\\begin{align}\n",
        "        \\text{Performance} = \\frac{\\text{Average deal size x Revenue}}{\\text{Number of calls}}\n",
        "    \\end{align}\n",
        "\n",
        "\n",
        "📌 Create a function called “calculate_performance” to implement this formula. It should take the employee name as an input."
      ],
      "metadata": {
        "id": "HpcNsSjVVJ76"
      }
    },
    {
      "cell_type": "code",
      "source": [
        "#Define the function calculate_performance\n"
      ],
      "metadata": {
        "id": "UoB-hSG02lmJ"
      },
      "execution_count": null,
      "outputs": []
    },
    {
      "cell_type": "markdown",
      "source": [
        "###Try it out\n",
        "\n",
        "Let's check Ellen's performance score and print the result."
      ],
      "metadata": {
        "id": "BJp7Qgxv5cVX"
      }
    },
    {
      "cell_type": "code",
      "source": [
        "#Use the calculate performance function to print Ellen's performance\n"
      ],
      "metadata": {
        "id": "kd2J09dg6n4i"
      },
      "execution_count": null,
      "outputs": []
    },
    {
      "cell_type": "markdown",
      "source": [
        "###Calculate the performance of each employee\n",
        "Now you need to calculate the performance score of each employee and add these scores to a list.\n",
        "\n",
        "📌 Create an empty list \"performance_scores\" to hold the scores.\n",
        "\n",
        "📌 Use a for loop to convert the scores into integer type data and append it to the list \"sperformance_scores\"."
      ],
      "metadata": {
        "id": "4zUQIn2s7wwy"
      }
    },
    {
      "cell_type": "code",
      "source": [
        "#Calculate the performance of each employee\n"
      ],
      "metadata": {
        "id": "xTroGqo745AO"
      },
      "execution_count": null,
      "outputs": []
    },
    {
      "cell_type": "markdown",
      "source": [
        "###Add the scores to the \"data\" array\n",
        "\n",
        "Next, you need to add the scores to your \"data\" array and print the result.\n",
        "\n",
        "📌 Use the .concatenate() method to add the \"performance_scores\" list to the \"data\" array. "
      ],
      "metadata": {
        "id": "JEjPMpP7FvOw"
      }
    },
    {
      "cell_type": "code",
      "source": [
        "#Add the \"performance_scores\" list to the \"data\" array\n",
        "\n",
        "\n",
        "#Print the resulting array\n"
      ],
      "metadata": {
        "id": "zm4Zbzl9-1n-"
      },
      "execution_count": null,
      "outputs": []
    },
    {
      "cell_type": "markdown",
      "source": [
        "###Find out the best and worst performing employees\n",
        "\n",
        "Finally, you need to determine the best and worst performing employees.\n",
        "\n",
        "📌 Use the .argmax() and .argmin() methods to find the index of the best and worst performing employees."
      ],
      "metadata": {
        "id": "oWMMtqfDUZVs"
      }
    },
    {
      "cell_type": "code",
      "source": [
        "#Use .argmax() and .argmin() methods to determine the best and worst performing employees\n",
        "\n",
        "\n",
        "#Print out the results\n"
      ],
      "metadata": {
        "id": "58fNLhRsQ18I"
      },
      "execution_count": null,
      "outputs": []
    }
  ]
}