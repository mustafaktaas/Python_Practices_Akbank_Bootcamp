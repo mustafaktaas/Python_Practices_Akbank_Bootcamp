{
  "cells": [
    {
      "cell_type": "markdown",
      "metadata": {
        "id": "view-in-github",
        "colab_type": "text"
      },
      "source": [
        "<a href=\"https://colab.research.google.com/github/mustafaktaas/Python_Practices_Akbank_Bootcamp/blob/main/PythonPreject5.ipynb\" target=\"_parent\"><img src=\"https://colab.research.google.com/assets/colab-badge.svg\" alt=\"Open In Colab\"/></a>"
      ]
    },
    {
      "cell_type": "markdown",
      "source": [
        "# Chapter 5\n",
        "##Pandas\n",
        "The sales department wants to compare the performances of this and last year. Firstly, they delivered your team the performance review from last year. The data is in a comma-separated format, a .csv file called “employee_revenue_lastyear.csv”. It is in tabular form and includes information about 11 employees. \n"
      ],
      "metadata": {
        "id": "tibOSNE10bt5"
      },
      "id": "tibOSNE10bt5"
    },
    {
      "cell_type": "markdown",
      "id": "72638c41",
      "metadata": {
        "id": "72638c41"
      },
      "source": [
        "###Importing libraries\n",
        "First, you need to import the required libraries. \n",
        "\n",
        "📌 Import the Pandas and NumPy libraries."
      ]
    },
    {
      "cell_type": "code",
      "execution_count": null,
      "id": "12c57f6a",
      "metadata": {
        "id": "12c57f6a"
      },
      "outputs": [],
      "source": [
        "#Import Pandas and NumPy\n"
      ]
    },
    {
      "cell_type": "markdown",
      "id": "8363aa4f",
      "metadata": {
        "id": "8363aa4f"
      },
      "source": [
        "###Get the data from last year\n",
        "Next, you need to get the data from the .csv file that the sales team provided. \n",
        "\n",
        "📌 Use the .read_csv() function of the Pandas library to import the data from \"employee_revenue_lastyear.csv\" and assign it to the variable \"last_year\"."
      ]
    },
    {
      "cell_type": "code",
      "execution_count": null,
      "id": "e198825c",
      "metadata": {
        "id": "e198825c"
      },
      "outputs": [],
      "source": [
        "#Read the data from the \"employee_revenue_lastyear.csv\" file using the .read_csv() method\n"
      ]
    },
    {
      "cell_type": "markdown",
      "id": "15df0bc3",
      "metadata": {
        "id": "15df0bc3"
      },
      "source": [
        "###Check the imported data\n",
        "It is important to check if everything is included. But you don't need to see the whole DataFrame, it will be enough to see the first and last rows.\n",
        "\n",
        "📌 Use the .head() function to get the first n-rows of the DataFrame:\n",
        "  1. Without specifying any number to get the first 5 rows by default.\n",
        "  2. Give a number n as an argument to print the first n-rows, for example 8."
      ]
    },
    {
      "cell_type": "code",
      "execution_count": null,
      "id": "f609da6d",
      "metadata": {
        "id": "f609da6d"
      },
      "outputs": [],
      "source": [
        "#Use the .head() function without specifying any number\n"
      ]
    },
    {
      "cell_type": "code",
      "execution_count": null,
      "id": "4c109687",
      "metadata": {
        "id": "4c109687"
      },
      "outputs": [],
      "source": [
        "#Use the .head() function with a number n as an argument\n"
      ]
    },
    {
      "cell_type": "markdown",
      "id": "7b1d4717",
      "metadata": {
        "id": "7b1d4717"
      },
      "source": [
        "📌 Use the .tail() function to get the last n-rows of the DataFrame:\n",
        "  1. Without specifying any number to get the last 5 rows by default.\n",
        "  2. Give a number n as an argument to print the last n-rows, for example 6."
      ]
    },
    {
      "cell_type": "code",
      "execution_count": null,
      "id": "ecb4f068",
      "metadata": {
        "id": "ecb4f068"
      },
      "outputs": [],
      "source": [
        "#Use the .tail() function without specifying any number\n"
      ]
    },
    {
      "cell_type": "code",
      "execution_count": null,
      "id": "39ed1b7f",
      "metadata": {
        "id": "39ed1b7f"
      },
      "outputs": [],
      "source": [
        "#Use the .tail() function with a number n as an argument\n"
      ]
    },
    {
      "cell_type": "markdown",
      "id": "eb4a1671",
      "metadata": {
        "id": "eb4a1671"
      },
      "source": [
        "Another way to quickly get the number of rows and columns is using the shape attribute.\n",
        "\n",
        "📌 Use the *shape* attribute to display the number of rows and columns."
      ]
    },
    {
      "cell_type": "code",
      "execution_count": null,
      "id": "9faef542",
      "metadata": {
        "id": "9faef542"
      },
      "outputs": [],
      "source": [
        "#Use the shape attribute to display the number of rows and columns \n"
      ]
    },
    {
      "cell_type": "markdown",
      "id": "b4f6debd",
      "metadata": {
        "id": "b4f6debd"
      },
      "source": [
        "If you want to get more details about the DataFrame, you can use the .info() function.\n",
        "\n",
        "📌 Use the .info() function to get more details about the DataFrame."
      ]
    },
    {
      "cell_type": "code",
      "execution_count": null,
      "id": "91b7885a",
      "metadata": {
        "id": "91b7885a"
      },
      "outputs": [],
      "source": [
        "#Use the .info() function to get more details\n"
      ]
    },
    {
      "cell_type": "markdown",
      "id": "c8018dfd",
      "metadata": {
        "id": "c8018dfd"
      },
      "source": [
        "###Add information to the DataFrame\n",
        "Now you should have enough insights about the DataFrame. :)\n",
        "\n",
        "You know that the data in the DataFrame is from 2021. This information should be included, so you decide to add the column \"Year\".\n",
        "\n",
        "📌 Add the column \"Year\" to the DataFrame and pass the value \"2021\" to its rows. Then display the DataFrame to see the result."
      ]
    },
    {
      "cell_type": "code",
      "execution_count": null,
      "id": "84ca959b",
      "metadata": {
        "id": "84ca959b"
      },
      "outputs": [],
      "source": [
        "#Add the column \"Year\" and assign the value \"2021\" to its rows\n",
        "\n",
        "#Display the DataFrame\n"
      ]
    },
    {
      "cell_type": "markdown",
      "id": "5fd0ab2f",
      "metadata": {
        "id": "5fd0ab2f"
      },
      "source": [
        "### Get the data from this year\n",
        "\n",
        "You also need to add the data from this year to be able to compare both years.\n",
        "You already prepared this data in chapter 4.\n",
        "\n",
        "📌 Copy and paste the NumPy arrays \"names\", \"call_numbers\", \"average_deal_sizes\", and \"revenues\" from chapter 4."
      ]
    },
    {
      "cell_type": "code",
      "execution_count": null,
      "id": "1ac4f458",
      "metadata": {
        "id": "1ac4f458"
      },
      "outputs": [],
      "source": [
        "#Copy and paste the NumPy arrays \"names\", \"call_numbers\", \"average_deal_sizes\", and \"revenues\"\n"
      ]
    },
    {
      "cell_type": "markdown",
      "id": "fdd7b85b",
      "metadata": {
        "id": "fdd7b85b"
      },
      "source": [
        "Now create a DataFrame using these arrays. \n",
        "\n",
        "📌 Create a dictionary with the arrays. Specify the column names in the keys.\n",
        "\n",
        "📌 Convert the dictionary to a Pandas DataFrame \"current_year\" and use the .head() function to check it."
      ]
    },
    {
      "cell_type": "code",
      "execution_count": null,
      "id": "cba9c5c5",
      "metadata": {
        "id": "cba9c5c5"
      },
      "outputs": [],
      "source": [
        "#Create a dictionary with the column names as keys and the arrays as values\n",
        "\n",
        "#Convert the dictionary to a Pandas Dataframe\n",
        "\n",
        "#Use the .head() function to check it\n"
      ]
    },
    {
      "cell_type": "markdown",
      "id": "036b6b7b",
      "metadata": {
        "id": "036b6b7b"
      },
      "source": [
        "Similar to what we did with last year's data, add the year information.\n",
        "\n",
        "📌 Add the column \"Year\" to the DataFrame and pass the value \"2022\" to its rows. Then use the .head() function to see the result."
      ]
    },
    {
      "cell_type": "code",
      "execution_count": null,
      "id": "93d19278",
      "metadata": {
        "id": "93d19278"
      },
      "outputs": [],
      "source": [
        "#Add the column \"Year\" and assign the value \"2022\" to its rows\n",
        "\n",
        "#Use the .head() function to see the result\n"
      ]
    },
    {
      "cell_type": "markdown",
      "id": "30a98a5b",
      "metadata": {
        "id": "30a98a5b"
      },
      "source": [
        "###Compare the two DataFrames\n",
        "\n",
        "Now that you printed the DataFrame \"current_year\", print \"last_year\" as well to compare them.\n",
        "\n",
        "📌 Use the .head() function to print the DataFrame \"last_year\"."
      ]
    },
    {
      "cell_type": "code",
      "execution_count": null,
      "id": "e719e841",
      "metadata": {
        "id": "e719e841"
      },
      "outputs": [],
      "source": [
        "#Use the .head() function to print the DataFrame \"last_year\"\n"
      ]
    },
    {
      "cell_type": "markdown",
      "id": "c98633be",
      "metadata": {
        "id": "c98633be"
      },
      "source": [
        "You notice that the column names of the two DataFrames are different. You need to fix this problem.\n",
        "\n",
        "📌 Assign the column names of \"last_year\" to \"current_year\" by using the *columns* attribute."
      ]
    },
    {
      "cell_type": "code",
      "execution_count": null,
      "id": "1b285acc",
      "metadata": {
        "id": "1b285acc"
      },
      "outputs": [],
      "source": [
        "#Use the columns attribute to assign the column names of \"last_year\" to \"current_year\"\n"
      ]
    },
    {
      "cell_type": "markdown",
      "id": "1377bf5f",
      "metadata": {
        "id": "1377bf5f"
      },
      "source": [
        "### Concatenate two DataFrames\n",
        "Now that the two DataFrames have the same column names, You can merge - or concatenate - them into a single DataFrame \"all_data\".\n",
        "\n",
        "📌 Use the .concat() function with the argument \"axis\" set to 0. Then display the DataFrame."
      ]
    },
    {
      "cell_type": "code",
      "execution_count": null,
      "id": "30fdf172",
      "metadata": {
        "id": "30fdf172"
      },
      "outputs": [],
      "source": [
        "#Use the .concat() function to concatenate the two DataFrames\n",
        "\n",
        "#Display the DataFrame \"all_data\"\n"
      ]
    },
    {
      "cell_type": "markdown",
      "id": "52fe2da3",
      "metadata": {
        "id": "52fe2da3"
      },
      "source": [
        "###Check the data\n",
        "\n",
        "This worked out well, but you noticed that the indexes are incorrect. You need to reset them.\n",
        "\n",
        "📌 Use the .reset_index() function. Set the arguments \"drop\" and \"inplace\" to \"True\". Then display the DataFrame."
      ]
    },
    {
      "cell_type": "code",
      "execution_count": null,
      "id": "b9cfaeff",
      "metadata": {
        "id": "b9cfaeff"
      },
      "outputs": [],
      "source": [
        "#Use the .reset_index() function to reset the indexes\n",
        "\n",
        "#Display the DataFrame \"all_data\"\n"
      ]
    },
    {
      "cell_type": "markdown",
      "id": "45dfd1c5",
      "metadata": {
        "id": "45dfd1c5"
      },
      "source": [
        "Next, you need to check the entries for missing values.\n",
        "\n",
        "📌 Use the isna.() and .any() function to see if there are missing values in the DataFrame."
      ]
    },
    {
      "cell_type": "code",
      "execution_count": null,
      "id": "66ab8074",
      "metadata": {
        "id": "66ab8074"
      },
      "outputs": [],
      "source": [
        "#Check the DataFrame for missing values\n"
      ]
    },
    {
      "cell_type": "markdown",
      "id": "9596dfbb",
      "metadata": {
        "id": "9596dfbb"
      },
      "source": [
        "From the output, you see that there are missing values in the columns \"Average deal size\" and \"Revenue\". You decide to fix this problem by filling the missing values using with the mean of the respective column.\n",
        "\n",
        "📌 Use the .fillna() function to fill the missing values. Use the .mean() function to set the argument \"value\" to the mean of \"all_data\". Again, set \"inplace\" to \"True\"."
      ]
    },
    {
      "cell_type": "code",
      "execution_count": null,
      "id": "9784b237",
      "metadata": {
        "id": "9784b237"
      },
      "outputs": [],
      "source": [
        "#Replace the missing values with the mean of the respective column\n",
        "\n",
        "#Display the DataFrame\n"
      ]
    },
    {
      "cell_type": "markdown",
      "id": "86e42100",
      "metadata": {
        "id": "86e42100"
      },
      "source": [
        "Also, there may be some duplicated rows, you need to drop them.\n",
        "\n",
        "📌 Use the .drop_duplicates() method to remove any duplicated rows.\n",
        "\n",
        "📌 Reset the indexes again using the reset_index() function."
      ]
    },
    {
      "cell_type": "code",
      "execution_count": null,
      "id": "5c8b0e48",
      "metadata": {
        "id": "5c8b0e48"
      },
      "outputs": [],
      "source": [
        "#Drop the duplicates\n",
        "\n",
        "#Reset the indexes\n",
        "\n",
        "#Display the DataFrame \n"
      ]
    },
    {
      "cell_type": "markdown",
      "id": "cd7cfeb5",
      "metadata": {
        "id": "cd7cfeb5"
      },
      "source": [
        "### Data analysis\n",
        "#### Statistical analysis\n",
        "The DataFrame is ready, great!\n",
        "\n",
        "Now you can use it to analyse the overall performance of the employees over the last two years. You prepare a summary of the statistics.\n",
        "\n",
        "📌 Use the .describe() method."
      ]
    },
    {
      "cell_type": "code",
      "execution_count": null,
      "id": "1b306146",
      "metadata": {
        "id": "1b306146"
      },
      "outputs": [],
      "source": [
        "#Use the .descrbe() method to get a summary of the statistics\n"
      ]
    },
    {
      "cell_type": "markdown",
      "id": "24af4eca",
      "metadata": {
        "id": "24af4eca"
      },
      "source": [
        "You can do the same for each year separately. \n",
        "\n",
        "📌 Prepare a summary of the statistics for the data from 2021.\n",
        "\n",
        "📌 Prepare a summary of the statistics for the data from 2022."
      ]
    },
    {
      "cell_type": "code",
      "execution_count": null,
      "id": "0509947e",
      "metadata": {
        "id": "0509947e"
      },
      "outputs": [],
      "source": [
        "#Use the .descrbe() method to get a summary of the statistics for 2021\n",
        "\n",
        "#Use the .descrbe() method to get a summary of the statistics for 2022\n"
      ]
    },
    {
      "cell_type": "markdown",
      "id": "45b770e8",
      "metadata": {
        "id": "45b770e8"
      },
      "source": [
        "#### Ranking of the employees by revenue\n",
        "You also want to rank the employees by the generated revenue. \n",
        "\n",
        "📌 Use the .sort_values() method to sort the values by the column “Revenue”.\n"
      ]
    },
    {
      "cell_type": "code",
      "execution_count": null,
      "id": "5e161229",
      "metadata": {
        "id": "5e161229"
      },
      "outputs": [],
      "source": [
        "#Sort the DataFrame by the column \"Revenue\"\n"
      ]
    },
    {
      "cell_type": "markdown",
      "source": [
        "As you did with the .describe() function, you can also use conditions to filter information. \n",
        "\n",
        "📌 Sort the revenue values of 2022."
      ],
      "metadata": {
        "id": "BeOqqCKjPqI2"
      },
      "id": "BeOqqCKjPqI2"
    },
    {
      "cell_type": "code",
      "execution_count": null,
      "id": "dc96cf9a",
      "metadata": {
        "id": "dc96cf9a"
      },
      "outputs": [],
      "source": [
        "#Sort the revenue values od 2022\n"
      ]
    },
    {
      "cell_type": "markdown",
      "id": "ad9997c7",
      "metadata": {
        "id": "ad9997c7"
      },
      "source": [
        "#### How many years of employment?\n",
        "\n",
        "Finally, you can count how many times an employee appears in the DataFrame to determine which employee has worked for the company for two years.\n",
        "\n",
        "📌 Use the value_counts() function for the column \"Name\"."
      ]
    },
    {
      "cell_type": "code",
      "execution_count": null,
      "id": "167f8fbc",
      "metadata": {
        "id": "167f8fbc"
      },
      "outputs": [],
      "source": [
        "#Count how often the names of the employees appear in the DataFrame\n"
      ]
    }
  ],
  "metadata": {
    "kernelspec": {
      "display_name": "Python 3",
      "language": "python",
      "name": "python3"
    },
    "language_info": {
      "codemirror_mode": {
        "name": "ipython",
        "version": 3
      },
      "file_extension": ".py",
      "mimetype": "text/x-python",
      "name": "python",
      "nbconvert_exporter": "python",
      "pygments_lexer": "ipython3",
      "version": "3.8.8"
    },
    "colab": {
      "provenance": [],
      "include_colab_link": true
    }
  },
  "nbformat": 4,
  "nbformat_minor": 5
}